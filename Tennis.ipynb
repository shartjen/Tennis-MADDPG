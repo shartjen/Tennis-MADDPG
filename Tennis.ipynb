{
 "cells": [
  {
   "cell_type": "markdown",
   "metadata": {},
   "source": [
    "# Collaboration and Competition\n",
    "\n",
    "---\n",
    "\n",
    "In this notebook, you will learn how to use the Unity ML-Agents environment for the third project of the [Deep Reinforcement Learning Nanodegree](https://www.udacity.com/course/deep-reinforcement-learning-nanodegree--nd893) program.\n",
    "\n",
    "### 1. Start the Environment\n",
    "\n",
    "We begin by importing the necessary packages.  If the code cell below returns an error, please revisit the project instructions to double-check that you have installed [Unity ML-Agents](https://github.com/Unity-Technologies/ml-agents/blob/master/docs/Installation.md) and [NumPy](http://www.numpy.org/)."
   ]
  },
  {
   "cell_type": "code",
   "execution_count": 1,
   "metadata": {},
   "outputs": [],
   "source": [
    "from unityagents import UnityEnvironment\n",
    "import numpy as np"
   ]
  },
  {
   "cell_type": "markdown",
   "metadata": {},
   "source": [
    "Next, we will start the environment!  **_Before running the code cell below_**, change the `file_name` parameter to match the location of the Unity environment that you downloaded.\n",
    "\n",
    "- **Mac**: `\"path/to/Tennis.app\"`\n",
    "- **Windows** (x86): `\"path/to/Tennis_Windows_x86/Tennis.exe\"`\n",
    "- **Windows** (x86_64): `\"path/to/Tennis_Windows_x86_64/Tennis.exe\"`\n",
    "- **Linux** (x86): `\"path/to/Tennis_Linux/Tennis.x86\"`\n",
    "- **Linux** (x86_64): `\"path/to/Tennis_Linux/Tennis.x86_64\"`\n",
    "- **Linux** (x86, headless): `\"path/to/Tennis_Linux_NoVis/Tennis.x86\"`\n",
    "- **Linux** (x86_64, headless): `\"path/to/Tennis_Linux_NoVis/Tennis.x86_64\"`\n",
    "\n",
    "For instance, if you are using a Mac, then you downloaded `Tennis.app`.  If this file is in the same folder as the notebook, then the line below should appear as follows:\n",
    "```\n",
    "env = UnityEnvironment(file_name=\"Tennis.app\")\n",
    "```"
   ]
  },
  {
   "cell_type": "code",
   "execution_count": 2,
   "metadata": {},
   "outputs": [
    {
     "name": "stderr",
     "output_type": "stream",
     "text": [
      "INFO:unityagents:\n",
      "'Academy' started successfully!\n",
      "Unity Academy name: Academy\n",
      "        Number of Brains: 1\n",
      "        Number of External Brains : 1\n",
      "        Lesson number : 0\n",
      "        Reset Parameters :\n",
      "\t\t\n",
      "Unity brain name: TennisBrain\n",
      "        Number of Visual Observations (per agent): 0\n",
      "        Vector Observation space type: continuous\n",
      "        Vector Observation space size (per agent): 8\n",
      "        Number of stacked Vector Observation: 3\n",
      "        Vector Action space type: continuous\n",
      "        Vector Action space size (per agent): 2\n",
      "        Vector Action descriptions: , \n"
     ]
    }
   ],
   "source": [
    "env_file_name = \"Tennis_Windows_x86_64/Tennis.exe\"\n",
    "# env = UnityEnvironment(file_name=env_file_name)\n",
    "env = UnityEnvironment(file_name=env_file_name,no_graphics=True)"
   ]
  },
  {
   "cell_type": "markdown",
   "metadata": {},
   "source": [
    "Environments contain **_brains_** which are responsible for deciding the actions of their associated agents. Here we check for the first brain available, and set it as the default brain we will be controlling from Python."
   ]
  },
  {
   "cell_type": "code",
   "execution_count": 3,
   "metadata": {},
   "outputs": [],
   "source": [
    "# get the default brain\n",
    "brain_name = env.brain_names[0]\n",
    "brain = env.brains[brain_name]"
   ]
  },
  {
   "cell_type": "markdown",
   "metadata": {},
   "source": [
    "### 2. Examine the State and Action Spaces\n",
    "\n",
    "In this environment, two agents control rackets to bounce a ball over a net. If an agent hits the ball over the net, it receives a reward of +0.1.  If an agent lets a ball hit the ground or hits the ball out of bounds, it receives a reward of -0.01.  Thus, the goal of each agent is to keep the ball in play.\n",
    "\n",
    "The observation space consists of 8 variables corresponding to the position and velocity of the ball and racket. Two continuous actions are available, corresponding to movement toward (or away from) the net, and jumping. \n",
    "\n",
    "Run the code cell below to print some information about the environment."
   ]
  },
  {
   "cell_type": "code",
   "execution_count": 4,
   "metadata": {},
   "outputs": [
    {
     "name": "stdout",
     "output_type": "stream",
     "text": [
      "Number of agents: 2\n",
      "Size of each action: 2\n",
      "There are 2 agents. Each observes a state with length: 24\n",
      "The state for the first agent looks like: [ 0.          0.          0.          0.          0.          0.\n",
      "  0.          0.          0.          0.          0.          0.\n",
      "  0.          0.          0.          0.         -6.65278625 -1.5\n",
      " -0.          0.          6.83172083  6.         -0.          0.        ]\n",
      "states shape :  (2, 24)\n",
      "Both states look like :  [[ 0.          0.          0.          0.          0.          0.\n",
      "   0.          0.          0.          0.          0.          0.\n",
      "   0.          0.          0.          0.         -6.65278625 -1.5\n",
      "  -0.          0.          6.83172083  6.         -0.          0.        ]\n",
      " [ 0.          0.          0.          0.          0.          0.\n",
      "   0.          0.          0.          0.          0.          0.\n",
      "   0.          0.          0.          0.         -6.4669857  -1.5\n",
      "   0.          0.         -6.83172083  6.          0.          0.        ]]\n",
      "[[  0.           0.           0.           0.           0.\n",
      "    0.           0.           0.           0.           0.\n",
      "    0.           0.           0.           0.           0.\n",
      "    0.         -13.30557251  -3.          -0.           0.\n",
      "   13.66344166  12.          -0.           0.        ]\n",
      " [  0.           0.           0.           0.           0.\n",
      "    0.           0.           0.           0.           0.\n",
      "    0.           0.           0.           0.           0.\n",
      "    0.         -12.93397141  -3.           0.           0.\n",
      "  -13.66344166  12.           0.           0.        ]]\n"
     ]
    }
   ],
   "source": [
    "# reset the environment\n",
    "env_info = env.reset(train_mode=True)[brain_name]\n",
    "\n",
    "# number of agents \n",
    "num_agents = len(env_info.agents)\n",
    "print('Number of agents:', num_agents)\n",
    "\n",
    "# size of each action\n",
    "action_size = brain.vector_action_space_size\n",
    "print('Size of each action:', action_size)\n",
    "\n",
    "# examine the state space \n",
    "states = env_info.vector_observations\n",
    "state_size = states.shape[1]\n",
    "print('There are {} agents. Each observes a state with length: {}'.format(states.shape[0], state_size))\n",
    "print('The state for the first agent looks like:', states[0])\n",
    "print('states shape : ',states.shape)\n",
    "print('Both states look like : ',states)\n",
    "print(2*states)"
   ]
  },
  {
   "cell_type": "markdown",
   "metadata": {},
   "source": [
    "### 3. Take Random Actions in the Environment\n",
    "\n",
    "In the next code cell, you will learn how to use the Python API to control the agents and receive feedback from the environment.\n",
    "\n",
    "Once this cell is executed, you will watch the agents' performance, if they select actions at random with each time step.  A window should pop up that allows you to observe the agents.\n",
    "\n",
    "Of course, as part of the project, you'll have to change the code so that the agents are able to use their experiences to gradually choose better actions when interacting with the environment!"
   ]
  },
  {
   "cell_type": "code",
   "execution_count": 5,
   "metadata": {
    "scrolled": false
   },
   "outputs": [],
   "source": [
    "if False:\n",
    "    total_scores = []\n",
    "    for i in range(100):                                        # play game for 5 episodes\n",
    "        env_info = env.reset(train_mode=True)[brain_name]     # reset the environment    \n",
    "        states = env_info.vector_observations                  # get the current state (for each agent)\n",
    "        scores = np.zeros(num_agents)                          # initialize the score (for each agent)\n",
    "        t = 0\n",
    "        while True:\n",
    "            actions = np.random.randn(num_agents, action_size) # select an action (for each agent)\n",
    "            actions = np.clip(actions, -1, 1)                  # all actions between -1 and 1\n",
    "            # print('actions : ',actions)\n",
    "            env_info = env.step(actions)[brain_name]           # send all actions to tne environment\n",
    "            t += 1\n",
    "            next_states = env_info.vector_observations         # get next state (for each agent)\n",
    "            rewards = env_info.rewards                         # get reward (for each agent)\n",
    "            dones = env_info.local_done                        # see if episode finished\n",
    "            scores += env_info.rewards                         # update the score (for each agent)\n",
    "            states = next_states                               # roll over states to next time step\n",
    "            if np.any(dones):                                  # exit loop if episode finished\n",
    "                break\n",
    "        print('Score (max over agents) from episode {}: {}, and {} steps taken'.format(i, np.max(scores),t))\n",
    "        print(scores)\n",
    "        total_scores.append(scores)\n",
    "    print('Average Random Score : ', np.mean(total_scores))\n",
    "        \n",
    "def plot_results(results):\n",
    "    import matplotlib.pyplot as plt\n",
    "    import torch\n",
    "    plt.ion()\n",
    "\n",
    "    fig = plt.figure()\n",
    "    ax = fig.add_subplot(111)\n",
    "    plt.plot(np.arange(len(results.all_rewards)), [np.sum(ar) for ar in results.all_rewards])\n",
    "    plt.plot(np.arange(len(results.avg_rewards)), results.avg_rewards)\n",
    "    plt.ylabel('Rewards')\n",
    "    plt.xlabel('Episode #')\n",
    "    plt.show()\n",
    "\n",
    "    fig = plt.figure()\n",
    "    ax = fig.add_subplot(111)\n",
    "    plt.plot(np.arange(len(results.critic_loss)), results.critic_loss)\n",
    "    plt.ylabel('critic_losses')\n",
    "    plt.xlabel('Learn Step #')\n",
    "    plt.show()\n",
    "\n",
    "    fig = plt.figure()\n",
    "    ax = fig.add_subplot(111)\n",
    "    plt.plot(np.arange(len(results.actor_loss)), results.actor_loss)\n",
    "    plt.ylabel('actor_losses')\n",
    "    plt.xlabel('Learn Step #')\n",
    "    plt.show()\n"
   ]
  },
  {
   "cell_type": "markdown",
   "metadata": {},
   "source": [
    "When finished, you can close the environment."
   ]
  },
  {
   "cell_type": "code",
   "execution_count": null,
   "metadata": {
    "scrolled": false
   },
   "outputs": [
    {
     "name": "stderr",
     "output_type": "stream",
     "text": [
      "episode: 0/3000   0% ETA:  --:--:-- |                                        | \r"
     ]
    },
    {
     "name": "stdout",
     "output_type": "stream",
     "text": [
      "-------------------------------------\n",
      "New Run :\n",
      "-------------------------------------\n",
      "Config Parameters    : \n",
      "gamma                : 0.99\n",
      "tau                  : 0.01\n",
      "action_size          : 2\n",
      "state_size           : 24\n",
      "hidden_size          : 256\n",
      "buffer_size          : 50000\n",
      "batch_size           : 256\n",
      "seed                 : 8\n",
      "max_episodes         : 3000\n",
      "dropout              : 0.01\n",
      "learn_every          : 2\n",
      "critic_learning_rate : 0.001\n",
      "actor_learning_rate  : 0.001\n",
      "noise_decay          : 0.9999\n",
      "sigma                : 0.6\n",
      "num_agents           : 2\n",
      "env_file_name        : Tennis_Windows_x86_64/Tennis.exe\n",
      "train_mode           : True\n",
      "brain_name           : TennisBrain\n",
      "Running on device :  cpu\n"
     ]
    },
    {
     "name": "stderr",
     "output_type": "stream",
     "text": [
      "c:\\programdata\\anaconda3\\envs\\drlnd\\lib\\site-packages\\numpy\\core\\fromnumeric.py:3335: RuntimeWarning: Mean of empty slice.\n",
      "  out=out, **kwargs)\n",
      "c:\\programdata\\anaconda3\\envs\\drlnd\\lib\\site-packages\\numpy\\core\\_methods.py:161: RuntimeWarning: invalid value encountered in double_scalars\n",
      "  ret = ret.dtype.type(ret / rcount)\n"
     ]
    },
    {
     "name": "stdout",
     "output_type": "stream",
     "text": [
      "Episode 0 with 15 steps || Reward : [ 0.   -0.01] || avg reward :  0.000 || Noise  1.000 || 0.108 seconds, mem : 15\n",
      "\u001b[0m"
     ]
    },
    {
     "name": "stderr",
     "output_type": "stream",
     "text": [
      "episode: 22/3000   0% ETA:  0:07:06 |                                        | \r"
     ]
    },
    {
     "name": "stdout",
     "output_type": "stream",
     "text": [
      "Episode 20 with 15 steps || Reward : [ 0.   -0.01] || avg reward :  0.000 || Noise  0.998 || 0.314 seconds, mem : 299\n",
      "\u001b[0m"
     ]
    },
    {
     "name": "stderr",
     "output_type": "stream",
     "text": [
      "episode: 42/3000   1% ETA:  0:07:34 |                                        | \r"
     ]
    },
    {
     "name": "stdout",
     "output_type": "stream",
     "text": [
      "Episode 40 with 15 steps || Reward : [-0.01  0.  ] || avg reward :  0.000 || Noise  0.996 || 0.178 seconds, mem : 583\n",
      "\u001b[0m"
     ]
    },
    {
     "name": "stderr",
     "output_type": "stream",
     "text": [
      "episode: 57/3000   1% ETA:  0:07:39 |                                        | \r"
     ]
    },
    {
     "name": "stdout",
     "output_type": "stream",
     "text": [
      "Episode 60 with 15 steps || Reward : [-0.01  0.  ] || avg reward :  0.000 || Noise  0.994 || 0.164 seconds, mem : 867\n",
      "\u001b[0m"
     ]
    },
    {
     "name": "stderr",
     "output_type": "stream",
     "text": [
      "episode: 81/3000   2% ETA:  0:07:16 |\\                                       | \r"
     ]
    },
    {
     "name": "stdout",
     "output_type": "stream",
     "text": [
      "Episode 80 with 15 steps || Reward : [ 0.   -0.01] || avg reward :  0.000 || Noise  0.992 || 0.123 seconds, mem : 1151\n",
      "\u001b[0m"
     ]
    },
    {
     "name": "stderr",
     "output_type": "stream",
     "text": [
      "episode: 93/3000   3% ETA:  0:06:50 ||                                       | \r"
     ]
    },
    {
     "name": "stdout",
     "output_type": "stream",
     "text": [
      "Episode 100 with 15 steps || Reward : [ 0.   -0.01] || avg reward :  0.000 || Noise  0.990 || 0.123 seconds, mem : 1435\n",
      "\u001b[0m"
     ]
    },
    {
     "name": "stderr",
     "output_type": "stream",
     "text": [
      "episode: 117/3000   3% ETA:  0:06:14 |-                                      | \r"
     ]
    },
    {
     "name": "stdout",
     "output_type": "stream",
     "text": [
      "Episode 120 with 15 steps || Reward : [-0.01  0.  ] || avg reward :  0.000 || Noise  0.988 || 0.116 seconds, mem : 1719\n",
      "\u001b[0m"
     ]
    },
    {
     "name": "stderr",
     "output_type": "stream",
     "text": [
      "episode: 137/3000   4% ETA:  0:06:01 ||                                      | \r"
     ]
    },
    {
     "name": "stdout",
     "output_type": "stream",
     "text": [
      "Episode 140 with 15 steps || Reward : [-0.01  0.  ] || avg reward :  0.000 || Noise  0.986 || 0.219 seconds, mem : 2003\n",
      "\u001b[0m"
     ]
    },
    {
     "name": "stderr",
     "output_type": "stream",
     "text": [
      "episode: 162/3000   5% ETA:  0:06:26 |||                                     | \r"
     ]
    },
    {
     "name": "stdout",
     "output_type": "stream",
     "text": [
      "Episode 160 with 15 steps || Reward : [ 0.   -0.01] || avg reward :  0.000 || Noise  0.984 || 0.247 seconds, mem : 2287\n",
      "\u001b[0m"
     ]
    },
    {
     "name": "stderr",
     "output_type": "stream",
     "text": [
      "episode: 180/3000   6% ETA:  0:06:36 |\\\\                                     | \r"
     ]
    },
    {
     "name": "stdout",
     "output_type": "stream",
     "text": [
      "Episode 180 with 15 steps || Reward : [-0.01  0.  ] || avg reward :  0.000 || Noise  0.982 || 0.208 seconds, mem : 2571\n",
      "\u001b[0m"
     ]
    },
    {
     "name": "stderr",
     "output_type": "stream",
     "text": [
      "episode: 201/3000   6% ETA:  0:06:37 |--                                     | \r"
     ]
    },
    {
     "name": "stdout",
     "output_type": "stream",
     "text": [
      "Episode 200 with 15 steps || Reward : [-0.01  0.  ] || avg reward :  0.000 || Noise  0.980 || 0.213 seconds, mem : 2855\n",
      "\u001b[0m"
     ]
    },
    {
     "name": "stderr",
     "output_type": "stream",
     "text": [
      "episode: 221/3000   7% ETA:  0:06:43 |//                                     | \r"
     ]
    },
    {
     "name": "stdout",
     "output_type": "stream",
     "text": [
      "Episode 220 with 15 steps || Reward : [ 0.   -0.01] || avg reward :  0.000 || Noise  0.978 || 0.191 seconds, mem : 3139\n",
      "\u001b[0m"
     ]
    },
    {
     "name": "stderr",
     "output_type": "stream",
     "text": [
      "episode: 242/3000   8% ETA:  0:06:42 ||||                                    | \r"
     ]
    },
    {
     "name": "stdout",
     "output_type": "stream",
     "text": [
      "Episode 240 with 15 steps || Reward : [-0.01  0.  ] || avg reward :  0.000 || Noise  0.976 || 0.207 seconds, mem : 3423\n",
      "\u001b[0m"
     ]
    },
    {
     "name": "stderr",
     "output_type": "stream",
     "text": [
      "episode: 262/3000   8% ETA:  0:06:44 |\\\\\\                                    | \r"
     ]
    },
    {
     "name": "stdout",
     "output_type": "stream",
     "text": [
      "Episode 260 with 15 steps || Reward : [-0.01  0.  ] || avg reward :  0.000 || Noise  0.974 || 0.201 seconds, mem : 3707\n",
      "\u001b[0m"
     ]
    },
    {
     "name": "stderr",
     "output_type": "stream",
     "text": [
      "episode: 280/3000   9% ETA:  0:06:46 |---                                    | \r"
     ]
    },
    {
     "name": "stdout",
     "output_type": "stream",
     "text": [
      "Episode 280 with 15 steps || Reward : [ 0.   -0.01] || avg reward :  0.000 || Noise  0.972 || 0.125 seconds, mem : 3991\n",
      "\u001b[0m"
     ]
    },
    {
     "name": "stderr",
     "output_type": "stream",
     "text": [
      "episode: 297/3000   9% ETA:  0:06:41 ||||                                    | \r"
     ]
    },
    {
     "name": "stdout",
     "output_type": "stream",
     "text": [
      "Episode 300 with 15 steps || Reward : [-0.01  0.  ] || avg reward :  0.000 || Noise  0.970 || 0.215 seconds, mem : 4275\n",
      "\u001b[0m"
     ]
    },
    {
     "name": "stderr",
     "output_type": "stream",
     "text": [
      "episode: 317/3000  10% ETA:  0:06:41 |\\\\\\\\                                   | \r"
     ]
    },
    {
     "name": "stdout",
     "output_type": "stream",
     "text": [
      "\u001b[41mEpisode 318 with 32 steps || Reward : [0.   0.09] || avg reward :  0.001 || Noise  0.969 || 0.369 seconds, mem : 4553\n",
      "\u001b[0mEpisode 320 with 14 steps || Reward : [ 0.   -0.01] || avg reward :  0.001 || Noise  0.968 || 0.176 seconds, mem : 4581\n",
      "\u001b[0m"
     ]
    },
    {
     "name": "stderr",
     "output_type": "stream",
     "text": [
      "episode: 331/3000  11% ETA:  0:06:39 |////                                   | \r"
     ]
    },
    {
     "name": "stdout",
     "output_type": "stream",
     "text": [
      "\u001b[41mEpisode 334 with 30 steps || Reward : [-0.01  0.1 ] || avg reward :  0.002 || Noise  0.967 || 0.357 seconds, mem : 4796\n",
      "\u001b[0m"
     ]
    },
    {
     "name": "stderr",
     "output_type": "stream",
     "text": [
      "episode: 337/3000  11% ETA:  0:06:41 |----                                   | \r"
     ]
    },
    {
     "name": "stdout",
     "output_type": "stream",
     "text": [
      "\u001b[41mEpisode 336 with 30 steps || Reward : [0.   0.09] || avg reward :  0.003 || Noise  0.967 || 0.348 seconds, mem : 4840\n",
      "\u001b[0mEpisode 340 with 14 steps || Reward : [-0.01  0.  ] || avg reward :  0.003 || Noise  0.966 || 0.194 seconds, mem : 4897\n",
      "\u001b[0m"
     ]
    },
    {
     "name": "stderr",
     "output_type": "stream",
     "text": [
      "episode: 352/3000  11% ETA:  0:06:38 |||||                                   | \r"
     ]
    },
    {
     "name": "stdout",
     "output_type": "stream",
     "text": [
      "\u001b[41mEpisode 351 with 30 steps || Reward : [-0.01  0.1 ] || avg reward :  0.004 || Noise  0.965 || 0.189 seconds, mem : 5069\n",
      "\u001b[0m"
     ]
    },
    {
     "name": "stderr",
     "output_type": "stream",
     "text": [
      "episode: 357/3000  11% ETA:  0:06:40 |////                                   | \r"
     ]
    },
    {
     "name": "stdout",
     "output_type": "stream",
     "text": [
      "Episode 360 with 14 steps || Reward : [-0.01  0.  ] || avg reward :  0.004 || Noise  0.965 || 0.196 seconds, mem : 5196\n",
      "\u001b[0m\u001b[41mEpisode 362 with 32 steps || Reward : [0.   0.09] || avg reward :  0.005 || Noise  0.964 || 0.332 seconds, mem : 5242\n",
      "\u001b[0m\u001b[41mEpisode 363 with 30 steps || Reward : [0.   0.09] || avg reward :  0.006 || Noise  0.964 || 0.183 seconds, mem : 5272"
     ]
    },
    {
     "name": "stderr",
     "output_type": "stream",
     "text": [
      "episode: 364/3000  12% ETA:  0:06:40 |----                                   | \r"
     ]
    },
    {
     "name": "stdout",
     "output_type": "stream",
     "text": [
      "\n",
      "\u001b[0m\u001b[41mEpisode 367 with 18 steps || Reward : [ 0.1  -0.01] || avg reward :  0.007 || Noise  0.964 || 0.120 seconds, mem : 5333\n",
      "\u001b[0m"
     ]
    },
    {
     "name": "stderr",
     "output_type": "stream",
     "text": [
      "episode: 371/3000  12% ETA:  0:06:40 |\\\\\\\\                                   | \r"
     ]
    },
    {
     "name": "stdout",
     "output_type": "stream",
     "text": [
      "\u001b[41mEpisode 373 with 31 steps || Reward : [0.   0.09] || avg reward :  0.008 || Noise  0.963 || 0.204 seconds, mem : 5435\n",
      "\u001b[0m"
     ]
    },
    {
     "name": "stderr",
     "output_type": "stream",
     "text": [
      "episode: 377/3000  12% ETA:  0:06:42 |||||                                   | \r"
     ]
    },
    {
     "name": "stdout",
     "output_type": "stream",
     "text": [
      "\u001b[41mEpisode 379 with 32 steps || Reward : [0.   0.09] || avg reward :  0.008 || Noise  0.963 || 0.169 seconds, mem : 5543\n",
      "\u001b[0mEpisode 380 with 14 steps || Reward : [ 0.   -0.01] || avg reward :  0.008 || Noise  0.963 || 0.165 seconds, mem : 5557\n",
      "\u001b[0m"
     ]
    },
    {
     "name": "stderr",
     "output_type": "stream",
     "text": [
      "episode: 384/3000  12% ETA:  0:06:41 |////                                   | \r"
     ]
    },
    {
     "name": "stdout",
     "output_type": "stream",
     "text": [
      "\u001b[44mEpisode 387 with 32 steps || Reward : [0.1  0.09] || avg reward :  0.009 || Noise  0.962 || 0.199 seconds, mem : 5674\n",
      "\u001b[0m"
     ]
    },
    {
     "name": "stderr",
     "output_type": "stream",
     "text": [
      "episode: 389/3000  12% ETA:  0:06:41 |-----                                  | \r"
     ]
    },
    {
     "name": "stdout",
     "output_type": "stream",
     "text": [
      "\u001b[41mEpisode 389 with 30 steps || Reward : [0.   0.09] || avg reward :  0.010 || Noise  0.962 || 0.188 seconds, mem : 5725\n",
      "\u001b[0m"
     ]
    },
    {
     "name": "stderr",
     "output_type": "stream",
     "text": [
      "episode: 396/3000  13% ETA:  0:06:40 |\\\\\\\\\\                                  | \r"
     ]
    },
    {
     "name": "stdout",
     "output_type": "stream",
     "text": [
      "Episode 400 with 14 steps || Reward : [-0.01  0.  ] || avg reward :  0.010 || Noise  0.961 || 0.213 seconds, mem : 5881\n",
      "\u001b[0m"
     ]
    },
    {
     "name": "stderr",
     "output_type": "stream",
     "text": [
      "episode: 403/3000  13% ETA:  0:06:39 ||||||                                  | \r"
     ]
    },
    {
     "name": "stdout",
     "output_type": "stream",
     "text": [
      "\u001b[41mEpisode 407 with 31 steps || Reward : [0.   0.09] || avg reward :  0.011 || Noise  0.960 || 0.217 seconds, mem : 5997\n",
      "\u001b[0m"
     ]
    },
    {
     "name": "stderr",
     "output_type": "stream",
     "text": [
      "episode: 410/3000  13% ETA:  0:06:38 |/////                                  | \r"
     ]
    },
    {
     "name": "stdout",
     "output_type": "stream",
     "text": [
      "\u001b[41mEpisode 410 with 32 steps || Reward : [-0.01  0.1 ] || avg reward :  0.012 || Noise  0.960 || 0.320 seconds, mem : 6067\n",
      "\u001b[0m\u001b[41mEpisode 412 with 27 steps || Reward : [-0.01  0.1 ] || avg reward :  0.013 || Noise  0.960 || 0.333 seconds, mem : 6109\n",
      "\u001b[0m"
     ]
    },
    {
     "name": "stderr",
     "output_type": "stream",
     "text": [
      "episode: 415/3000  13% ETA:  0:06:39 |-----                                  | \r"
     ]
    },
    {
     "name": "stdout",
     "output_type": "stream",
     "text": [
      "\u001b[41mEpisode 415 with 30 steps || Reward : [0.   0.09] || avg reward :  0.014 || Noise  0.959 || 0.171 seconds, mem : 6168\n",
      "\u001b[0m"
     ]
    },
    {
     "name": "stderr",
     "output_type": "stream",
     "text": [
      "episode: 421/3000  14% ETA:  0:06:39 |\\\\\\\\\\                                  | \r"
     ]
    },
    {
     "name": "stdout",
     "output_type": "stream",
     "text": [
      "Episode 420 with 14 steps || Reward : [-0.01  0.  ] || avg reward :  0.013 || Noise  0.959 || 0.203 seconds, mem : 6239\n",
      "\u001b[0m\u001b[41mEpisode 422 with 30 steps || Reward : [0.   0.09] || avg reward :  0.014 || Noise  0.959 || 0.668 seconds, mem : 6285\n",
      "\u001b[0m"
     ]
    },
    {
     "name": "stderr",
     "output_type": "stream",
     "text": [
      "episode: 425/3000  14% ETA:  0:06:41 ||||||                                  | \r"
     ]
    },
    {
     "name": "stdout",
     "output_type": "stream",
     "text": [
      "\u001b[41mEpisode 426 with 31 steps || Reward : [0.   0.09] || avg reward :  0.015 || Noise  0.958 || 0.348 seconds, mem : 6358\n",
      "\u001b[0m\u001b[41mEpisode 427 with 33 steps || Reward : [-0.01  0.1 ] || avg reward :  0.016 || Noise  0.958 || 0.220 seconds, mem : 6391\n",
      "\u001b[0m"
     ]
    },
    {
     "name": "stderr",
     "output_type": "stream",
     "text": [
      "episode: 431/3000  14% ETA:  0:06:43 |/////                                  | \r"
     ]
    },
    {
     "name": "stdout",
     "output_type": "stream",
     "text": [
      "\u001b[41mEpisode 436 with 30 steps || Reward : [0.   0.09] || avg reward :  0.015 || Noise  0.957 || 0.267 seconds, mem : 6534\n",
      "\u001b[0m"
     ]
    },
    {
     "name": "stderr",
     "output_type": "stream",
     "text": [
      "episode: 439/3000  14% ETA:  0:06:42 |-----                                  | \r"
     ]
    },
    {
     "name": "stdout",
     "output_type": "stream",
     "text": [
      "\u001b[41mEpisode 439 with 39 steps || Reward : [-0.01  0.1 ] || avg reward :  0.016 || Noise  0.957 || 0.252 seconds, mem : 6602\n",
      "\u001b[0mEpisode 440 with 14 steps || Reward : [-0.01  0.  ] || avg reward :  0.016 || Noise  0.957 || 0.196 seconds, mem : 6616\n",
      "\u001b[0m"
     ]
    },
    {
     "name": "stderr",
     "output_type": "stream",
     "text": [
      "episode: 445/3000  14% ETA:  0:06:42 |\\\\\\\\\\                                  | \r"
     ]
    },
    {
     "name": "stdout",
     "output_type": "stream",
     "text": [
      "\u001b[41mEpisode 444 with 32 steps || Reward : [ 0.1  -0.01] || avg reward :  0.017 || Noise  0.956 || 0.278 seconds, mem : 6690\n",
      "\u001b[0m"
     ]
    },
    {
     "name": "stderr",
     "output_type": "stream",
     "text": [
      "episode: 451/3000  15% ETA:  0:06:42 ||||||                                  | \r"
     ]
    },
    {
     "name": "stdout",
     "output_type": "stream",
     "text": [
      "\u001b[41mEpisode 450 with 29 steps || Reward : [-0.01  0.1 ] || avg reward :  0.018 || Noise  0.956 || 0.604 seconds, mem : 6790\n",
      "\u001b[0m\u001b[41mEpisode 453 with 31 steps || Reward : [0.   0.09] || avg reward :  0.018 || Noise  0.956 || 0.230 seconds, mem : 6849\n",
      "\u001b[0m"
     ]
    },
    {
     "name": "stderr",
     "output_type": "stream",
     "text": [
      "episode: 457/3000  15% ETA:  0:06:42 |/////                                  | \r"
     ]
    },
    {
     "name": "stdout",
     "output_type": "stream",
     "text": [
      "\u001b[41mEpisode 455 with 31 steps || Reward : [0.   0.09] || avg reward :  0.019 || Noise  0.955 || 0.160 seconds, mem : 6895\n",
      "\u001b[0m\u001b[41mEpisode 457 with 30 steps || Reward : [0.   0.09] || avg reward :  0.020 || Noise  0.955 || 0.182 seconds, mem : 6939\n",
      "\u001b[0m\u001b[41mEpisode 459 with 31 steps || Reward : [0.   0.09] || avg reward :  0.021 || Noise  0.955 || 0.195 seconds, mem : 6984\n",
      "\u001b[0m"
     ]
    },
    {
     "name": "stderr",
     "output_type": "stream",
     "text": [
      "episode: 462/3000  15% ETA:  0:06:43 |------                                 | \r"
     ]
    },
    {
     "name": "stdout",
     "output_type": "stream",
     "text": [
      "\u001b[41mEpisode 460 with 29 steps || Reward : [-0.01  0.1 ] || avg reward :  0.022 || Noise  0.955 || 0.287 seconds, mem : 7013\n",
      "\u001b[0m\u001b[41mEpisode 461 with 31 steps || Reward : [0.   0.09] || avg reward :  0.023 || Noise  0.955 || 0.173 seconds, mem : 7044\n",
      "\u001b[0m\u001b[41mEpisode 463 with 30 steps || Reward : [0.   0.09] || avg reward :  0.022 || Noise  0.955 || 0.185 seconds, mem : 7088\n",
      "\u001b[0m"
     ]
    },
    {
     "name": "stderr",
     "output_type": "stream",
     "text": [
      "episode: 467/3000  15% ETA:  0:06:46 |\\\\\\\\\\\\                                 | \r"
     ]
    },
    {
     "name": "stdout",
     "output_type": "stream",
     "text": [
      "\u001b[41mEpisode 468 with 31 steps || Reward : [0.   0.09] || avg reward :  0.022 || Noise  0.954 || 0.432 seconds, mem : 7188\n",
      "\u001b[0m\u001b[41mEpisode 469 with 30 steps || Reward : [0.   0.09] || avg reward :  0.022 || Noise  0.954 || 0.135 seconds, mem : 7218\n",
      "\u001b[0m"
     ]
    },
    {
     "name": "stderr",
     "output_type": "stream",
     "text": [
      "episode: 473/3000  15% ETA:  0:06:46 |||||||                                 | \r"
     ]
    },
    {
     "name": "stdout",
     "output_type": "stream",
     "text": [
      "\u001b[41mEpisode 472 with 31 steps || Reward : [0.   0.09] || avg reward :  0.023 || Noise  0.954 || 0.286 seconds, mem : 7277\n",
      "\u001b[0m"
     ]
    },
    {
     "name": "stderr",
     "output_type": "stream",
     "text": [
      "episode: 479/3000  15% ETA:  0:06:45 |//////                                 | \r"
     ]
    },
    {
     "name": "stdout",
     "output_type": "stream",
     "text": [
      "\u001b[41mEpisode 479 with 29 steps || Reward : [0.   0.09] || avg reward :  0.022 || Noise  0.953 || 0.214 seconds, mem : 7391\n",
      "\u001b[0mEpisode 480 with 14 steps || Reward : [ 0.   -0.01] || avg reward :  0.022 || Noise  0.953 || 0.231 seconds, mem : 7405\n",
      "\u001b[0m"
     ]
    },
    {
     "name": "stderr",
     "output_type": "stream",
     "text": [
      "episode: 484/3000  16% ETA:  0:06:46 |------                                 | \r"
     ]
    },
    {
     "name": "stdout",
     "output_type": "stream",
     "text": [
      "\u001b[41mEpisode 485 with 30 steps || Reward : [0.   0.09] || avg reward :  0.023 || Noise  0.953 || 0.175 seconds, mem : 7492\n",
      "\u001b[0m"
     ]
    },
    {
     "name": "stderr",
     "output_type": "stream",
     "text": [
      "episode: 488/3000  16% ETA:  0:06:47 |\\\\\\\\\\\\                                 | \r"
     ]
    },
    {
     "name": "stdout",
     "output_type": "stream",
     "text": [
      "\u001b[41mEpisode 486 with 31 steps || Reward : [0.   0.09] || avg reward :  0.024 || Noise  0.952 || 0.475 seconds, mem : 7523\n",
      "\u001b[0m"
     ]
    },
    {
     "name": "stderr",
     "output_type": "stream",
     "text": [
      "episode: 493/3000  16% ETA:  0:06:49 |||||||                                 | \r"
     ]
    },
    {
     "name": "stdout",
     "output_type": "stream",
     "text": [
      "\u001b[44mEpisode 492 with 53 steps || Reward : [0.1  0.09] || avg reward :  0.023 || Noise  0.952 || 0.489 seconds, mem : 7647\n",
      "\u001b[0m"
     ]
    },
    {
     "name": "stderr",
     "output_type": "stream",
     "text": [
      "episode: 499/3000  16% ETA:  0:06:49 |//////                                 | \r"
     ]
    },
    {
     "name": "stdout",
     "output_type": "stream",
     "text": [
      "\u001b[41mEpisode 498 with 30 steps || Reward : [0.   0.09] || avg reward :  0.024 || Noise  0.951 || 0.398 seconds, mem : 7748\n",
      "\u001b[0mEpisode 500 with 14 steps || Reward : [-0.01  0.  ] || avg reward :  0.024 || Noise  0.951 || 0.199 seconds, mem : 7777\n",
      "\u001b[0m"
     ]
    },
    {
     "name": "stderr",
     "output_type": "stream",
     "text": [
      "episode: 505/3000  16% ETA:  0:06:49 |------                                 | \r"
     ]
    },
    {
     "name": "stdout",
     "output_type": "stream",
     "text": [
      "\u001b[41mEpisode 507 with 29 steps || Reward : [-0.01  0.1 ] || avg reward :  0.024 || Noise  0.950 || 0.199 seconds, mem : 7903\n",
      "\u001b[0m"
     ]
    },
    {
     "name": "stderr",
     "output_type": "stream",
     "text": [
      "episode: 511/3000  17% ETA:  0:06:49 |\\\\\\\\\\\\                                 | \r"
     ]
    },
    {
     "name": "stdout",
     "output_type": "stream",
     "text": [
      "\u001b[41mEpisode 510 with 31 steps || Reward : [0.   0.09] || avg reward :  0.024 || Noise  0.950 || 0.310 seconds, mem : 7963\n",
      "\u001b[0m\u001b[41mEpisode 514 with 31 steps || Reward : [0.   0.09] || avg reward :  0.024 || Noise  0.950 || 0.160 seconds, mem : 8036\n",
      "\u001b[0m"
     ]
    },
    {
     "name": "stderr",
     "output_type": "stream",
     "text": [
      "episode: 523/3000  17% ETA:  0:06:43 |||||||                                 | \r"
     ]
    },
    {
     "name": "stdout",
     "output_type": "stream",
     "text": [
      "Episode 520 with 14 steps || Reward : [-0.01  0.  ] || avg reward :  0.023 || Noise  0.949 || 0.114 seconds, mem : 8121\n",
      "\u001b[0m\u001b[41mEpisode 524 with 30 steps || Reward : [0.   0.09] || avg reward :  0.023 || Noise  0.949 || 0.164 seconds, mem : 8194\n",
      "\u001b[0m\u001b[41mEpisode 525 with 31 steps || Reward : [0.   0.09] || avg reward :  0.024 || Noise  0.949 || 0.112 seconds, mem : 8225\n",
      "\u001b[0m\u001b[41mEpisode 527 with 31 steps || Reward : [0.   0.09] || avg reward :  0.023 || Noise  0.949 || 0.139 seconds, mem : 8270\n",
      "\u001b[0m"
     ]
    },
    {
     "name": "stderr",
     "output_type": "stream",
     "text": [
      "episode: 531/3000  17% ETA:  0:06:41 |//////                                 | \r"
     ]
    },
    {
     "name": "stdout",
     "output_type": "stream",
     "text": [
      "\u001b[41mEpisode 535 with 30 steps || Reward : [0.   0.09] || avg reward :  0.024 || Noise  0.948 || 0.192 seconds, mem : 8399\n",
      "\u001b[0m"
     ]
    },
    {
     "name": "stderr",
     "output_type": "stream",
     "text": [
      "episode: 537/3000  17% ETA:  0:06:41 |------                                 | \r"
     ]
    },
    {
     "name": "stdout",
     "output_type": "stream",
     "text": [
      "Episode 540 with 14 steps || Reward : [-0.01  0.  ] || avg reward :  0.022 || Noise  0.947 || 0.262 seconds, mem : 8470\n",
      "\u001b[0m"
     ]
    },
    {
     "name": "stderr",
     "output_type": "stream",
     "text": [
      "episode: 548/3000  18% ETA:  0:06:41 ||||||||                                | \r"
     ]
    },
    {
     "name": "stdout",
     "output_type": "stream",
     "text": [
      "\u001b[44mEpisode 548 with 34 steps || Reward : [0.1  0.09] || avg reward :  0.022 || Noise  0.947 || 0.345 seconds, mem : 8603\n",
      "\u001b[0m"
     ]
    },
    {
     "name": "stderr",
     "output_type": "stream",
     "text": [
      "episode: 553/3000  18% ETA:  0:06:41 |///////                                | \r"
     ]
    },
    {
     "name": "stdout",
     "output_type": "stream",
     "text": [
      "\u001b[41mEpisode 552 with 30 steps || Reward : [0.   0.09] || avg reward :  0.022 || Noise  0.946 || 0.349 seconds, mem : 8676\n",
      "\u001b[0m\u001b[41mEpisode 554 with 32 steps || Reward : [0.   0.09] || avg reward :  0.022 || Noise  0.946 || 0.317 seconds, mem : 8722\n",
      "\u001b[0m"
     ]
    },
    {
     "name": "stderr",
     "output_type": "stream",
     "text": [
      "episode: 558/3000  18% ETA:  0:06:42 |-------                                | \r"
     ]
    },
    {
     "name": "stdout",
     "output_type": "stream",
     "text": [
      "\u001b[41mEpisode 557 with 32 steps || Reward : [0.   0.09] || avg reward :  0.021 || Noise  0.946 || 0.228 seconds, mem : 8799\n",
      "\u001b[0mEpisode 560 with 14 steps || Reward : [ 0.   -0.01] || avg reward :  0.019 || Noise  0.945 || 0.187 seconds, mem : 8841\n",
      "\u001b[0m"
     ]
    },
    {
     "name": "stderr",
     "output_type": "stream",
     "text": [
      "episode: 567/3000  18% ETA:  0:06:44 ||||||||                                | \r"
     ]
    },
    {
     "name": "stdout",
     "output_type": "stream",
     "text": [
      "\u001b[41mEpisode 569 with 31 steps || Reward : [-0.01  0.1 ] || avg reward :  0.017 || Noise  0.945 || 0.254 seconds, mem : 8998\n",
      "\u001b[0m"
     ]
    },
    {
     "name": "stderr",
     "output_type": "stream",
     "text": [
      "episode: 576/3000  19% ETA:  0:06:46 |-------                                | \r"
     ]
    },
    {
     "name": "stdout",
     "output_type": "stream",
     "text": [
      "\u001b[41mEpisode 574 with 31 steps || Reward : [0.   0.09] || avg reward :  0.017 || Noise  0.944 || 0.359 seconds, mem : 9086\n",
      "\u001b[0m\u001b[41mEpisode 579 with 30 steps || Reward : [0.   0.09] || avg reward :  0.017 || Noise  0.944 || 0.199 seconds, mem : 9172\n",
      "\u001b[0m"
     ]
    },
    {
     "name": "stderr",
     "output_type": "stream",
     "text": [
      "episode: 581/3000  19% ETA:  0:06:46 |\\\\\\\\\\\\\\                                | \r"
     ]
    },
    {
     "name": "stdout",
     "output_type": "stream",
     "text": [
      "Episode 580 with 15 steps || Reward : [ 0.   -0.01] || avg reward :  0.017 || Noise  0.944 || 0.317 seconds, mem : 9187\n",
      "\u001b[0m"
     ]
    },
    {
     "name": "stderr",
     "output_type": "stream",
     "text": [
      "episode: 585/3000  19% ETA:  0:06:48 ||||||||                                | \r"
     ]
    },
    {
     "name": "stdout",
     "output_type": "stream",
     "text": [
      "\u001b[41mEpisode 584 with 28 steps || Reward : [-0.01  0.1 ] || avg reward :  0.018 || Noise  0.943 || 0.532 seconds, mem : 9257\n",
      "\u001b[0m\u001b[41mEpisode 585 with 31 steps || Reward : [0.   0.09] || avg reward :  0.018 || Noise  0.943 || 0.331 seconds, mem : 9288\n",
      "\u001b[0m"
     ]
    },
    {
     "name": "stderr",
     "output_type": "stream",
     "text": [
      "episode: 592/3000  19% ETA:  0:06:51 |-------                                | \r"
     ]
    },
    {
     "name": "stdout",
     "output_type": "stream",
     "text": [
      "\u001b[41mEpisode 591 with 30 steps || Reward : [-0.01  0.1 ] || avg reward :  0.018 || Noise  0.943 || 0.366 seconds, mem : 9400\n",
      "\u001b[0m"
     ]
    },
    {
     "name": "stderr",
     "output_type": "stream",
     "text": [
      "episode: 597/3000  19% ETA:  0:06:51 |\\\\\\\\\\\\\\                                | \r"
     ]
    },
    {
     "name": "stdout",
     "output_type": "stream",
     "text": [
      "\u001b[41mEpisode 596 with 32 steps || Reward : [0.   0.09] || avg reward :  0.018 || Noise  0.942 || 0.313 seconds, mem : 9488\n",
      "\u001b[0m\u001b[41mEpisode 599 with 29 steps || Reward : [-0.01  0.1 ] || avg reward :  0.018 || Noise  0.942 || 0.289 seconds, mem : 9545\n",
      "\u001b[0mEpisode 600 with 14 steps || Reward : [-0.01  0.  ] || avg reward :  0.018 || Noise  0.942 || 0.261 seconds, mem : 9559\n",
      "\u001b[0m"
     ]
    },
    {
     "name": "stderr",
     "output_type": "stream",
     "text": [
      "episode: 602/3000  20% ETA:  0:06:52 ||||||||                                | \r"
     ]
    },
    {
     "name": "stdout",
     "output_type": "stream",
     "text": [
      "\u001b[41mEpisode 601 with 32 steps || Reward : [0.   0.09] || avg reward :  0.019 || Noise  0.942 || 0.254 seconds, mem : 9591\n",
      "\u001b[0m"
     ]
    },
    {
     "name": "stderr",
     "output_type": "stream",
     "text": [
      "episode: 607/3000  20% ETA:  0:06:52 |///////                                | \r"
     ]
    },
    {
     "name": "stdout",
     "output_type": "stream",
     "text": [
      "\u001b[41mEpisode 606 with 32 steps || Reward : [-0.01  0.1 ] || avg reward :  0.020 || Noise  0.941 || 0.350 seconds, mem : 9679\n",
      "\u001b[0m\u001b[41mEpisode 608 with 30 steps || Reward : [0.   0.09] || avg reward :  0.020 || Noise  0.941 || 0.420 seconds, mem : 9724\n",
      "\u001b[0m"
     ]
    },
    {
     "name": "stderr",
     "output_type": "stream",
     "text": [
      "episode: 611/3000  20% ETA:  0:06:53 |-------                                | \r"
     ]
    },
    {
     "name": "stdout",
     "output_type": "stream",
     "text": [
      "\u001b[44mEpisode 610 with 32 steps || Reward : [0.1  0.09] || avg reward :  0.020 || Noise  0.941 || 0.431 seconds, mem : 9771\n",
      "\u001b[0m\u001b[41mEpisode 612 with 31 steps || Reward : [0.   0.09] || avg reward :  0.021 || Noise  0.941 || 0.367 seconds, mem : 9817\n",
      "\u001b[0m"
     ]
    },
    {
     "name": "stderr",
     "output_type": "stream",
     "text": [
      "episode: 616/3000  20% ETA:  0:06:53 |\\\\\\\\\\\\\\\\                               | \r"
     ]
    },
    {
     "name": "stdout",
     "output_type": "stream",
     "text": [
      "\u001b[41mEpisode 615 with 31 steps || Reward : [0.   0.09] || avg reward :  0.021 || Noise  0.940 || 0.266 seconds, mem : 9876\n",
      "\u001b[0m"
     ]
    },
    {
     "name": "stderr",
     "output_type": "stream",
     "text": [
      "episode: 621/3000  20% ETA:  0:06:54 |||||||||                               | \r"
     ]
    },
    {
     "name": "stdout",
     "output_type": "stream",
     "text": [
      "Episode 620 with 14 steps || Reward : [ 0.   -0.01] || avg reward :  0.021 || Noise  0.940 || 0.484 seconds, mem : 9946\n",
      "\u001b[0m\u001b[41mEpisode 621 with 31 steps || Reward : [0.   0.09] || avg reward :  0.021 || Noise  0.940 || 0.226 seconds, mem : 9977\n",
      "\u001b[0m\u001b[41mEpisode 622 with 32 steps || Reward : [0.   0.09] || avg reward :  0.022 || Noise  0.940 || 0.483 seconds, mem : 10009\n",
      "\u001b[0m"
     ]
    },
    {
     "name": "stderr",
     "output_type": "stream",
     "text": [
      "episode: 625/3000  20% ETA:  0:06:55 |////////                               | \r"
     ]
    },
    {
     "name": "stdout",
     "output_type": "stream",
     "text": [
      "\u001b[41mEpisode 625 with 30 steps || Reward : [0.   0.09] || avg reward :  0.021 || Noise  0.939 || 0.266 seconds, mem : 10067\n",
      "\u001b[0m"
     ]
    },
    {
     "name": "stderr",
     "output_type": "stream",
     "text": [
      "episode: 629/3000  20% ETA:  0:06:56 |--------                               | \r"
     ]
    },
    {
     "name": "stdout",
     "output_type": "stream",
     "text": [
      "\u001b[41mEpisode 630 with 30 steps || Reward : [-0.01  0.1 ] || avg reward :  0.022 || Noise  0.939 || 0.405 seconds, mem : 10161\n",
      "\u001b[0m"
     ]
    },
    {
     "name": "stderr",
     "output_type": "stream",
     "text": [
      "episode: 633/3000  21% ETA:  0:06:56 |\\\\\\\\\\\\\\\\                               | \r"
     ]
    },
    {
     "name": "stdout",
     "output_type": "stream",
     "text": [
      "\u001b[41mEpisode 636 with 31 steps || Reward : [0.   0.09] || avg reward :  0.022 || Noise  0.938 || 0.310 seconds, mem : 10263\n",
      "\u001b[0m"
     ]
    },
    {
     "name": "stderr",
     "output_type": "stream",
     "text": [
      "episode: 639/3000  21% ETA:  0:06:58 |||||||||                               | \r"
     ]
    },
    {
     "name": "stdout",
     "output_type": "stream",
     "text": [
      "\u001b[41mEpisode 639 with 31 steps || Reward : [0.   0.09] || avg reward :  0.022 || Noise  0.938 || 0.635 seconds, mem : 10323\n",
      "\u001b[0mEpisode 640 with 14 steps || Reward : [-0.01  0.  ] || avg reward :  0.022 || Noise  0.938 || 0.177 seconds, mem : 10337\n",
      "\u001b[0m"
     ]
    },
    {
     "name": "stderr",
     "output_type": "stream",
     "text": [
      "episode: 643/3000  21% ETA:  0:07:00 |////////                               | \r"
     ]
    },
    {
     "name": "stdout",
     "output_type": "stream",
     "text": [
      "\u001b[41mEpisode 642 with 30 steps || Reward : [0.   0.09] || avg reward :  0.023 || Noise  0.938 || 0.264 seconds, mem : 10382\n",
      "\u001b[0m\u001b[41mEpisode 647 with 30 steps || Reward : [0.   0.09] || avg reward :  0.024 || Noise  0.937 || 0.214 seconds, mem : 10469\n",
      "\u001b[0m"
     ]
    },
    {
     "name": "stderr",
     "output_type": "stream",
     "text": [
      "episode: 657/3000  21% ETA:  0:06:58 |\\\\\\\\\\\\\\\\                               | \r"
     ]
    },
    {
     "name": "stdout",
     "output_type": "stream",
     "text": [
      "\u001b[41mEpisode 657 with 29 steps || Reward : [0.   0.09] || avg reward :  0.021 || Noise  0.936 || 0.251 seconds, mem : 10626\n",
      "\u001b[0m\u001b[41mEpisode 660 with 30 steps || Reward : [0.   0.09] || avg reward :  0.022 || Noise  0.936 || 0.268 seconds, mem : 10685\n",
      "\u001b[0m"
     ]
    },
    {
     "name": "stderr",
     "output_type": "stream",
     "text": [
      "episode: 663/3000  22% ETA:  0:06:57 |||||||||                               | \r"
     ]
    },
    {
     "name": "stdout",
     "output_type": "stream",
     "text": [
      "\u001b[41mEpisode 662 with 26 steps || Reward : [-0.01  0.1 ] || avg reward :  0.023 || Noise  0.936 || 0.202 seconds, mem : 10725\n",
      "\u001b[0m"
     ]
    },
    {
     "name": "stderr",
     "output_type": "stream",
     "text": [
      "episode: 670/3000  22% ETA:  0:06:56 |////////                               | \r"
     ]
    },
    {
     "name": "stdout",
     "output_type": "stream",
     "text": [
      "\u001b[41mEpisode 669 with 27 steps || Reward : [-0.01  0.1 ] || avg reward :  0.023 || Noise  0.935 || 0.163 seconds, mem : 10838\n",
      "\u001b[0m"
     ]
    },
    {
     "name": "stderr",
     "output_type": "stream",
     "text": [
      "episode: 675/3000  22% ETA:  0:06:55 |--------                               | \r"
     ]
    },
    {
     "name": "stdout",
     "output_type": "stream",
     "text": [
      "\u001b[41mEpisode 677 with 29 steps || Reward : [0.   0.09] || avg reward :  0.023 || Noise  0.934 || 0.174 seconds, mem : 10966\n",
      "\u001b[0m"
     ]
    },
    {
     "name": "stderr",
     "output_type": "stream",
     "text": [
      "episode: 681/3000  22% ETA:  0:06:54 |\\\\\\\\\\\\\\\\                               | \r"
     ]
    },
    {
     "name": "stdout",
     "output_type": "stream",
     "text": [
      "Episode 680 with 15 steps || Reward : [-0.01  0.  ] || avg reward :  0.022 || Noise  0.934 || 0.220 seconds, mem : 11009\n",
      "\u001b[0m"
     ]
    },
    {
     "name": "stderr",
     "output_type": "stream",
     "text": [
      "episode: 687/3000  22% ETA:  0:06:53 |||||||||                               | \r"
     ]
    },
    {
     "name": "stdout",
     "output_type": "stream",
     "text": [
      "\u001b[41mEpisode 686 with 30 steps || Reward : [0.   0.09] || avg reward :  0.021 || Noise  0.934 || 0.344 seconds, mem : 11117\n",
      "\u001b[0m\u001b[44mEpisode 689 with 33 steps || Reward : [0.1  0.09] || avg reward :  0.022 || Noise  0.933 || 0.173 seconds, mem : 11179\n",
      "\u001b[0m"
     ]
    },
    {
     "name": "stderr",
     "output_type": "stream",
     "text": [
      "episode: 701/3000  23% ETA:  0:06:50 |---------                              | \r"
     ]
    },
    {
     "name": "stdout",
     "output_type": "stream",
     "text": [
      "Episode 700 with 15 steps || Reward : [-0.01  0.  ] || avg reward :  0.020 || Noise  0.932 || 0.177 seconds, mem : 11338\n",
      "\u001b[0m\u001b[44mEpisode 702 with 32 steps || Reward : [0.1  0.09] || avg reward :  0.020 || Noise  0.932 || 0.291 seconds, mem : 11384\n",
      "\u001b[0m\u001b[41mEpisode 704 with 29 steps || Reward : [0.   0.09] || avg reward :  0.021 || Noise  0.932 || 0.345 seconds, mem : 11427\n",
      "\u001b[0m"
     ]
    },
    {
     "name": "stderr",
     "output_type": "stream",
     "text": [
      "episode: 707/3000  23% ETA:  0:06:49 |\\\\\\\\\\\\\\\\\\                              | \r"
     ]
    },
    {
     "name": "stdout",
     "output_type": "stream",
     "text": [
      "\u001b[41mEpisode 706 with 30 steps || Reward : [0.   0.09] || avg reward :  0.020 || Noise  0.932 || 0.299 seconds, mem : 11472\n",
      "\u001b[0m"
     ]
    },
    {
     "name": "stderr",
     "output_type": "stream",
     "text": [
      "episode: 714/3000  23% ETA:  0:06:47 ||||||||||                              | \r"
     ]
    },
    {
     "name": "stdout",
     "output_type": "stream",
     "text": [
      "\u001b[41mEpisode 716 with 30 steps || Reward : [0.   0.09] || avg reward :  0.018 || Noise  0.931 || 0.413 seconds, mem : 11637\n",
      "\u001b[0m"
     ]
    },
    {
     "name": "stderr",
     "output_type": "stream",
     "text": [
      "episode: 719/3000  23% ETA:  0:06:47 |/////////                              | \r"
     ]
    },
    {
     "name": "stdout",
     "output_type": "stream",
     "text": [
      "Episode 720 with 14 steps || Reward : [-0.01  0.  ] || avg reward :  0.018 || Noise  0.930 || 0.187 seconds, mem : 11694\n",
      "\u001b[0m"
     ]
    },
    {
     "name": "stderr",
     "output_type": "stream",
     "text": [
      "episode: 725/3000  24% ETA:  0:06:46 |---------                              | \r"
     ]
    },
    {
     "name": "stdout",
     "output_type": "stream",
     "text": [
      "\u001b[41mEpisode 724 with 30 steps || Reward : [0.   0.09] || avg reward :  0.017 || Noise  0.930 || 0.350 seconds, mem : 11767\n",
      "\u001b[0m\u001b[41mEpisode 725 with 30 steps || Reward : [0.   0.09] || avg reward :  0.017 || Noise  0.930 || 0.266 seconds, mem : 11797\n",
      "\u001b[0m\u001b[41mEpisode 727 with 31 steps || Reward : [0.   0.09] || avg reward :  0.018 || Noise  0.930 || 0.300 seconds, mem : 11842\n",
      "\u001b[0m"
     ]
    },
    {
     "name": "stderr",
     "output_type": "stream",
     "text": [
      "episode: 729/3000  24% ETA:  0:06:46 |\\\\\\\\\\\\\\\\\\                              | \r"
     ]
    },
    {
     "name": "stdout",
     "output_type": "stream",
     "text": [
      "\u001b[41mEpisode 733 with 31 steps || Reward : [0.   0.09] || avg reward :  0.018 || Noise  0.929 || 0.322 seconds, mem : 11944\n",
      "\u001b[0m"
     ]
    },
    {
     "name": "stderr",
     "output_type": "stream",
     "text": [
      "episode: 735/3000  24% ETA:  0:06:46 ||||||||||                              | \r"
     ]
    },
    {
     "name": "stdout",
     "output_type": "stream",
     "text": [
      "\u001b[41mEpisode 740 with 31 steps || Reward : [0.   0.09] || avg reward :  0.017 || Noise  0.929 || 0.322 seconds, mem : 12060\n",
      "\u001b[0m"
     ]
    },
    {
     "name": "stderr",
     "output_type": "stream",
     "text": [
      "episode: 742/3000  24% ETA:  0:06:44 |/////////                              | \r"
     ]
    },
    {
     "name": "stdout",
     "output_type": "stream",
     "text": [
      "\u001b[41mEpisode 741 with 33 steps || Reward : [-0.01  0.1 ] || avg reward :  0.018 || Noise  0.928 || 0.229 seconds, mem : 12093\n",
      "\u001b[0m"
     ]
    },
    {
     "name": "stderr",
     "output_type": "stream",
     "text": [
      "episode: 749/3000  24% ETA:  0:06:42 |---------                              | \r"
     ]
    },
    {
     "name": "stdout",
     "output_type": "stream",
     "text": [
      "\u001b[41mEpisode 752 with 29 steps || Reward : [0.   0.09] || avg reward :  0.017 || Noise  0.927 || 0.335 seconds, mem : 12264\n",
      "\u001b[0m"
     ]
    },
    {
     "name": "stderr",
     "output_type": "stream",
     "text": [
      "episode: 756/3000  25% ETA:  0:06:40 |\\\\\\\\\\\\\\\\\\                              | \r"
     ]
    },
    {
     "name": "stdout",
     "output_type": "stream",
     "text": [
      "\u001b[41mEpisode 756 with 30 steps || Reward : [0.   0.09] || avg reward :  0.018 || Noise  0.927 || 0.183 seconds, mem : 12337\n",
      "\u001b[0m\u001b[41mEpisode 757 with 26 steps || Reward : [-0.01  0.1 ] || avg reward :  0.018 || Noise  0.927 || 0.096 seconds, mem : 12363\n",
      "\u001b[0m\u001b[41mEpisode 759 with 30 steps || Reward : [0.   0.09] || avg reward :  0.019 || Noise  0.927 || 0.109 seconds, mem : 12406\n",
      "\u001b[0mEpisode 760 with 14 steps || Reward : [-0.01  0.  ] || avg reward :  0.018 || Noise  0.927 || 0.116 seconds, mem : 12420\n",
      "\u001b[0m"
     ]
    },
    {
     "name": "stderr",
     "output_type": "stream",
     "text": [
      "episode: 766/3000  25% ETA:  0:06:36 ||||||||||                              | \r"
     ]
    },
    {
     "name": "stdout",
     "output_type": "stream",
     "text": [
      "\u001b[41mEpisode 768 with 31 steps || Reward : [0.   0.09] || avg reward :  0.018 || Noise  0.926 || 0.188 seconds, mem : 12550\n",
      "\u001b[0m\u001b[41mEpisode 771 with 31 steps || Reward : [0.   0.09] || avg reward :  0.018 || Noise  0.926 || 0.136 seconds, mem : 12610\n",
      "\u001b[0m"
     ]
    },
    {
     "name": "stderr",
     "output_type": "stream",
     "text": [
      "episode: 782/3000  26% ETA:  0:06:32 |----------                             | \r"
     ]
    },
    {
     "name": "stdout",
     "output_type": "stream",
     "text": [
      "Episode 780 with 14 steps || Reward : [ 0.   -0.01] || avg reward :  0.017 || Noise  0.925 || 0.235 seconds, mem : 12738\n",
      "\u001b[0m\u001b[41mEpisode 782 with 32 steps || Reward : [0.   0.09] || avg reward :  0.018 || Noise  0.925 || 0.309 seconds, mem : 12784\n",
      "\u001b[0m\u001b[41mEpisode 785 with 24 steps || Reward : [-0.01  0.1 ] || avg reward :  0.019 || Noise  0.924 || 0.129 seconds, mem : 12836\n",
      "\u001b[0m"
     ]
    },
    {
     "name": "stderr",
     "output_type": "stream",
     "text": [
      "episode: 787/3000  26% ETA:  0:06:31 |\\\\\\\\\\\\\\\\\\\\                             | \r"
     ]
    },
    {
     "name": "stdout",
     "output_type": "stream",
     "text": [
      "\u001b[41mEpisode 789 with 31 steps || Reward : [0.   0.09] || avg reward :  0.018 || Noise  0.924 || 0.343 seconds, mem : 12910\n",
      "\u001b[0m"
     ]
    },
    {
     "name": "stderr",
     "output_type": "stream",
     "text": [
      "episode: 793/3000  26% ETA:  0:06:30 |||||||||||                             | \r"
     ]
    },
    {
     "name": "stdout",
     "output_type": "stream",
     "text": [
      "\u001b[41mEpisode 795 with 33 steps || Reward : [ 0.1  -0.01] || avg reward :  0.019 || Noise  0.923 || 0.205 seconds, mem : 13013\n",
      "\u001b[0m"
     ]
    },
    {
     "name": "stderr",
     "output_type": "stream",
     "text": [
      "episode: 798/3000  26% ETA:  0:06:30 |//////////                             | \r"
     ]
    },
    {
     "name": "stdout",
     "output_type": "stream",
     "text": [
      "\u001b[41mEpisode 797 with 32 steps || Reward : [0.   0.09] || avg reward :  0.019 || Noise  0.923 || 0.202 seconds, mem : 13059\n",
      "\u001b[0mEpisode 800 with 14 steps || Reward : [ 0.   -0.01] || avg reward :  0.019 || Noise  0.923 || 0.300 seconds, mem : 13102\n",
      "\u001b[0m"
     ]
    },
    {
     "name": "stderr",
     "output_type": "stream",
     "text": [
      "episode: 809/3000  26% ETA:  0:06:30 |\\\\\\\\\\\\\\\\\\\\                             | \r"
     ]
    },
    {
     "name": "stdout",
     "output_type": "stream",
     "text": [
      "\u001b[41mEpisode 810 with 27 steps || Reward : [-0.01  0.1 ] || avg reward :  0.018 || Noise  0.922 || 0.579 seconds, mem : 13257\n",
      "\u001b[0m"
     ]
    },
    {
     "name": "stderr",
     "output_type": "stream",
     "text": [
      "episode: 819/3000  27% ETA:  0:06:29 |//////////                             | \r"
     ]
    },
    {
     "name": "stdout",
     "output_type": "stream",
     "text": [
      "Episode 820 with 15 steps || Reward : [-0.01  0.  ] || avg reward :  0.017 || Noise  0.921 || 0.483 seconds, mem : 13409\n",
      "\u001b[0m"
     ]
    },
    {
     "name": "stderr",
     "output_type": "stream",
     "text": [
      "episode: 827/3000  27% ETA:  0:06:34 |\\\\\\\\\\\\\\\\\\\\                             | \r"
     ]
    },
    {
     "name": "stdout",
     "output_type": "stream",
     "text": [
      "\u001b[41mEpisode 826 with 29 steps || Reward : [0.   0.09] || avg reward :  0.016 || Noise  0.921 || 1.699 seconds, mem : 13509\n",
      "\u001b[0m"
     ]
    },
    {
     "name": "stderr",
     "output_type": "stream",
     "text": [
      "episode: 830/3000  27% ETA:  0:06:35 |||||||||||                             | \r"
     ]
    },
    {
     "name": "stdout",
     "output_type": "stream",
     "text": [
      "\u001b[41mEpisode 829 with 26 steps || Reward : [-0.01  0.1 ] || avg reward :  0.016 || Noise  0.920 || 0.259 seconds, mem : 13564\n",
      "\u001b[0m"
     ]
    },
    {
     "name": "stderr",
     "output_type": "stream",
     "text": [
      "episode: 835/3000  27% ETA:  0:06:35 |//////////                             | \r"
     ]
    },
    {
     "name": "stdout",
     "output_type": "stream",
     "text": [
      "\u001b[41mEpisode 834 with 31 steps || Reward : [0.   0.09] || avg reward :  0.016 || Noise  0.920 || 0.295 seconds, mem : 13652\n",
      "\u001b[0m"
     ]
    },
    {
     "name": "stderr",
     "output_type": "stream",
     "text": [
      "episode: 839/3000  27% ETA:  0:06:35 |----------                             | \r"
     ]
    },
    {
     "name": "stdout",
     "output_type": "stream",
     "text": [
      "Episode 840 with 14 steps || Reward : [-0.01  0.  ] || avg reward :  0.015 || Noise  0.919 || 0.307 seconds, mem : 13737\n",
      "\u001b[0m"
     ]
    },
    {
     "name": "stderr",
     "output_type": "stream",
     "text": [
      "episode: 845/3000  28% ETA:  0:06:34 |\\\\\\\\\\\\\\\\\\\\                             | \r"
     ]
    },
    {
     "name": "stdout",
     "output_type": "stream",
     "text": [
      "\u001b[41mEpisode 845 with 33 steps || Reward : [0.   0.09] || avg reward :  0.015 || Noise  0.919 || 0.499 seconds, mem : 13827\n",
      "\u001b[0m"
     ]
    },
    {
     "name": "stderr",
     "output_type": "stream",
     "text": [
      "episode: 860/3000  28% ETA:  0:06:35 |\\\\\\\\\\\\\\\\\\\\\\                            | \r"
     ]
    },
    {
     "name": "stdout",
     "output_type": "stream",
     "text": [
      "Episode 860 with 14 steps || Reward : [-0.01  0.  ] || avg reward :  0.011 || Noise  0.917 || 0.233 seconds, mem : 14040\n",
      "\u001b[0m"
     ]
    },
    {
     "name": "stderr",
     "output_type": "stream",
     "text": [
      "episode: 865/3000  28% ETA:  0:06:34 ||||||||||||                            | \r"
     ]
    },
    {
     "name": "stdout",
     "output_type": "stream",
     "text": [
      "\u001b[41mEpisode 865 with 29 steps || Reward : [-0.01  0.1 ] || avg reward :  0.012 || Noise  0.917 || 0.248 seconds, mem : 14137\n",
      "\u001b[0m\u001b[41mEpisode 866 with 27 steps || Reward : [-0.01  0.1 ] || avg reward :  0.013 || Noise  0.917 || 0.315 seconds, mem : 14164\n",
      "\u001b[0m"
     ]
    },
    {
     "name": "stderr",
     "output_type": "stream",
     "text": [
      "episode: 873/3000  29% ETA:  0:06:34 |-----------                            | \r"
     ]
    },
    {
     "name": "stdout",
     "output_type": "stream",
     "text": [
      "\u001b[41mEpisode 876 with 26 steps || Reward : [-0.01  0.1 ] || avg reward :  0.012 || Noise  0.916 || 0.349 seconds, mem : 14322\n",
      "\u001b[0m"
     ]
    },
    {
     "name": "stderr",
     "output_type": "stream",
     "text": [
      "episode: 879/3000  29% ETA:  0:06:33 |\\\\\\\\\\\\\\\\\\\\\\                            | \r"
     ]
    },
    {
     "name": "stdout",
     "output_type": "stream",
     "text": [
      "Episode 880 with 14 steps || Reward : [ 0.   -0.01] || avg reward :  0.012 || Noise  0.916 || 0.234 seconds, mem : 14379\n",
      "\u001b[0m\u001b[41mEpisode 881 with 29 steps || Reward : [-0.01  0.1 ] || avg reward :  0.013 || Noise  0.916 || 0.200 seconds, mem : 14408\n",
      "\u001b[0m"
     ]
    },
    {
     "name": "stderr",
     "output_type": "stream",
     "text": [
      "episode: 891/3000  29% ETA:  0:06:31 |///////////                            | \r"
     ]
    },
    {
     "name": "stdout",
     "output_type": "stream",
     "text": [
      "\u001b[41mEpisode 890 with 30 steps || Reward : [0.   0.09] || avg reward :  0.012 || Noise  0.915 || 0.292 seconds, mem : 14552\n",
      "\u001b[0m\u001b[41mEpisode 893 with 28 steps || Reward : [-0.01  0.1 ] || avg reward :  0.013 || Noise  0.914 || 0.205 seconds, mem : 14608\n",
      "\u001b[0m"
     ]
    },
    {
     "name": "stderr",
     "output_type": "stream",
     "text": [
      "episode: 897/3000  29% ETA:  0:06:30 |-----------                            | \r"
     ]
    },
    {
     "name": "stdout",
     "output_type": "stream",
     "text": [
      "\u001b[41mEpisode 899 with 29 steps || Reward : [0.   0.09] || avg reward :  0.012 || Noise  0.914 || 0.215 seconds, mem : 14708\n",
      "\u001b[0mEpisode 900 with 14 steps || Reward : [ 0.   -0.01] || avg reward :  0.012 || Noise  0.914 || 0.243 seconds, mem : 14722\n",
      "\u001b[0m"
     ]
    },
    {
     "name": "stderr",
     "output_type": "stream",
     "text": [
      "episode: 903/3000  30% ETA:  0:06:29 |\\\\\\\\\\\\\\\\\\\\\\                            | \r"
     ]
    },
    {
     "name": "stdout",
     "output_type": "stream",
     "text": [
      "\u001b[41mEpisode 905 with 30 steps || Reward : [0.   0.09] || avg reward :  0.012 || Noise  0.913 || 0.213 seconds, mem : 14809\n",
      "\u001b[0m"
     ]
    },
    {
     "name": "stderr",
     "output_type": "stream",
     "text": [
      "episode: 915/3000  30% ETA:  0:06:27 |///////////                            | \r"
     ]
    },
    {
     "name": "stdout",
     "output_type": "stream",
     "text": [
      "\u001b[44mEpisode 914 with 34 steps || Reward : [0.1  0.09] || avg reward :  0.012 || Noise  0.913 || 0.397 seconds, mem : 14970\n",
      "\u001b[0m"
     ]
    },
    {
     "name": "stderr",
     "output_type": "stream",
     "text": [
      "episode: 921/3000  30% ETA:  0:06:26 |-----------                            | \r"
     ]
    },
    {
     "name": "stdout",
     "output_type": "stream",
     "text": [
      "Episode 920 with 15 steps || Reward : [-0.01  0.  ] || avg reward :  0.012 || Noise  0.912 || 0.267 seconds, mem : 15055\n",
      "\u001b[0m\u001b[41mEpisode 923 with 28 steps || Reward : [-0.01  0.1 ] || avg reward :  0.013 || Noise  0.912 || 0.187 seconds, mem : 15111\n",
      "\u001b[0m"
     ]
    },
    {
     "name": "stderr",
     "output_type": "stream",
     "text": [
      "episode: 927/3000  30% ETA:  0:06:25 |\\\\\\\\\\\\\\\\\\\\\\\\                           | \r"
     ]
    },
    {
     "name": "stdout",
     "output_type": "stream",
     "text": [
      "\u001b[41mEpisode 928 with 30 steps || Reward : [0.   0.09] || avg reward :  0.013 || Noise  0.911 || 0.318 seconds, mem : 15198\n",
      "\u001b[0m\u001b[41mEpisode 929 with 30 steps || Reward : [0.   0.09] || avg reward :  0.013 || Noise  0.911 || 0.197 seconds, mem : 15228\n",
      "\u001b[0m"
     ]
    },
    {
     "name": "stderr",
     "output_type": "stream",
     "text": [
      "episode: 932/3000  31% ETA:  0:06:24 |||||||||||||                           | \r"
     ]
    },
    {
     "name": "stdout",
     "output_type": "stream",
     "text": [
      "\u001b[41mEpisode 932 with 33 steps || Reward : [-0.01  0.1 ] || avg reward :  0.014 || Noise  0.911 || 0.368 seconds, mem : 15290\n",
      "\u001b[0m"
     ]
    },
    {
     "name": "stderr",
     "output_type": "stream",
     "text": [
      "episode: 937/3000  31% ETA:  0:06:23 |////////////                           | \r"
     ]
    },
    {
     "name": "stdout",
     "output_type": "stream",
     "text": [
      "\u001b[41mEpisode 939 with 31 steps || Reward : [0.   0.09] || avg reward :  0.014 || Noise  0.910 || 0.285 seconds, mem : 15406\n",
      "\u001b[0m"
     ]
    },
    {
     "name": "stderr",
     "output_type": "stream",
     "text": [
      "episode: 941/3000  31% ETA:  0:06:23 |------------                           | \r"
     ]
    },
    {
     "name": "stdout",
     "output_type": "stream",
     "text": [
      "Episode 940 with 14 steps || Reward : [ 0.   -0.01] || avg reward :  0.014 || Noise  0.910 || 0.379 seconds, mem : 15420\n",
      "\u001b[0m\u001b[41mEpisode 941 with 29 steps || Reward : [-0.01  0.1 ] || avg reward :  0.015 || Noise  0.910 || 0.214 seconds, mem : 15449\n",
      "\u001b[0m"
     ]
    },
    {
     "name": "stderr",
     "output_type": "stream",
     "text": [
      "episode: 943/3000  31% ETA:  0:06:26 |\\\\\\\\\\\\\\\\\\\\\\\\                           | \r"
     ]
    },
    {
     "name": "stdout",
     "output_type": "stream",
     "text": [
      "\u001b[41mEpisode 944 with 30 steps || Reward : [0.   0.09] || avg reward :  0.016 || Noise  0.910 || 0.616 seconds, mem : 15507\n",
      "\u001b[0m"
     ]
    },
    {
     "name": "stderr",
     "output_type": "stream",
     "text": [
      "episode: 946/3000  31% ETA:  0:06:27 |||||||||||||                           | \r"
     ]
    },
    {
     "name": "stdout",
     "output_type": "stream",
     "text": [
      "\u001b[44mEpisode 945 with 32 steps || Reward : [0.1  0.09] || avg reward :  0.016 || Noise  0.910 || 0.862 seconds, mem : 15539\n",
      "\u001b[0m"
     ]
    },
    {
     "name": "stderr",
     "output_type": "stream",
     "text": [
      "episode: 947/3000  31% ETA:  0:06:32 |////////////                           | \r"
     ]
    },
    {
     "name": "stdout",
     "output_type": "stream",
     "text": [
      "\u001b[41mEpisode 946 with 33 steps || Reward : [0.   0.09] || avg reward :  0.017 || Noise  0.910 || 2.430 seconds, mem : 15572\n",
      "\u001b[0m"
     ]
    },
    {
     "name": "stderr",
     "output_type": "stream",
     "text": [
      "episode: 949/3000  31% ETA:  0:06:34 |------------                           | \r"
     ]
    },
    {
     "name": "stdout",
     "output_type": "stream",
     "text": [
      "\u001b[41mEpisode 949 with 32 steps || Reward : [0.   0.09] || avg reward :  0.018 || Noise  0.909 || 0.505 seconds, mem : 15642\n",
      "\u001b[0m"
     ]
    },
    {
     "name": "stderr",
     "output_type": "stream",
     "text": [
      "episode: 952/3000  31% ETA:  0:06:35 |\\\\\\\\\\\\\\\\\\\\\\\\                           | \r"
     ]
    },
    {
     "name": "stdout",
     "output_type": "stream",
     "text": [
      "\u001b[41mEpisode 953 with 27 steps || Reward : [-0.01  0.1 ] || avg reward :  0.019 || Noise  0.909 || 0.251 seconds, mem : 15713\n",
      "\u001b[0m"
     ]
    },
    {
     "name": "stderr",
     "output_type": "stream",
     "text": [
      "episode: 955/3000  31% ETA:  0:06:36 |||||||||||||                           | \r"
     ]
    },
    {
     "name": "stdout",
     "output_type": "stream",
     "text": [
      "\u001b[41mEpisode 955 with 31 steps || Reward : [0.   0.09] || avg reward :  0.020 || Noise  0.909 || 0.214 seconds, mem : 15758\n",
      "\u001b[0m"
     ]
    },
    {
     "name": "stderr",
     "output_type": "stream",
     "text": [
      "episode: 960/3000  32% ETA:  0:06:35 |////////////                           | \r"
     ]
    },
    {
     "name": "stdout",
     "output_type": "stream",
     "text": [
      "\u001b[41mEpisode 959 with 30 steps || Reward : [0.   0.09] || avg reward :  0.021 || Noise  0.908 || 0.233 seconds, mem : 15831\n",
      "\u001b[0m\u001b[41mEpisode 960 with 31 steps || Reward : [-0.02  0.1 ] || avg reward :  0.022 || Noise  0.908 || 0.483 seconds, mem : 15862\n",
      "\u001b[0m"
     ]
    },
    {
     "name": "stderr",
     "output_type": "stream",
     "text": [
      "episode: 964/3000  32% ETA:  0:06:35 |------------                           | \r"
     ]
    },
    {
     "name": "stdout",
     "output_type": "stream",
     "text": [
      "\u001b[44mEpisode 963 with 39 steps || Reward : [0.1  0.09] || avg reward :  0.023 || Noise  0.908 || 0.215 seconds, mem : 15929\n",
      "\u001b[0m"
     ]
    },
    {
     "name": "stderr",
     "output_type": "stream",
     "text": [
      "episode: 971/3000  32% ETA:  0:06:34 |\\\\\\\\\\\\\\\\\\\\\\\\                           | \r"
     ]
    },
    {
     "name": "stdout",
     "output_type": "stream",
     "text": [
      "\u001b[41mEpisode 970 with 31 steps || Reward : [0.   0.09] || avg reward :  0.022 || Noise  0.907 || 0.326 seconds, mem : 16045\n",
      "\u001b[0m\u001b[41mEpisode 971 with 30 steps || Reward : [0.   0.09] || avg reward :  0.023 || Noise  0.907 || 0.263 seconds, mem : 16075\n",
      "\u001b[0m\u001b[41mEpisode 974 with 31 steps || Reward : [0.   0.09] || avg reward :  0.024 || Noise  0.907 || 0.284 seconds, mem : 16134\n",
      "\u001b[0m"
     ]
    },
    {
     "name": "stderr",
     "output_type": "stream",
     "text": [
      "episode: 977/3000  32% ETA:  0:06:33 |||||||||||||                           | \r"
     ]
    },
    {
     "name": "stdout",
     "output_type": "stream",
     "text": [
      "Episode 980 with 14 steps || Reward : [-0.01  0.  ] || avg reward :  0.023 || Noise  0.907 || 0.180 seconds, mem : 16220\n",
      "\u001b[0m"
     ]
    },
    {
     "name": "stderr",
     "output_type": "stream",
     "text": [
      "episode: 984/3000  32% ETA:  0:06:31 |////////////                           | \r"
     ]
    },
    {
     "name": "stdout",
     "output_type": "stream",
     "text": [
      "\u001b[41mEpisode 987 with 32 steps || Reward : [0.   0.09] || avg reward :  0.023 || Noise  0.906 || 0.180 seconds, mem : 16339\n",
      "\u001b[0m"
     ]
    },
    {
     "name": "stderr",
     "output_type": "stream",
     "text": [
      "episode: 997/3000  33% ETA:  0:06:27 |\\\\\\\\\\\\\\\\\\\\\\\\                           | \r"
     ]
    },
    {
     "name": "stdout",
     "output_type": "stream",
     "text": [
      "\u001b[41mEpisode 997 with 27 steps || Reward : [-0.01  0.1 ] || avg reward :  0.022 || Noise  0.905 || 0.167 seconds, mem : 16494\n",
      "\u001b[0m\u001b[41mEpisode 998 with 30 steps || Reward : [0.   0.09] || avg reward :  0.023 || Noise  0.905 || 0.302 seconds, mem : 16524\n",
      "\u001b[0mEpisode 1000 with 14 steps || Reward : [-0.01  0.  ] || avg reward :  0.022 || Noise  0.905 || 0.231 seconds, mem : 16552\n",
      "\u001b[0m"
     ]
    },
    {
     "name": "stderr",
     "output_type": "stream",
     "text": [
      "episode: 1003/3000  33% ETA:  0:06:26 |||||||||||||                          | \r"
     ]
    },
    {
     "name": "stdout",
     "output_type": "stream",
     "text": [
      "\u001b[41mEpisode 1002 with 30 steps || Reward : [0.   0.09] || avg reward :  0.023 || Noise  0.905 || 0.318 seconds, mem : 16596\n",
      "\u001b[0m\u001b[44mEpisode 1004 with 49 steps || Reward : [0.1  0.09] || avg reward :  0.024 || Noise  0.904 || 0.446 seconds, mem : 16659\n",
      "\u001b[0m\u001b[41mEpisode 1007 with 29 steps || Reward : [0.   0.09] || avg reward :  0.024 || Noise  0.904 || 0.118 seconds, mem : 16717\n",
      "\u001b[0m"
     ]
    },
    {
     "name": "stderr",
     "output_type": "stream",
     "text": [
      "episode: 1009/3000  33% ETA:  0:06:25 |////////////                          | \r"
     ]
    },
    {
     "name": "stdout",
     "output_type": "stream",
     "text": [
      "\u001b[41mEpisode 1008 with 30 steps || Reward : [-0.01  0.1 ] || avg reward :  0.025 || Noise  0.904 || 0.294 seconds, mem : 16747\n",
      "\u001b[0m"
     ]
    },
    {
     "name": "stderr",
     "output_type": "stream",
     "text": [
      "episode: 1014/3000  33% ETA:  0:06:25 |------------                          | \r"
     ]
    },
    {
     "name": "stdout",
     "output_type": "stream",
     "text": [
      "\u001b[44mEpisode 1016 with 33 steps || Reward : [0.1  0.09] || avg reward :  0.025 || Noise  0.903 || 0.370 seconds, mem : 16879\n",
      "\u001b[0m"
     ]
    },
    {
     "name": "stderr",
     "output_type": "stream",
     "text": [
      "episode: 1019/3000  33% ETA:  0:06:24 |\\\\\\\\\\\\\\\\\\\\\\\\                          | \r"
     ]
    },
    {
     "name": "stdout",
     "output_type": "stream",
     "text": [
      "\u001b[41mEpisode 1018 with 30 steps || Reward : [0.   0.09] || avg reward :  0.025 || Noise  0.903 || 0.495 seconds, mem : 16923\n",
      "\u001b[0mEpisode 1020 with 14 steps || Reward : [-0.01  0.  ] || avg reward :  0.025 || Noise  0.903 || 0.434 seconds, mem : 16951\n",
      "\u001b[0m"
     ]
    },
    {
     "name": "stderr",
     "output_type": "stream",
     "text": [
      "episode: 1026/3000  34% ETA:  0:06:25 |////////////                          | \r"
     ]
    },
    {
     "name": "stdout",
     "output_type": "stream",
     "text": [
      "\u001b[41mEpisode 1024 with 32 steps || Reward : [0.   0.09] || avg reward :  0.025 || Noise  0.903 || 0.682 seconds, mem : 17026\n",
      "\u001b[0m"
     ]
    },
    {
     "name": "stderr",
     "output_type": "stream",
     "text": [
      "episode: 1029/3000  34% ETA:  0:06:25 |-------------                         | \r"
     ]
    },
    {
     "name": "stdout",
     "output_type": "stream",
     "text": [
      "\u001b[41mEpisode 1031 with 33 steps || Reward : [0.   0.09] || avg reward :  0.024 || Noise  0.902 || 0.200 seconds, mem : 17144\n",
      "\u001b[0m"
     ]
    },
    {
     "name": "stderr",
     "output_type": "stream",
     "text": [
      "episode: 1034/3000  34% ETA:  0:06:25 |\\\\\\\\\\\\\\\\\\\\\\\\\\                         | \r"
     ]
    },
    {
     "name": "stdout",
     "output_type": "stream",
     "text": [
      "\u001b[41mEpisode 1033 with 30 steps || Reward : [0.   0.09] || avg reward :  0.024 || Noise  0.902 || 0.222 seconds, mem : 17188\n",
      "\u001b[0m"
     ]
    },
    {
     "name": "stderr",
     "output_type": "stream",
     "text": [
      "episode: 1038/3000  34% ETA:  0:06:25 ||||||||||||||                         | \r"
     ]
    },
    {
     "name": "stdout",
     "output_type": "stream",
     "text": [
      "\u001b[41mEpisode 1037 with 31 steps || Reward : [0.   0.09] || avg reward :  0.025 || Noise  0.901 || 0.234 seconds, mem : 17261\n",
      "\u001b[0mEpisode 1040 with 15 steps || Reward : [ 0.   -0.01] || avg reward :  0.024 || Noise  0.901 || 0.271 seconds, mem : 17304\n",
      "\u001b[0m\u001b[41mEpisode 1041 with 29 steps || Reward : [0.   0.09] || avg reward :  0.024 || Noise  0.901 || 0.179 seconds, mem : 17333\n",
      "\u001b[0m"
     ]
    },
    {
     "name": "stderr",
     "output_type": "stream",
     "text": [
      "episode: 1043/3000  34% ETA:  0:06:24 |/////////////                         | \r"
     ]
    },
    {
     "name": "stdout",
     "output_type": "stream",
     "text": [
      "\u001b[41mEpisode 1043 with 30 steps || Reward : [0.   0.09] || avg reward :  0.025 || Noise  0.901 || 0.206 seconds, mem : 17377\n",
      "\u001b[0m\u001b[41mEpisode 1045 with 30 steps || Reward : [0.   0.09] || avg reward :  0.024 || Noise  0.901 || 0.333 seconds, mem : 17421\n",
      "\u001b[0m"
     ]
    },
    {
     "name": "stderr",
     "output_type": "stream",
     "text": [
      "episode: 1047/3000  34% ETA:  0:06:24 |-------------                         | \r"
     ]
    },
    {
     "name": "stdout",
     "output_type": "stream",
     "text": [
      "\u001b[41mEpisode 1046 with 30 steps || Reward : [0.   0.09] || avg reward :  0.024 || Noise  0.901 || 0.441 seconds, mem : 17451\n",
      "\u001b[0m"
     ]
    },
    {
     "name": "stderr",
     "output_type": "stream",
     "text": [
      "episode: 1052/3000  35% ETA:  0:06:25 ||||||||||||||                         | \r"
     ]
    },
    {
     "name": "stdout",
     "output_type": "stream",
     "text": [
      "\u001b[41mEpisode 1051 with 27 steps || Reward : [-0.01  0.1 ] || avg reward :  0.024 || Noise  0.900 || 0.267 seconds, mem : 17535\n",
      "\u001b[0m\u001b[41mEpisode 1053 with 30 steps || Reward : [0.   0.09] || avg reward :  0.024 || Noise  0.900 || 0.235 seconds, mem : 17580\n",
      "\u001b[0m"
     ]
    },
    {
     "name": "stderr",
     "output_type": "stream",
     "text": [
      "episode: 1056/3000  35% ETA:  0:06:26 |/////////////                         | \r"
     ]
    },
    {
     "name": "stdout",
     "output_type": "stream",
     "text": [
      "\u001b[44mEpisode 1055 with 33 steps || Reward : [0.1  0.09] || avg reward :  0.024 || Noise  0.900 || 0.546 seconds, mem : 17627\n",
      "\u001b[0m\u001b[41mEpisode 1056 with 31 steps || Reward : [0.   0.09] || avg reward :  0.025 || Noise  0.900 || 0.420 seconds, mem : 17658\n",
      "\u001b[0m"
     ]
    },
    {
     "name": "stderr",
     "output_type": "stream",
     "text": [
      "episode: 1061/3000  35% ETA:  0:06:26 |-------------                         | \r"
     ]
    },
    {
     "name": "stdout",
     "output_type": "stream",
     "text": [
      "\u001b[41mEpisode 1060 with 30 steps || Reward : [0.   0.09] || avg reward :  0.024 || Noise  0.899 || 0.394 seconds, mem : 17731\n",
      "\u001b[0m\u001b[41mEpisode 1062 with 31 steps || Reward : [0.   0.09] || avg reward :  0.025 || Noise  0.899 || 0.430 seconds, mem : 17777\n",
      "\u001b[0m"
     ]
    },
    {
     "name": "stderr",
     "output_type": "stream",
     "text": [
      "episode: 1064/3000  35% ETA:  0:06:27 |\\\\\\\\\\\\\\\\\\\\\\\\\\                         | \r"
     ]
    },
    {
     "name": "stdout",
     "output_type": "stream",
     "text": [
      "\u001b[41mEpisode 1063 with 30 steps || Reward : [0.   0.09] || avg reward :  0.025 || Noise  0.899 || 1.070 seconds, mem : 17807\n",
      "\u001b[0m"
     ]
    },
    {
     "name": "stderr",
     "output_type": "stream",
     "text": [
      "episode: 1065/3000  35% ETA:  0:06:28 ||||||||||||||                         | \r"
     ]
    },
    {
     "name": "stdout",
     "output_type": "stream",
     "text": [
      "\u001b[41mEpisode 1064 with 31 steps || Reward : [0.   0.09] || avg reward :  0.026 || Noise  0.899 || 1.060 seconds, mem : 17838\n",
      "\u001b[0m"
     ]
    },
    {
     "name": "stderr",
     "output_type": "stream",
     "text": [
      "episode: 1081/3000  36% ETA:  0:06:29 ||||||||||||||                         | \r"
     ]
    },
    {
     "name": "stdout",
     "output_type": "stream",
     "text": [
      "Episode 1080 with 14 steps || Reward : [ 0.   -0.01] || avg reward :  0.023 || Noise  0.898 || 1.034 seconds, mem : 18065\n",
      "\u001b[0m"
     ]
    },
    {
     "name": "stderr",
     "output_type": "stream",
     "text": [
      "episode: 1083/3000  36% ETA:  0:06:31 |/////////////                         | \r"
     ]
    },
    {
     "name": "stdout",
     "output_type": "stream",
     "text": [
      "\u001b[41mEpisode 1082 with 31 steps || Reward : [0.   0.09] || avg reward :  0.024 || Noise  0.897 || 0.813 seconds, mem : 18110\n",
      "\u001b[0m\u001b[41mEpisode 1084 with 31 steps || Reward : [0.   0.09] || avg reward :  0.025 || Noise  0.897 || 0.210 seconds, mem : 18155\n",
      "\u001b[0m\u001b[41mEpisode 1085 with 32 steps || Reward : [0.   0.09] || avg reward :  0.026 || Noise  0.897 || 0.122 seconds, mem : 18187\n",
      "\u001b[0m\u001b[41mEpisode 1086 with 30 steps || Reward : [0.   0.09] || avg reward :  0.027 || Noise  0.897 || 0.200 seconds, mem : 18217\n",
      "\u001b[0m"
     ]
    },
    {
     "name": "stderr",
     "output_type": "stream",
     "text": [
      "episode: 1094/3000  36% ETA:  0:06:28 |\\\\\\\\\\\\\\\\\\\\\\\\\\                         | \r"
     ]
    },
    {
     "name": "stdout",
     "output_type": "stream",
     "text": [
      "\u001b[44mEpisode 1093 with 33 steps || Reward : [0.1  0.09] || avg reward :  0.027 || Noise  0.896 || 0.256 seconds, mem : 18335\n",
      "\u001b[0m"
     ]
    },
    {
     "name": "stderr",
     "output_type": "stream",
     "text": [
      "episode: 1100/3000  36% ETA:  0:06:27 ||||||||||||||                         | \r"
     ]
    },
    {
     "name": "stdout",
     "output_type": "stream",
     "text": [
      "\u001b[41mEpisode 1100 with 32 steps || Reward : [0.   0.09] || avg reward :  0.026 || Noise  0.896 || 0.365 seconds, mem : 18463\n",
      "\u001b[0m\u001b[41mEpisode 1102 with 31 steps || Reward : [0.   0.09] || avg reward :  0.026 || Noise  0.896 || 0.422 seconds, mem : 18508\n",
      "\u001b[0m"
     ]
    },
    {
     "name": "stderr",
     "output_type": "stream",
     "text": [
      "episode: 1109/3000  36% ETA:  0:06:27 |--------------                        | \r"
     ]
    },
    {
     "name": "stdout",
     "output_type": "stream",
     "text": [
      "\u001b[41mEpisode 1110 with 31 steps || Reward : [0.   0.09] || avg reward :  0.024 || Noise  0.895 || 0.749 seconds, mem : 18638\n",
      "\u001b[0m"
     ]
    },
    {
     "name": "stderr",
     "output_type": "stream",
     "text": [
      "episode: 1115/3000  37% ETA:  0:06:28 |||||||||||||||                        | \r"
     ]
    },
    {
     "name": "stdout",
     "output_type": "stream",
     "text": [
      "\u001b[41mEpisode 1114 with 30 steps || Reward : [0.   0.09] || avg reward :  0.025 || Noise  0.894 || 0.563 seconds, mem : 18710\n",
      "\u001b[0m"
     ]
    },
    {
     "name": "stderr",
     "output_type": "stream",
     "text": [
      "episode: 1117/3000  37% ETA:  0:06:29 |//////////////                        | \r"
     ]
    },
    {
     "name": "stdout",
     "output_type": "stream",
     "text": [
      "\u001b[44mEpisode 1116 with 43 steps || Reward : [0.1  0.09] || avg reward :  0.025 || Noise  0.894 || 0.896 seconds, mem : 18767\n",
      "\u001b[0m"
     ]
    },
    {
     "name": "stderr",
     "output_type": "stream",
     "text": [
      "episode: 1119/3000  37% ETA:  0:06:31 |--------------                        | \r"
     ]
    },
    {
     "name": "stdout",
     "output_type": "stream",
     "text": [
      "\u001b[41mEpisode 1118 with 31 steps || Reward : [0.   0.09] || avg reward :  0.025 || Noise  0.894 || 1.572 seconds, mem : 18812\n",
      "\u001b[0m"
     ]
    },
    {
     "name": "stderr",
     "output_type": "stream",
     "text": [
      "episode: 1121/3000  37% ETA:  0:06:32 |\\\\\\\\\\\\\\\\\\\\\\\\\\\\                        | \r"
     ]
    },
    {
     "name": "stdout",
     "output_type": "stream",
     "text": [
      "Episode 1120 with 14 steps || Reward : [ 0.   -0.01] || avg reward :  0.025 || Noise  0.894 || 0.849 seconds, mem : 18840\n",
      "\u001b[0m"
     ]
    },
    {
     "name": "stderr",
     "output_type": "stream",
     "text": [
      "episode: 1131/3000  37% ETA:  0:06:33 |--------------                        | \r"
     ]
    },
    {
     "name": "stdout",
     "output_type": "stream",
     "text": [
      "\u001b[41mEpisode 1130 with 30 steps || Reward : [0.   0.09] || avg reward :  0.025 || Noise  0.893 || 0.469 seconds, mem : 18998\n",
      "\u001b[0m\u001b[41mEpisode 1133 with 33 steps || Reward : [0.   0.09] || avg reward :  0.024 || Noise  0.893 || 0.285 seconds, mem : 19059\n",
      "\u001b[0m"
     ]
    },
    {
     "name": "stderr",
     "output_type": "stream",
     "text": [
      "episode: 1139/3000  37% ETA:  0:06:32 |||||||||||||||                        | \r"
     ]
    },
    {
     "name": "stdout",
     "output_type": "stream",
     "text": [
      "\u001b[44mEpisode 1139 with 42 steps || Reward : [0.1  0.09] || avg reward :  0.024 || Noise  0.892 || 0.419 seconds, mem : 19171\n",
      "\u001b[0m\u001b[41mEpisode 1140 with 29 steps || Reward : [-0.01  0.1 ] || avg reward :  0.025 || Noise  0.892 || 0.482 seconds, mem : 19200\n",
      "\u001b[0m"
     ]
    },
    {
     "name": "stderr",
     "output_type": "stream",
     "text": [
      "episode: 1142/3000  38% ETA:  0:06:33 |//////////////                        | \r"
     ]
    },
    {
     "name": "stdout",
     "output_type": "stream",
     "text": [
      "\u001b[41mEpisode 1141 with 30 steps || Reward : [0.   0.09] || avg reward :  0.025 || Noise  0.892 || 0.258 seconds, mem : 19230\n",
      "\u001b[0m"
     ]
    },
    {
     "name": "stderr",
     "output_type": "stream",
     "text": [
      "episode: 1152/3000  38% ETA:  0:06:31 |\\\\\\\\\\\\\\\\\\\\\\\\\\\\                        | \r"
     ]
    },
    {
     "name": "stdout",
     "output_type": "stream",
     "text": [
      "\u001b[41mEpisode 1150 with 30 steps || Reward : [-0.02  0.1 ] || avg reward :  0.023 || Noise  0.891 || 0.400 seconds, mem : 19373\n",
      "\u001b[0m\u001b[41mEpisode 1153 with 29 steps || Reward : [0.   0.09] || avg reward :  0.022 || Noise  0.891 || 0.235 seconds, mem : 19431\n",
      "\u001b[0m"
     ]
    },
    {
     "name": "stderr",
     "output_type": "stream",
     "text": [
      "episode: 1156/3000  38% ETA:  0:06:30 |||||||||||||||                        | \r"
     ]
    },
    {
     "name": "stdout",
     "output_type": "stream",
     "text": [
      "\u001b[44mEpisode 1156 with 34 steps || Reward : [0.1  0.09] || avg reward :  0.021 || Noise  0.891 || 0.465 seconds, mem : 19493\n",
      "\u001b[0m"
     ]
    },
    {
     "name": "stderr",
     "output_type": "stream",
     "text": [
      "episode: 1160/3000  38% ETA:  0:06:30 |//////////////                        | \r"
     ]
    },
    {
     "name": "stdout",
     "output_type": "stream",
     "text": [
      "Episode 1160 with 14 steps || Reward : [-0.01  0.  ] || avg reward :  0.020 || Noise  0.890 || 0.253 seconds, mem : 19550\n",
      "\u001b[0m\u001b[44mEpisode 1162 with 33 steps || Reward : [0.1  0.09] || avg reward :  0.021 || Noise  0.890 || 0.382 seconds, mem : 19597\n",
      "\u001b[0m\u001b[41mEpisode 1163 with 30 steps || Reward : [0.   0.09] || avg reward :  0.021 || Noise  0.890 || 0.258 seconds, mem : 19627\n",
      "\u001b[0m"
     ]
    },
    {
     "name": "stderr",
     "output_type": "stream",
     "text": [
      "episode: 1171/3000  39% ETA:  0:06:27 |\\\\\\\\\\\\\\\\\\\\\\\\\\\\                        | \r"
     ]
    },
    {
     "name": "stdout",
     "output_type": "stream",
     "text": [
      "\u001b[41mEpisode 1170 with 31 steps || Reward : [0.   0.09] || avg reward :  0.021 || Noise  0.889 || 0.334 seconds, mem : 19743\n",
      "\u001b[0m\u001b[41mEpisode 1172 with 30 steps || Reward : [-0.01  0.1 ] || avg reward :  0.022 || Noise  0.889 || 0.429 seconds, mem : 19787\n",
      "\u001b[0m"
     ]
    },
    {
     "name": "stderr",
     "output_type": "stream",
     "text": [
      "episode: 1176/3000  39% ETA:  0:06:26 |||||||||||||||                        | \r"
     ]
    },
    {
     "name": "stdout",
     "output_type": "stream",
     "text": [
      "\u001b[44mEpisode 1177 with 34 steps || Reward : [0.1  0.09] || avg reward :  0.023 || Noise  0.889 || 0.259 seconds, mem : 19877\n",
      "\u001b[0m"
     ]
    },
    {
     "name": "stderr",
     "output_type": "stream",
     "text": [
      "episode: 1181/3000  39% ETA:  0:06:26 |//////////////                        | \r"
     ]
    },
    {
     "name": "stdout",
     "output_type": "stream",
     "text": [
      "\u001b[41mEpisode 1180 with 31 steps || Reward : [0.   0.09] || avg reward :  0.023 || Noise  0.889 || 0.394 seconds, mem : 19936\n",
      "\u001b[0m\u001b[41mEpisode 1181 with 26 steps || Reward : [-0.01  0.1 ] || avg reward :  0.024 || Noise  0.889 || 0.252 seconds, mem : 19962\n",
      "\u001b[0m\u001b[41mEpisode 1182 with 30 steps || Reward : [0.   0.09] || avg reward :  0.024 || Noise  0.888 || 0.334 seconds, mem : 19992\n",
      "\u001b[0m\u001b[41mEpisode 1183 with 31 steps || Reward : [0.   0.09] || avg reward :  0.025 || Noise  0.888 || 0.196 seconds, mem : 20023\n",
      "\u001b[0m"
     ]
    },
    {
     "name": "stderr",
     "output_type": "stream",
     "text": [
      "episode: 1185/3000  39% ETA:  0:06:25 |---------------                       | \r"
     ]
    },
    {
     "name": "stdout",
     "output_type": "stream",
     "text": [
      "\u001b[44mEpisode 1186 with 34 steps || Reward : [0.1  0.09] || avg reward :  0.024 || Noise  0.888 || 0.329 seconds, mem : 20085\n",
      "\u001b[0m\u001b[41mEpisode 1187 with 25 steps || Reward : [-0.01  0.1 ] || avg reward :  0.025 || Noise  0.888 || 0.151 seconds, mem : 20110\n",
      "\u001b[0m"
     ]
    },
    {
     "name": "stderr",
     "output_type": "stream",
     "text": [
      "episode: 1190/3000  39% ETA:  0:06:24 |\\\\\\\\\\\\\\\\\\\\\\\\\\\\\\                       | \r"
     ]
    },
    {
     "name": "stdout",
     "output_type": "stream",
     "text": [
      "\u001b[41mEpisode 1192 with 32 steps || Reward : [0.   0.09] || avg reward :  0.026 || Noise  0.888 || 0.311 seconds, mem : 20199\n",
      "\u001b[0m"
     ]
    },
    {
     "name": "stderr",
     "output_type": "stream",
     "text": [
      "episode: 1195/3000  39% ETA:  0:06:23 ||||||||||||||||                       | \r"
     ]
    },
    {
     "name": "stdout",
     "output_type": "stream",
     "text": [
      "\u001b[41mEpisode 1194 with 24 steps || Reward : [-0.01  0.1 ] || avg reward :  0.026 || Noise  0.887 || 0.388 seconds, mem : 20237\n",
      "\u001b[0m"
     ]
    },
    {
     "name": "stderr",
     "output_type": "stream",
     "text": [
      "episode: 1201/3000  40% ETA:  0:06:21 |///////////////                       | \r"
     ]
    },
    {
     "name": "stdout",
     "output_type": "stream",
     "text": [
      "Episode 1200 with 15 steps || Reward : [-0.01  0.  ] || avg reward :  0.025 || Noise  0.887 || 0.270 seconds, mem : 20323\n",
      "\u001b[0m\u001b[41mEpisode 1202 with 28 steps || Reward : [-0.01  0.1 ] || avg reward :  0.025 || Noise  0.887 || 0.299 seconds, mem : 20365\n",
      "\u001b[0m"
     ]
    },
    {
     "name": "stderr",
     "output_type": "stream",
     "text": [
      "episode: 1207/3000  40% ETA:  0:06:20 |---------------                       | \r"
     ]
    },
    {
     "name": "stdout",
     "output_type": "stream",
     "text": [
      "\u001b[41mEpisode 1209 with 32 steps || Reward : [0.   0.09] || avg reward :  0.026 || Noise  0.886 || 0.209 seconds, mem : 20482\n",
      "\u001b[0m\u001b[41mEpisode 1210 with 31 steps || Reward : [0.   0.09] || avg reward :  0.026 || Noise  0.886 || 0.412 seconds, mem : 20513\n",
      "\u001b[0m"
     ]
    },
    {
     "name": "stderr",
     "output_type": "stream",
     "text": [
      "episode: 1212/3000  40% ETA:  0:06:19 |\\\\\\\\\\\\\\\\\\\\\\\\\\\\\\                       | \r"
     ]
    },
    {
     "name": "stdout",
     "output_type": "stream",
     "text": [
      "\u001b[41mEpisode 1211 with 37 steps || Reward : [-0.01  0.1 ] || avg reward :  0.027 || Noise  0.886 || 0.231 seconds, mem : 20550\n",
      "\u001b[0m\u001b[44mEpisode 1212 with 32 steps || Reward : [0.1  0.09] || avg reward :  0.028 || Noise  0.886 || 0.354 seconds, mem : 20582\n",
      "\u001b[0m\u001b[41mEpisode 1213 with 31 steps || Reward : [0.   0.09] || avg reward :  0.029 || Noise  0.886 || 0.303 seconds, mem : 20613\n",
      "\u001b[0m"
     ]
    },
    {
     "name": "stderr",
     "output_type": "stream",
     "text": [
      "episode: 1222/3000  40% ETA:  0:06:17 |///////////////                       | \r"
     ]
    },
    {
     "name": "stdout",
     "output_type": "stream",
     "text": [
      "Episode 1220 with 14 steps || Reward : [-0.01  0.  ] || avg reward :  0.026 || Noise  0.885 || 0.200 seconds, mem : 20714\n",
      "\u001b[0m"
     ]
    },
    {
     "name": "stderr",
     "output_type": "stream",
     "text": [
      "episode: 1228/3000  40% ETA:  0:06:15 |---------------                       | \r"
     ]
    },
    {
     "name": "stdout",
     "output_type": "stream",
     "text": [
      "\u001b[41mEpisode 1227 with 31 steps || Reward : [-0.01  0.1 ] || avg reward :  0.027 || Noise  0.884 || 0.185 seconds, mem : 20830\n",
      "\u001b[0m\u001b[44mEpisode 1230 with 33 steps || Reward : [0.1  0.09] || avg reward :  0.027 || Noise  0.884 || 0.351 seconds, mem : 20891\n",
      "\u001b[0m\u001b[41mEpisode 1231 with 28 steps || Reward : [-0.01  0.1 ] || avg reward :  0.028 || Noise  0.884 || 0.166 seconds, mem : 20919\n",
      "\u001b[0m"
     ]
    },
    {
     "name": "stderr",
     "output_type": "stream",
     "text": [
      "episode: 1233/3000  41% ETA:  0:06:14 |\\\\\\\\\\\\\\\\\\\\\\\\\\\\\\                       | \r"
     ]
    },
    {
     "name": "stdout",
     "output_type": "stream",
     "text": [
      "\u001b[41mEpisode 1235 with 30 steps || Reward : [-0.01  0.1 ] || avg reward :  0.028 || Noise  0.884 || 0.319 seconds, mem : 20991\n",
      "\u001b[0m"
     ]
    },
    {
     "name": "stderr",
     "output_type": "stream",
     "text": [
      "episode: 1238/3000  41% ETA:  0:06:13 ||||||||||||||||                       | \r"
     ]
    },
    {
     "name": "stdout",
     "output_type": "stream",
     "text": [
      "\u001b[41mEpisode 1239 with 32 steps || Reward : [ 0.1  -0.01] || avg reward :  0.028 || Noise  0.883 || 0.232 seconds, mem : 21066\n",
      "\u001b[0m\u001b[41mEpisode 1240 with 32 steps || Reward : [0.   0.09] || avg reward :  0.028 || Noise  0.883 || 0.348 seconds, mem : 21098\n",
      "\u001b[0m"
     ]
    },
    {
     "name": "stderr",
     "output_type": "stream",
     "text": [
      "episode: 1243/3000  41% ETA:  0:06:13 |///////////////                       | \r"
     ]
    },
    {
     "name": "stdout",
     "output_type": "stream",
     "text": [
      "\u001b[41mEpisode 1244 with 30 steps || Reward : [0.   0.09] || avg reward :  0.028 || Noise  0.883 || 0.398 seconds, mem : 21170\n",
      "\u001b[0m"
     ]
    },
    {
     "name": "stderr",
     "output_type": "stream",
     "text": [
      "episode: 1254/3000  41% ETA:  0:06:10 |\\\\\\\\\\\\\\\\\\\\\\\\\\\\\\                       | \r"
     ]
    },
    {
     "name": "stdout",
     "output_type": "stream",
     "text": [
      "\u001b[41mEpisode 1254 with 30 steps || Reward : [0.   0.09] || avg reward :  0.027 || Noise  0.882 || 0.383 seconds, mem : 21328\n",
      "\u001b[0m\u001b[41mEpisode 1255 with 31 steps || Reward : [0.   0.09] || avg reward :  0.028 || Noise  0.882 || 0.198 seconds, mem : 21359\n",
      "\u001b[0m"
     ]
    },
    {
     "name": "stderr",
     "output_type": "stream",
     "text": [
      "episode: 1257/3000  41% ETA:  0:06:10 ||||||||||||||||                       | \r"
     ]
    },
    {
     "name": "stdout",
     "output_type": "stream",
     "text": [
      "\u001b[41mEpisode 1256 with 34 steps || Reward : [0.   0.09] || avg reward :  0.028 || Noise  0.882 || 0.629 seconds, mem : 21393\n",
      "\u001b[0mEpisode 1260 with 14 steps || Reward : [-0.01  0.  ] || avg reward :  0.028 || Noise  0.882 || 0.246 seconds, mem : 21450\n",
      "\u001b[0m"
     ]
    },
    {
     "name": "stderr",
     "output_type": "stream",
     "text": [
      "episode: 1264/3000  42% ETA:  0:06:08 |////////////////                      | \r"
     ]
    },
    {
     "name": "stdout",
     "output_type": "stream",
     "text": [
      "\u001b[44mEpisode 1263 with 34 steps || Reward : [0.1  0.09] || avg reward :  0.027 || Noise  0.881 || 0.224 seconds, mem : 21512\n",
      "\u001b[0m\u001b[41mEpisode 1265 with 32 steps || Reward : [0.   0.09] || avg reward :  0.028 || Noise  0.881 || 0.231 seconds, mem : 21558\n",
      "\u001b[0m"
     ]
    },
    {
     "name": "stderr",
     "output_type": "stream",
     "text": [
      "episode: 1276/3000  42% ETA:  0:06:05 |\\\\\\\\\\\\\\\\\\\\\\\\\\\\\\\\                      | \r"
     ]
    },
    {
     "name": "stdout",
     "output_type": "stream",
     "text": [
      "Episode 1280 with 14 steps || Reward : [-0.01  0.  ] || avg reward :  0.024 || Noise  0.880 || 0.196 seconds, mem : 21770\n",
      "\u001b[0m"
     ]
    },
    {
     "name": "stderr",
     "output_type": "stream",
     "text": [
      "episode: 1291/3000  43% ETA:  0:06:01 |////////////////                      | \r"
     ]
    },
    {
     "name": "stdout",
     "output_type": "stream",
     "text": [
      "\u001b[41mEpisode 1295 with 32 steps || Reward : [0.   0.09] || avg reward :  0.018 || Noise  0.878 || 0.116 seconds, mem : 22015\n",
      "\u001b[0m"
     ]
    },
    {
     "name": "stderr",
     "output_type": "stream",
     "text": [
      "episode: 1300/3000  43% ETA:  0:05:58 |----------------                      | \r"
     ]
    },
    {
     "name": "stdout",
     "output_type": "stream",
     "text": [
      "Episode 1300 with 14 steps || Reward : [-0.01  0.  ] || avg reward :  0.018 || Noise  0.878 || 0.307 seconds, mem : 22086\n",
      "\u001b[0m"
     ]
    },
    {
     "name": "stderr",
     "output_type": "stream",
     "text": [
      "episode: 1306/3000  43% ETA:  0:05:56 |\\\\\\\\\\\\\\\\\\\\\\\\\\\\\\\\                      | \r"
     ]
    },
    {
     "name": "stdout",
     "output_type": "stream",
     "text": [
      "\u001b[41mEpisode 1307 with 32 steps || Reward : [0.   0.09] || avg reward :  0.018 || Noise  0.877 || 0.226 seconds, mem : 22203\n",
      "\u001b[0m"
     ]
    },
    {
     "name": "stderr",
     "output_type": "stream",
     "text": [
      "episode: 1310/3000  43% ETA:  0:05:56 |||||||||||||||||                      | \r"
     ]
    },
    {
     "name": "stdout",
     "output_type": "stream",
     "text": [
      "\u001b[41mEpisode 1308 with 30 steps || Reward : [0.   0.09] || avg reward :  0.019 || Noise  0.877 || 0.472 seconds, mem : 22233\n",
      "\u001b[0m"
     ]
    },
    {
     "name": "stderr",
     "output_type": "stream",
     "text": [
      "episode: 1314/3000  43% ETA:  0:05:55 |////////////////                      | \r"
     ]
    },
    {
     "name": "stdout",
     "output_type": "stream",
     "text": [
      "\u001b[41mEpisode 1317 with 32 steps || Reward : [0.   0.09] || avg reward :  0.015 || Noise  0.877 || 0.228 seconds, mem : 22388\n",
      "\u001b[0m"
     ]
    },
    {
     "name": "stderr",
     "output_type": "stream",
     "text": [
      "episode: 1319/3000  43% ETA:  0:05:54 |----------------                      | \r"
     ]
    },
    {
     "name": "stdout",
     "output_type": "stream",
     "text": [
      "Episode 1320 with 15 steps || Reward : [ 0.   -0.01] || avg reward :  0.015 || Noise  0.876 || 0.213 seconds, mem : 22431\n",
      "\u001b[0m"
     ]
    },
    {
     "name": "stderr",
     "output_type": "stream",
     "text": [
      "episode: 1323/3000  44% ETA:  0:05:54 |\\\\\\\\\\\\\\\\\\\\\\\\\\\\\\\\                      | \r"
     ]
    },
    {
     "name": "stdout",
     "output_type": "stream",
     "text": [
      "\u001b[41mEpisode 1322 with 32 steps || Reward : [ 0.1  -0.01] || avg reward :  0.016 || Noise  0.876 || 0.606 seconds, mem : 22477\n",
      "\u001b[0m"
     ]
    },
    {
     "name": "stderr",
     "output_type": "stream",
     "text": [
      "episode: 1329/3000  44% ETA:  0:05:52 |||||||||||||||||                      | \r"
     ]
    },
    {
     "name": "stdout",
     "output_type": "stream",
     "text": [
      "\u001b[41mEpisode 1330 with 31 steps || Reward : [0.   0.09] || avg reward :  0.015 || Noise  0.875 || 0.446 seconds, mem : 22607\n",
      "\u001b[0m"
     ]
    },
    {
     "name": "stderr",
     "output_type": "stream",
     "text": [
      "episode: 1334/3000  44% ETA:  0:05:51 |////////////////                      | \r"
     ]
    },
    {
     "name": "stdout",
     "output_type": "stream",
     "text": [
      "\u001b[41mEpisode 1332 with 30 steps || Reward : [0.   0.09] || avg reward :  0.015 || Noise  0.875 || 0.328 seconds, mem : 22651\n",
      "\u001b[0m"
     ]
    },
    {
     "name": "stderr",
     "output_type": "stream",
     "text": [
      "episode: 1341/3000  44% ETA:  0:05:51 |\\\\\\\\\\\\\\\\\\\\\\\\\\\\\\\\                      | \r"
     ]
    },
    {
     "name": "stdout",
     "output_type": "stream",
     "text": [
      "Episode 1340 with 14 steps || Reward : [ 0.   -0.01] || avg reward :  0.012 || Noise  0.874 || 0.281 seconds, mem : 22764\n",
      "\u001b[0m"
     ]
    },
    {
     "name": "stderr",
     "output_type": "stream",
     "text": [
      "episode: 1347/3000  44% ETA:  0:05:50 ||||||||||||||||||                     | \r"
     ]
    },
    {
     "name": "stdout",
     "output_type": "stream",
     "text": [
      "\u001b[41mEpisode 1348 with 25 steps || Reward : [-0.01  0.1 ] || avg reward :  0.012 || Noise  0.874 || 0.400 seconds, mem : 22894\n",
      "\u001b[0m"
     ]
    },
    {
     "name": "stderr",
     "output_type": "stream",
     "text": [
      "episode: 1352/3000  45% ETA:  0:05:49 |/////////////////                     | \r"
     ]
    },
    {
     "name": "stdout",
     "output_type": "stream",
     "text": [
      "\u001b[41mEpisode 1352 with 32 steps || Reward : [0.   0.09] || avg reward :  0.013 || Noise  0.873 || 0.417 seconds, mem : 22969\n",
      "\u001b[0m"
     ]
    },
    {
     "name": "stderr",
     "output_type": "stream",
     "text": [
      "episode: 1357/3000  45% ETA:  0:05:48 |-----------------                     | \r"
     ]
    },
    {
     "name": "stdout",
     "output_type": "stream",
     "text": [
      "Episode 1360 with 14 steps || Reward : [ 0.   -0.01] || avg reward :  0.010 || Noise  0.873 || 0.213 seconds, mem : 23082\n",
      "\u001b[0m"
     ]
    },
    {
     "name": "stderr",
     "output_type": "stream",
     "text": [
      "episode: 1369/3000  45% ETA:  0:05:45 ||||||||||||||||||                     | \r"
     ]
    },
    {
     "name": "stdout",
     "output_type": "stream",
     "text": [
      "\u001b[41mEpisode 1368 with 32 steps || Reward : [0.   0.09] || avg reward :  0.009 || Noise  0.872 || 0.353 seconds, mem : 23224\n",
      "\u001b[0m"
     ]
    },
    {
     "name": "stderr",
     "output_type": "stream",
     "text": [
      "episode: 1375/3000  45% ETA:  0:05:44 |/////////////////                     | \r"
     ]
    },
    {
     "name": "stdout",
     "output_type": "stream",
     "text": [
      "\u001b[44mEpisode 1375 with 34 steps || Reward : [0.1  0.09] || avg reward :  0.010 || Noise  0.871 || 0.245 seconds, mem : 23357\n",
      "\u001b[0m\u001b[41mEpisode 1377 with 28 steps || Reward : [-0.01  0.1 ] || avg reward :  0.011 || Noise  0.871 || 0.199 seconds, mem : 23399\n",
      "\u001b[0m"
     ]
    },
    {
     "name": "stderr",
     "output_type": "stream",
     "text": [
      "episode: 1380/3000  46% ETA:  0:05:43 |-----------------                     | \r"
     ]
    },
    {
     "name": "stdout",
     "output_type": "stream",
     "text": [
      "\u001b[41mEpisode 1379 with 29 steps || Reward : [0.   0.09] || avg reward :  0.012 || Noise  0.871 || 0.188 seconds, mem : 23443\n",
      "\u001b[0mEpisode 1380 with 14 steps || Reward : [-0.01  0.  ] || avg reward :  0.012 || Noise  0.871 || 0.278 seconds, mem : 23457\n",
      "\u001b[0m"
     ]
    },
    {
     "name": "stderr",
     "output_type": "stream",
     "text": [
      "episode: 1386/3000  46% ETA:  0:05:41 |\\\\\\\\\\\\\\\\\\\\\\\\\\\\\\\\\\                     | \r"
     ]
    },
    {
     "name": "stdout",
     "output_type": "stream",
     "text": [
      "\u001b[41mEpisode 1387 with 31 steps || Reward : [0.   0.09] || avg reward :  0.013 || Noise  0.870 || 0.195 seconds, mem : 23573\n",
      "\u001b[0m"
     ]
    },
    {
     "name": "stderr",
     "output_type": "stream",
     "text": [
      "episode: 1401/3000  46% ETA:  0:05:39 |-----------------                     | \r"
     ]
    },
    {
     "name": "stdout",
     "output_type": "stream",
     "text": [
      "\u001b[41mEpisode 1400 with 30 steps || Reward : [0.   0.09] || avg reward :  0.013 || Noise  0.869 || 0.615 seconds, mem : 23773\n",
      "\u001b[0m"
     ]
    },
    {
     "name": "stderr",
     "output_type": "stream",
     "text": [
      "episode: 1406/3000  46% ETA:  0:05:38 |\\\\\\\\\\\\\\\\\\\\\\\\\\\\\\\\\\                     | \r"
     ]
    },
    {
     "name": "stdout",
     "output_type": "stream",
     "text": [
      "\u001b[41mEpisode 1404 with 30 steps || Reward : [0.   0.09] || avg reward :  0.014 || Noise  0.869 || 0.366 seconds, mem : 23846\n",
      "\u001b[0m"
     ]
    },
    {
     "name": "stderr",
     "output_type": "stream",
     "text": [
      "episode: 1411/3000  47% ETA:  0:05:37 ||||||||||||||||||                     | \r"
     ]
    },
    {
     "name": "stdout",
     "output_type": "stream",
     "text": [
      "\u001b[41mEpisode 1411 with 30 steps || Reward : [-0.01  0.1 ] || avg reward :  0.013 || Noise  0.868 || 0.258 seconds, mem : 23961\n",
      "\u001b[0m\u001b[41mEpisode 1412 with 30 steps || Reward : [0.   0.09] || avg reward :  0.014 || Noise  0.868 || 0.398 seconds, mem : 23991\n",
      "\u001b[0m"
     ]
    },
    {
     "name": "stderr",
     "output_type": "stream",
     "text": [
      "episode: 1416/3000  47% ETA:  0:05:36 |/////////////////                     | \r"
     ]
    },
    {
     "name": "stdout",
     "output_type": "stream",
     "text": [
      "\u001b[44mEpisode 1416 with 34 steps || Reward : [0.1  0.09] || avg reward :  0.015 || Noise  0.868 || 0.432 seconds, mem : 24068\n",
      "\u001b[0m\u001b[41mEpisode 1417 with 32 steps || Reward : [0.   0.09] || avg reward :  0.015 || Noise  0.868 || 0.255 seconds, mem : 24100\n",
      "\u001b[0m"
     ]
    },
    {
     "name": "stderr",
     "output_type": "stream",
     "text": [
      "episode: 1420/3000  47% ETA:  0:05:35 |-----------------                     | \r"
     ]
    },
    {
     "name": "stdout",
     "output_type": "stream",
     "text": [
      "Episode 1420 with 15 steps || Reward : [-0.01  0.  ] || avg reward :  0.015 || Noise  0.868 || 0.231 seconds, mem : 24143\n",
      "\u001b[0m\u001b[41mEpisode 1421 with 31 steps || Reward : [0.   0.09] || avg reward :  0.016 || Noise  0.867 || 0.116 seconds, mem : 24174\n",
      "\u001b[0m"
     ]
    },
    {
     "name": "stderr",
     "output_type": "stream",
     "text": [
      "episode: 1427/3000  47% ETA:  0:05:33 |\\\\\\\\\\\\\\\\\\\\\\\\\\\\\\\\\\\\                    | \r"
     ]
    },
    {
     "name": "stdout",
     "output_type": "stream",
     "text": [
      "\u001b[41mEpisode 1428 with 31 steps || Reward : [0.   0.09] || avg reward :  0.016 || Noise  0.867 || 0.429 seconds, mem : 24290\n",
      "\u001b[0m"
     ]
    },
    {
     "name": "stderr",
     "output_type": "stream",
     "text": [
      "episode: 1436/3000  47% ETA:  0:05:31 |//////////////////                    | \r"
     ]
    },
    {
     "name": "stdout",
     "output_type": "stream",
     "text": [
      "\u001b[41mEpisode 1435 with 31 steps || Reward : [0.   0.09] || avg reward :  0.015 || Noise  0.866 || 0.222 seconds, mem : 24418\n",
      "\u001b[0m\u001b[41mEpisode 1437 with 31 steps || Reward : [0.   0.09] || avg reward :  0.016 || Noise  0.866 || 0.212 seconds, mem : 24464\n",
      "\u001b[0m"
     ]
    },
    {
     "name": "stderr",
     "output_type": "stream",
     "text": [
      "episode: 1440/3000  48% ETA:  0:05:31 |------------------                    | \r"
     ]
    },
    {
     "name": "stdout",
     "output_type": "stream",
     "text": [
      "\u001b[44mEpisode 1438 with 34 steps || Reward : [0.1  0.09] || avg reward :  0.017 || Noise  0.866 || 0.370 seconds, mem : 24498\n",
      "\u001b[0mEpisode 1440 with 14 steps || Reward : [-0.01  0.  ] || avg reward :  0.017 || Noise  0.866 || 0.311 seconds, mem : 24526\n",
      "\u001b[0m\u001b[41mEpisode 1443 with 31 steps || Reward : [0.   0.09] || avg reward :  0.018 || Noise  0.866 || 0.191 seconds, mem : 24586\n",
      "\u001b[0m"
     ]
    },
    {
     "name": "stderr",
     "output_type": "stream",
     "text": [
      "episode: 1445/3000  48% ETA:  0:05:30 |\\\\\\\\\\\\\\\\\\\\\\\\\\\\\\\\\\\\                    | \r"
     ]
    },
    {
     "name": "stdout",
     "output_type": "stream",
     "text": [
      "\u001b[44mEpisode 1446 with 33 steps || Reward : [0.1  0.09] || avg reward :  0.019 || Noise  0.865 || 0.544 seconds, mem : 24647\n",
      "\u001b[0m"
     ]
    },
    {
     "name": "stderr",
     "output_type": "stream",
     "text": [
      "episode: 1449/3000  48% ETA:  0:05:29 |||||||||||||||||||                    | \r"
     ]
    },
    {
     "name": "stdout",
     "output_type": "stream",
     "text": [
      "\u001b[41mEpisode 1451 with 34 steps || Reward : [0.   0.09] || avg reward :  0.019 || Noise  0.865 || 0.183 seconds, mem : 24738\n",
      "\u001b[0m"
     ]
    },
    {
     "name": "stderr",
     "output_type": "stream",
     "text": [
      "episode: 1455/3000  48% ETA:  0:05:28 |//////////////////                    | \r"
     ]
    },
    {
     "name": "stdout",
     "output_type": "stream",
     "text": [
      "\u001b[41mEpisode 1459 with 30 steps || Reward : [-0.01  0.1 ] || avg reward :  0.019 || Noise  0.864 || 0.244 seconds, mem : 24867\n",
      "\u001b[0mEpisode 1460 with 14 steps || Reward : [-0.01  0.  ] || avg reward :  0.019 || Noise  0.864 || 0.196 seconds, mem : 24881"
     ]
    },
    {
     "name": "stderr",
     "output_type": "stream",
     "text": [
      "episode: 1461/3000  48% ETA:  0:05:26 |------------------                    | \r"
     ]
    },
    {
     "name": "stdout",
     "output_type": "stream",
     "text": [
      "\n",
      "\u001b[0m\u001b[41mEpisode 1461 with 32 steps || Reward : [0.   0.09] || avg reward :  0.020 || Noise  0.864 || 0.234 seconds, mem : 24913\n",
      "\u001b[0m"
     ]
    },
    {
     "name": "stderr",
     "output_type": "stream",
     "text": [
      "episode: 1474/3000  49% ETA:  0:05:23 |||||||||||||||||||                    | \r"
     ]
    },
    {
     "name": "stdout",
     "output_type": "stream",
     "text": [
      "\u001b[41mEpisode 1476 with 30 steps || Reward : [0.   0.09] || avg reward :  0.019 || Noise  0.863 || 0.327 seconds, mem : 25142\n",
      "\u001b[0m"
     ]
    },
    {
     "name": "stderr",
     "output_type": "stream",
     "text": [
      "episode: 1479/3000  49% ETA:  0:05:22 |//////////////////                    | \r"
     ]
    },
    {
     "name": "stdout",
     "output_type": "stream",
     "text": [
      "\u001b[41mEpisode 1479 with 28 steps || Reward : [-0.01  0.1 ] || avg reward :  0.018 || Noise  0.862 || 0.335 seconds, mem : 25198\n",
      "\u001b[0mEpisode 1480 with 14 steps || Reward : [ 0.   -0.01] || avg reward :  0.018 || Noise  0.862 || 0.309 seconds, mem : 25212\n",
      "\u001b[0m"
     ]
    },
    {
     "name": "stderr",
     "output_type": "stream",
     "text": [
      "episode: 1489/3000  49% ETA:  0:05:20 |\\\\\\\\\\\\\\\\\\\\\\\\\\\\\\\\\\\\                    | \r"
     ]
    },
    {
     "name": "stdout",
     "output_type": "stream",
     "text": [
      "\u001b[41mEpisode 1489 with 31 steps || Reward : [0.   0.09] || avg reward :  0.018 || Noise  0.862 || 0.389 seconds, mem : 25357\n",
      "\u001b[0m"
     ]
    },
    {
     "name": "stderr",
     "output_type": "stream",
     "text": [
      "episode: 1494/3000  49% ETA:  0:05:19 |||||||||||||||||||                    | \r"
     ]
    },
    {
     "name": "stdout",
     "output_type": "stream",
     "text": [
      "\u001b[41mEpisode 1495 with 26 steps || Reward : [-0.01  0.1 ] || avg reward :  0.019 || Noise  0.861 || 0.165 seconds, mem : 25454\n",
      "\u001b[0m\u001b[41mEpisode 1496 with 30 steps || Reward : [0.   0.09] || avg reward :  0.020 || Noise  0.861 || 0.347 seconds, mem : 25484\n",
      "\u001b[0m"
     ]
    },
    {
     "name": "stderr",
     "output_type": "stream",
     "text": [
      "episode: 1499/3000  49% ETA:  0:05:18 |//////////////////                    | \r"
     ]
    },
    {
     "name": "stdout",
     "output_type": "stream",
     "text": [
      "\u001b[44mEpisode 1499 with 34 steps || Reward : [0.1  0.09] || avg reward :  0.021 || Noise  0.861 || 0.213 seconds, mem : 25546\n",
      "\u001b[0mEpisode 1500 with 14 steps || Reward : [-0.01  0.  ] || avg reward :  0.020 || Noise  0.861 || 0.200 seconds, mem : 25560\n",
      "\u001b[0m"
     ]
    },
    {
     "name": "stderr",
     "output_type": "stream",
     "text": [
      "episode: 1504/3000  50% ETA:  0:05:17 |-------------------                   | \r"
     ]
    },
    {
     "name": "stdout",
     "output_type": "stream",
     "text": [
      "\u001b[41mEpisode 1503 with 31 steps || Reward : [0.   0.09] || avg reward :  0.021 || Noise  0.860 || 0.294 seconds, mem : 25619\n",
      "\u001b[0m\u001b[41mEpisode 1507 with 33 steps || Reward : [0.   0.09] || avg reward :  0.021 || Noise  0.860 || 0.227 seconds, mem : 25694\n",
      "\u001b[0m"
     ]
    },
    {
     "name": "stderr",
     "output_type": "stream",
     "text": [
      "episode: 1515/3000  50% ETA:  0:05:14 ||||||||||||||||||||                   | \r"
     ]
    },
    {
     "name": "stdout",
     "output_type": "stream",
     "text": [
      "\u001b[41mEpisode 1515 with 33 steps || Reward : [0.   0.09] || avg reward :  0.020 || Noise  0.859 || 0.288 seconds, mem : 25826\n",
      "\u001b[0m"
     ]
    },
    {
     "name": "stderr",
     "output_type": "stream",
     "text": [
      "episode: 1519/3000  50% ETA:  0:05:14 |///////////////////                   | \r"
     ]
    },
    {
     "name": "stdout",
     "output_type": "stream",
     "text": [
      "\u001b[41mEpisode 1520 with 26 steps || Reward : [-0.01  0.1 ] || avg reward :  0.019 || Noise  0.859 || 0.307 seconds, mem : 25909\n",
      "\u001b[0m\u001b[41mEpisode 1521 with 28 steps || Reward : [-0.01  0.1 ] || avg reward :  0.019 || Noise  0.859 || 0.295 seconds, mem : 25937\n",
      "\u001b[0m"
     ]
    },
    {
     "name": "stderr",
     "output_type": "stream",
     "text": [
      "episode: 1524/3000  50% ETA:  0:05:13 |-------------------                   | \r"
     ]
    },
    {
     "name": "stdout",
     "output_type": "stream",
     "text": [
      "\u001b[41mEpisode 1525 with 31 steps || Reward : [0.   0.09] || avg reward :  0.020 || Noise  0.858 || 0.266 seconds, mem : 26010\n",
      "\u001b[0m"
     ]
    },
    {
     "name": "stderr",
     "output_type": "stream",
     "text": [
      "episode: 1528/3000  50% ETA:  0:05:12 |\\\\\\\\\\\\\\\\\\\\\\\\\\\\\\\\\\\\\\                   | \r"
     ]
    },
    {
     "name": "stdout",
     "output_type": "stream",
     "text": [
      "\u001b[41mEpisode 1528 with 31 steps || Reward : [0.   0.09] || avg reward :  0.020 || Noise  0.858 || 0.369 seconds, mem : 26069\n",
      "\u001b[0m"
     ]
    },
    {
     "name": "stderr",
     "output_type": "stream",
     "text": [
      "episode: 1539/3000  51% ETA:  0:05:09 |///////////////////                   | \r"
     ]
    },
    {
     "name": "stdout",
     "output_type": "stream",
     "text": [
      "\u001b[41mEpisode 1540 with 33 steps || Reward : [0.   0.09] || avg reward :  0.018 || Noise  0.857 || 0.398 seconds, mem : 26264\n",
      "\u001b[0m\u001b[41mEpisode 1541 with 30 steps || Reward : [0.   0.09] || avg reward :  0.019 || Noise  0.857 || 0.200 seconds, mem : 26294\n",
      "\u001b[0m"
     ]
    },
    {
     "name": "stderr",
     "output_type": "stream",
     "text": [
      "episode: 1544/3000  51% ETA:  0:05:08 |-------------------                   | \r"
     ]
    },
    {
     "name": "stdout",
     "output_type": "stream",
     "text": [
      "\u001b[41mEpisode 1545 with 31 steps || Reward : [0.   0.09] || avg reward :  0.019 || Noise  0.857 || 0.242 seconds, mem : 26367\n",
      "\u001b[0m"
     ]
    },
    {
     "name": "stderr",
     "output_type": "stream",
     "text": [
      "episode: 1548/3000  51% ETA:  0:05:08 |\\\\\\\\\\\\\\\\\\\\\\\\\\\\\\\\\\\\\\                   | \r"
     ]
    },
    {
     "name": "stdout",
     "output_type": "stream",
     "text": [
      "\u001b[44mEpisode 1546 with 34 steps || Reward : [0.1  0.09] || avg reward :  0.019 || Noise  0.857 || 0.388 seconds, mem : 26401\n",
      "\u001b[0m"
     ]
    },
    {
     "name": "stderr",
     "output_type": "stream",
     "text": [
      "episode: 1557/3000  51% ETA:  0:05:06 |///////////////////                   | \r"
     ]
    },
    {
     "name": "stdout",
     "output_type": "stream",
     "text": [
      "\u001b[41mEpisode 1558 with 32 steps || Reward : [ 0.1  -0.01] || avg reward :  0.019 || Noise  0.856 || 0.350 seconds, mem : 26596\n",
      "\u001b[0m"
     ]
    },
    {
     "name": "stderr",
     "output_type": "stream",
     "text": [
      "episode: 1562/3000  52% ETA:  0:05:05 |-------------------                   | \r"
     ]
    },
    {
     "name": "stdout",
     "output_type": "stream",
     "text": [
      "\u001b[41mEpisode 1560 with 31 steps || Reward : [0.   0.09] || avg reward :  0.019 || Noise  0.855 || 0.366 seconds, mem : 26641\n",
      "\u001b[0m\u001b[41mEpisode 1561 with 28 steps || Reward : [-0.01  0.1 ] || avg reward :  0.019 || Noise  0.855 || 0.171 seconds, mem : 26669\n",
      "\u001b[0m\u001b[41mEpisode 1564 with 31 steps || Reward : [0.   0.09] || avg reward :  0.020 || Noise  0.855 || 0.432 seconds, mem : 26728\n",
      "\u001b[0m\u001b[41mEpisode 1565 with 32 steps || Reward : [0.   0.09] || avg reward :  0.021 || Noise  0.855 || 0.217 seconds, mem : 26760\n",
      "\u001b[0m"
     ]
    },
    {
     "name": "stderr",
     "output_type": "stream",
     "text": [
      "episode: 1567/3000  52% ETA:  0:05:05 |\\\\\\\\\\\\\\\\\\\\\\\\\\\\\\\\\\\\\\                   | \r"
     ]
    },
    {
     "name": "stdout",
     "output_type": "stream",
     "text": [
      "\u001b[41mEpisode 1567 with 31 steps || Reward : [0.   0.09] || avg reward :  0.022 || Noise  0.855 || 0.271 seconds, mem : 26805\n",
      "\u001b[0m\u001b[41mEpisode 1568 with 31 steps || Reward : [0.   0.09] || avg reward :  0.022 || Noise  0.855 || 0.571 seconds, mem : 26836\n",
      "\u001b[0m"
     ]
    },
    {
     "name": "stderr",
     "output_type": "stream",
     "text": [
      "episode: 1577/3000  52% ETA:  0:05:03 |///////////////////                   | \r"
     ]
    },
    {
     "name": "stdout",
     "output_type": "stream",
     "text": [
      "\u001b[41mEpisode 1577 with 33 steps || Reward : [0.   0.09] || avg reward :  0.022 || Noise  0.854 || 0.255 seconds, mem : 26985\n",
      "\u001b[0m"
     ]
    },
    {
     "name": "stderr",
     "output_type": "stream",
     "text": [
      "episode: 1579/3000  52% ETA:  0:05:03 |--------------------                  | \r"
     ]
    },
    {
     "name": "stdout",
     "output_type": "stream",
     "text": [
      "\u001b[41mEpisode 1578 with 29 steps || Reward : [-0.01  0.1 ] || avg reward :  0.023 || Noise  0.854 || 1.598 seconds, mem : 27014\n",
      "\u001b[0m\u001b[41mEpisode 1580 with 31 steps || Reward : [0.   0.09] || avg reward :  0.023 || Noise  0.854 || 0.724 seconds, mem : 27059\n",
      "\u001b[0m"
     ]
    },
    {
     "name": "stderr",
     "output_type": "stream",
     "text": [
      "episode: 1585/3000  52% ETA:  0:05:03 |||||||||||||||||||||                  | \r"
     ]
    },
    {
     "name": "stdout",
     "output_type": "stream",
     "text": [
      "\u001b[41mEpisode 1584 with 31 steps || Reward : [0.   0.09] || avg reward :  0.024 || Noise  0.853 || 0.613 seconds, mem : 27132\n",
      "\u001b[0m"
     ]
    },
    {
     "name": "stderr",
     "output_type": "stream",
     "text": [
      "episode: 1591/3000  53% ETA:  0:05:02 |////////////////////                  | \r"
     ]
    },
    {
     "name": "stdout",
     "output_type": "stream",
     "text": [
      "\u001b[41mEpisode 1593 with 30 steps || Reward : [0.   0.09] || avg reward :  0.024 || Noise  0.853 || 0.245 seconds, mem : 27276\n",
      "\u001b[0m"
     ]
    },
    {
     "name": "stderr",
     "output_type": "stream",
     "text": [
      "episode: 1595/3000  53% ETA:  0:05:01 |--------------------                  | \r"
     ]
    },
    {
     "name": "stdout",
     "output_type": "stream",
     "text": [
      "\u001b[41mEpisode 1594 with 27 steps || Reward : [-0.01  0.1 ] || avg reward :  0.025 || Noise  0.853 || 0.402 seconds, mem : 27303\n",
      "\u001b[0m"
     ]
    },
    {
     "name": "stderr",
     "output_type": "stream",
     "text": [
      "episode: 1600/3000  53% ETA:  0:05:00 |\\\\\\\\\\\\\\\\\\\\\\\\\\\\\\\\\\\\\\\\                  | \r"
     ]
    },
    {
     "name": "stdout",
     "output_type": "stream",
     "text": [
      "Episode 1600 with 14 steps || Reward : [-0.01  0.  ] || avg reward :  0.022 || Noise  0.852 || 0.335 seconds, mem : 27400\n",
      "\u001b[0m"
     ]
    },
    {
     "name": "stderr",
     "output_type": "stream",
     "text": [
      "episode: 1604/3000  53% ETA:  0:04:59 |||||||||||||||||||||                  | \r"
     ]
    },
    {
     "name": "stdout",
     "output_type": "stream",
     "text": [
      "\u001b[41mEpisode 1604 with 30 steps || Reward : [0.   0.09] || avg reward :  0.022 || Noise  0.852 || 0.418 seconds, mem : 27473\n",
      "\u001b[0m"
     ]
    },
    {
     "name": "stderr",
     "output_type": "stream",
     "text": [
      "episode: 1609/3000  53% ETA:  0:04:58 |////////////////////                  | \r"
     ]
    },
    {
     "name": "stdout",
     "output_type": "stream",
     "text": [
      "\u001b[41mEpisode 1610 with 32 steps || Reward : [0.   0.09] || avg reward :  0.022 || Noise  0.851 || 0.417 seconds, mem : 27576\n",
      "\u001b[0m"
     ]
    },
    {
     "name": "stderr",
     "output_type": "stream",
     "text": [
      "episode: 1614/3000  53% ETA:  0:04:57 |--------------------                  | \r"
     ]
    },
    {
     "name": "stdout",
     "output_type": "stream",
     "text": [
      "\u001b[44mEpisode 1612 with 33 steps || Reward : [0.1  0.09] || avg reward :  0.023 || Noise  0.851 || 0.345 seconds, mem : 27623\n",
      "\u001b[0m\u001b[41mEpisode 1616 with 30 steps || Reward : [0.   0.09] || avg reward :  0.023 || Noise  0.851 || 0.358 seconds, mem : 27695\n",
      "\u001b[0m"
     ]
    },
    {
     "name": "stderr",
     "output_type": "stream",
     "text": [
      "episode: 1619/3000  53% ETA:  0:04:56 |\\\\\\\\\\\\\\\\\\\\\\\\\\\\\\\\\\\\\\\\                  | \r"
     ]
    },
    {
     "name": "stdout",
     "output_type": "stream",
     "text": [
      "Episode 1620 with 14 steps || Reward : [ 0.   -0.01] || avg reward :  0.022 || Noise  0.850 || 0.280 seconds, mem : 27751\n",
      "\u001b[0m"
     ]
    },
    {
     "name": "stderr",
     "output_type": "stream",
     "text": [
      "episode: 1627/3000  54% ETA:  0:04:55 |////////////////////                  | \r"
     ]
    },
    {
     "name": "stdout",
     "output_type": "stream",
     "text": [
      "\u001b[41mEpisode 1626 with 30 steps || Reward : [0.   0.09] || avg reward :  0.021 || Noise  0.850 || 0.462 seconds, mem : 27864\n",
      "\u001b[0m\u001b[41mEpisode 1631 with 30 steps || Reward : [0.   0.09] || avg reward :  0.021 || Noise  0.849 || 0.266 seconds, mem : 27950\n",
      "\u001b[0m"
     ]
    },
    {
     "name": "stderr",
     "output_type": "stream",
     "text": [
      "episode: 1633/3000  54% ETA:  0:04:54 |--------------------                  | \r"
     ]
    },
    {
     "name": "stdout",
     "output_type": "stream",
     "text": [
      "\u001b[41mEpisode 1634 with 29 steps || Reward : [-0.01  0.1 ] || avg reward :  0.022 || Noise  0.849 || 0.368 seconds, mem : 28007\n",
      "\u001b[0m"
     ]
    },
    {
     "name": "stderr",
     "output_type": "stream",
     "text": [
      "episode: 1638/3000  54% ETA:  0:04:52 |\\\\\\\\\\\\\\\\\\\\\\\\\\\\\\\\\\\\\\\\                  | \r"
     ]
    },
    {
     "name": "stdout",
     "output_type": "stream",
     "text": [
      "\u001b[41mEpisode 1637 with 29 steps || Reward : [-0.01  0.1 ] || avg reward :  0.023 || Noise  0.849 || 0.199 seconds, mem : 28064\n",
      "\u001b[0m\u001b[44mEpisode 1639 with 32 steps || Reward : [0.1  0.09] || avg reward :  0.024 || Noise  0.849 || 0.252 seconds, mem : 28111\n",
      "\u001b[0mEpisode 1640 with 14 steps || Reward : [-0.01  0.  ] || avg reward :  0.023 || Noise  0.849 || 0.327 seconds, mem : 28125\n",
      "\u001b[0m"
     ]
    },
    {
     "name": "stderr",
     "output_type": "stream",
     "text": [
      "episode: 1648/3000  54% ETA:  0:04:50 |////////////////////                  | \r"
     ]
    },
    {
     "name": "stdout",
     "output_type": "stream",
     "text": [
      "\u001b[44mEpisode 1649 with 33 steps || Reward : [0.1  0.09] || avg reward :  0.022 || Noise  0.848 || 0.354 seconds, mem : 28282\n",
      "\u001b[0m"
     ]
    },
    {
     "name": "stderr",
     "output_type": "stream",
     "text": [
      "episode: 1651/3000  55% ETA:  0:04:50 |--------------------                  | \r"
     ]
    },
    {
     "name": "stdout",
     "output_type": "stream",
     "text": [
      "\u001b[41mEpisode 1652 with 31 steps || Reward : [0.   0.09] || avg reward :  0.023 || Noise  0.848 || 0.329 seconds, mem : 28342\n",
      "\u001b[0m"
     ]
    },
    {
     "name": "stderr",
     "output_type": "stream",
     "text": [
      "episode: 1657/3000  55% ETA:  0:04:49 |\\\\\\\\\\\\\\\\\\\\\\\\\\\\\\\\\\\\\\\\                  | \r"
     ]
    },
    {
     "name": "stdout",
     "output_type": "stream",
     "text": [
      "Episode 1660 with 14 steps || Reward : [-0.01  0.  ] || avg reward :  0.021 || Noise  0.847 || 0.232 seconds, mem : 28455\n",
      "\u001b[0m"
     ]
    },
    {
     "name": "stderr",
     "output_type": "stream",
     "text": [
      "episode: 1663/3000  55% ETA:  0:04:47 ||||||||||||||||||||||                 | \r"
     ]
    },
    {
     "name": "stdout",
     "output_type": "stream",
     "text": [
      "\u001b[41mEpisode 1662 with 32 steps || Reward : [0.   0.09] || avg reward :  0.021 || Noise  0.847 || 0.499 seconds, mem : 28501\n",
      "\u001b[0m\u001b[41mEpisode 1665 with 32 steps || Reward : [0.   0.09] || avg reward :  0.020 || Noise  0.847 || 0.275 seconds, mem : 28561\n",
      "\u001b[0m"
     ]
    },
    {
     "name": "stderr",
     "output_type": "stream",
     "text": [
      "episode: 1667/3000  55% ETA:  0:04:47 |/////////////////////                 | \r"
     ]
    },
    {
     "name": "stdout",
     "output_type": "stream",
     "text": [
      "\u001b[41mEpisode 1668 with 30 steps || Reward : [0.   0.09] || avg reward :  0.019 || Noise  0.846 || 0.381 seconds, mem : 28626\n",
      "\u001b[0m"
     ]
    },
    {
     "name": "stderr",
     "output_type": "stream",
     "text": [
      "episode: 1672/3000  55% ETA:  0:04:46 |---------------------                 | \r"
     ]
    },
    {
     "name": "stdout",
     "output_type": "stream",
     "text": [
      "\u001b[41mEpisode 1671 with 41 steps || Reward : [0.   0.09] || avg reward :  0.020 || Noise  0.846 || 0.327 seconds, mem : 28696\n",
      "\u001b[0m"
     ]
    },
    {
     "name": "stderr",
     "output_type": "stream",
     "text": [
      "episode: 1677/3000  55% ETA:  0:04:45 |\\\\\\\\\\\\\\\\\\\\\\\\\\\\\\\\\\\\\\\\\\                 | \r"
     ]
    },
    {
     "name": "stdout",
     "output_type": "stream",
     "text": [
      "Episode 1680 with 14 steps || Reward : [ 0.   -0.01] || avg reward :  0.017 || Noise  0.845 || 0.210 seconds, mem : 28828\n",
      "\u001b[0m"
     ]
    },
    {
     "name": "stderr",
     "output_type": "stream",
     "text": [
      "episode: 1683/3000  56% ETA:  0:04:44 ||||||||||||||||||||||                 | \r"
     ]
    },
    {
     "name": "stdout",
     "output_type": "stream",
     "text": [
      "\u001b[41mEpisode 1684 with 31 steps || Reward : [0.   0.09] || avg reward :  0.017 || Noise  0.845 || 0.349 seconds, mem : 28907\n",
      "\u001b[0m"
     ]
    },
    {
     "name": "stderr",
     "output_type": "stream",
     "text": [
      "episode: 1692/3000  56% ETA:  0:04:42 |---------------------                 | \r"
     ]
    },
    {
     "name": "stdout",
     "output_type": "stream",
     "text": [
      "\u001b[41mEpisode 1691 with 31 steps || Reward : [0.   0.09] || avg reward :  0.018 || Noise  0.844 || 0.250 seconds, mem : 29023\n",
      "\u001b[0m\u001b[41mEpisode 1693 with 32 steps || Reward : [0.   0.09] || avg reward :  0.018 || Noise  0.844 || 0.225 seconds, mem : 29069\n",
      "\u001b[0m"
     ]
    },
    {
     "name": "stderr",
     "output_type": "stream",
     "text": [
      "episode: 1697/3000  56% ETA:  0:04:41 |\\\\\\\\\\\\\\\\\\\\\\\\\\\\\\\\\\\\\\\\\\                 | \r"
     ]
    },
    {
     "name": "stdout",
     "output_type": "stream",
     "text": [
      "\u001b[41mEpisode 1696 with 32 steps || Reward : [0.   0.09] || avg reward :  0.018 || Noise  0.844 || 0.385 seconds, mem : 29129\n",
      "\u001b[0m"
     ]
    },
    {
     "name": "stderr",
     "output_type": "stream",
     "text": [
      "episode: 1702/3000  56% ETA:  0:04:40 ||||||||||||||||||||||                 | \r"
     ]
    },
    {
     "name": "stdout",
     "output_type": "stream",
     "text": [
      "\u001b[41mEpisode 1700 with 27 steps || Reward : [-0.01  0.1 ] || avg reward :  0.019 || Noise  0.844 || 0.346 seconds, mem : 29199\n",
      "\u001b[0m"
     ]
    },
    {
     "name": "stderr",
     "output_type": "stream",
     "text": [
      "episode: 1707/3000  56% ETA:  0:04:39 |/////////////////////                 | \r"
     ]
    },
    {
     "name": "stdout",
     "output_type": "stream",
     "text": [
      "\u001b[41mEpisode 1706 with 30 steps || Reward : [0.   0.09] || avg reward :  0.019 || Noise  0.843 || 0.308 seconds, mem : 29302\n",
      "\u001b[0m"
     ]
    },
    {
     "name": "stderr",
     "output_type": "stream",
     "text": [
      "episode: 1713/3000  57% ETA:  0:04:37 |---------------------                 | \r"
     ]
    },
    {
     "name": "stdout",
     "output_type": "stream",
     "text": [
      "\u001b[41mEpisode 1713 with 30 steps || Reward : [0.   0.09] || avg reward :  0.018 || Noise  0.842 || 0.819 seconds, mem : 29417\n",
      "\u001b[0m"
     ]
    },
    {
     "name": "stderr",
     "output_type": "stream",
     "text": [
      "episode: 1715/3000  57% ETA:  0:04:38 |\\\\\\\\\\\\\\\\\\\\\\\\\\\\\\\\\\\\\\\\\\                 | \r"
     ]
    },
    {
     "name": "stdout",
     "output_type": "stream",
     "text": [
      "\u001b[41mEpisode 1715 with 31 steps || Reward : [0.   0.09] || avg reward :  0.019 || Noise  0.842 || 0.319 seconds, mem : 29462\n",
      "\u001b[0m"
     ]
    },
    {
     "name": "stderr",
     "output_type": "stream",
     "text": [
      "episode: 1720/3000  57% ETA:  0:04:37 ||||||||||||||||||||||                 | \r"
     ]
    },
    {
     "name": "stdout",
     "output_type": "stream",
     "text": [
      "\u001b[41mEpisode 1720 with 26 steps || Reward : [-0.01  0.1 ] || avg reward :  0.019 || Noise  0.842 || 0.951 seconds, mem : 29548\n",
      "\u001b[0m"
     ]
    },
    {
     "name": "stderr",
     "output_type": "stream",
     "text": [
      "episode: 1722/3000  57% ETA:  0:04:37 |/////////////////////                 | \r"
     ]
    },
    {
     "name": "stdout",
     "output_type": "stream",
     "text": [
      "\u001b[41mEpisode 1721 with 31 steps || Reward : [0.   0.09] || avg reward :  0.020 || Noise  0.842 || 0.228 seconds, mem : 29579\n",
      "\u001b[0m\u001b[41mEpisode 1724 with 28 steps || Reward : [-0.01  0.1 ] || avg reward :  0.021 || Noise  0.842 || 0.401 seconds, mem : 29635\n",
      "\u001b[0m"
     ]
    },
    {
     "name": "stderr",
     "output_type": "stream",
     "text": [
      "episode: 1731/3000  57% ETA:  0:04:36 |\\\\\\\\\\\\\\\\\\\\\\\\\\\\\\\\\\\\\\\\\\                 | \r"
     ]
    },
    {
     "name": "stdout",
     "output_type": "stream",
     "text": [
      "\u001b[41mEpisode 1732 with 32 steps || Reward : [0.   0.09] || avg reward :  0.020 || Noise  0.841 || 0.479 seconds, mem : 29766\n",
      "\u001b[0m"
     ]
    },
    {
     "name": "stderr",
     "output_type": "stream",
     "text": [
      "episode: 1739/3000  57% ETA:  0:04:34 |//////////////////////                | \r"
     ]
    },
    {
     "name": "stdout",
     "output_type": "stream",
     "text": [
      "\u001b[41mEpisode 1738 with 31 steps || Reward : [0.   0.09] || avg reward :  0.019 || Noise  0.840 || 0.446 seconds, mem : 29868\n",
      "\u001b[0m\u001b[41mEpisode 1740 with 32 steps || Reward : [0.   0.09] || avg reward :  0.018 || Noise  0.840 || 0.391 seconds, mem : 29914\n",
      "\u001b[0m\u001b[41mEpisode 1741 with 31 steps || Reward : [0.   0.09] || avg reward :  0.019 || Noise  0.840 || 0.239 seconds, mem : 29945\n",
      "\u001b[0m"
     ]
    },
    {
     "name": "stderr",
     "output_type": "stream",
     "text": [
      "episode: 1743/3000  58% ETA:  0:04:33 |----------------------                | \r"
     ]
    },
    {
     "name": "stdout",
     "output_type": "stream",
     "text": [
      "\u001b[41mEpisode 1742 with 30 steps || Reward : [0.   0.09] || avg reward :  0.020 || Noise  0.840 || 0.396 seconds, mem : 29975\n",
      "\u001b[0m\u001b[41mEpisode 1747 with 28 steps || Reward : [-0.01  0.1 ] || avg reward :  0.021 || Noise  0.840 || 0.248 seconds, mem : 30060\n",
      "\u001b[0m"
     ]
    },
    {
     "name": "stderr",
     "output_type": "stream",
     "text": [
      "episode: 1751/3000  58% ETA:  0:04:32 |||||||||||||||||||||||                | \r"
     ]
    },
    {
     "name": "stdout",
     "output_type": "stream",
     "text": [
      "\u001b[41mEpisode 1751 with 26 steps || Reward : [-0.01  0.1 ] || avg reward :  0.021 || Noise  0.839 || 0.409 seconds, mem : 30129\n",
      "\u001b[0m"
     ]
    },
    {
     "name": "stderr",
     "output_type": "stream",
     "text": [
      "episode: 1754/3000  58% ETA:  0:04:32 |//////////////////////                | \r"
     ]
    },
    {
     "name": "stdout",
     "output_type": "stream",
     "text": [
      "\u001b[41mEpisode 1753 with 30 steps || Reward : [0.   0.09] || avg reward :  0.021 || Noise  0.839 || 0.369 seconds, mem : 30173\n",
      "\u001b[0m"
     ]
    },
    {
     "name": "stderr",
     "output_type": "stream",
     "text": [
      "episode: 1757/3000  58% ETA:  0:04:32 |----------------------                | \r"
     ]
    },
    {
     "name": "stdout",
     "output_type": "stream",
     "text": [
      "\u001b[41mEpisode 1756 with 27 steps || Reward : [-0.01  0.1 ] || avg reward :  0.022 || Noise  0.839 || 0.806 seconds, mem : 30229\n",
      "\u001b[0m"
     ]
    },
    {
     "name": "stderr",
     "output_type": "stream",
     "text": [
      "episode: 1759/3000  58% ETA:  0:04:32 |\\\\\\\\\\\\\\\\\\\\\\\\\\\\\\\\\\\\\\\\\\\\                | \r"
     ]
    },
    {
     "name": "stdout",
     "output_type": "stream",
     "text": [
      "\u001b[41mEpisode 1760 with 30 steps || Reward : [-0.01  0.1 ] || avg reward :  0.023 || Noise  0.839 || 0.750 seconds, mem : 30302\n",
      "\u001b[0m"
     ]
    },
    {
     "name": "stderr",
     "output_type": "stream",
     "text": [
      "episode: 1762/3000  58% ETA:  0:04:32 |||||||||||||||||||||||                | \r"
     ]
    },
    {
     "name": "stdout",
     "output_type": "stream",
     "text": [
      "\u001b[41mEpisode 1765 with 31 steps || Reward : [-0.01  0.1 ] || avg reward :  0.022 || Noise  0.838 || 0.121 seconds, mem : 30390\n",
      "\u001b[0m"
     ]
    },
    {
     "name": "stderr",
     "output_type": "stream",
     "text": [
      "episode: 1770/3000  59% ETA:  0:04:29 |//////////////////////                | \r"
     ]
    },
    {
     "name": "stdout",
     "output_type": "stream",
     "text": [
      "\u001b[44mEpisode 1771 with 35 steps || Reward : [0.1  0.09] || avg reward :  0.022 || Noise  0.838 || 0.141 seconds, mem : 30496\n",
      "\u001b[0m"
     ]
    },
    {
     "name": "stderr",
     "output_type": "stream",
     "text": [
      "episode: 1780/3000  59% ETA:  0:04:28 |||||||||||||||||||||||                | \r"
     ]
    },
    {
     "name": "stdout",
     "output_type": "stream",
     "text": [
      "Episode 1780 with 14 steps || Reward : [ 0.   -0.01] || avg reward :  0.022 || Noise  0.837 || 0.501 seconds, mem : 30623\n",
      "\u001b[0m"
     ]
    },
    {
     "name": "stderr",
     "output_type": "stream",
     "text": [
      "episode: 1786/3000  59% ETA:  0:04:28 |----------------------                | \r"
     ]
    },
    {
     "name": "stdout",
     "output_type": "stream",
     "text": [
      "\u001b[41mEpisode 1787 with 33 steps || Reward : [0.   0.09] || avg reward :  0.022 || Noise  0.836 || 0.270 seconds, mem : 30741\n",
      "\u001b[0m"
     ]
    },
    {
     "name": "stderr",
     "output_type": "stream",
     "text": [
      "episode: 1790/3000  59% ETA:  0:04:27 |\\\\\\\\\\\\\\\\\\\\\\\\\\\\\\\\\\\\\\\\\\\\                | \r"
     ]
    },
    {
     "name": "stdout",
     "output_type": "stream",
     "text": [
      "\u001b[41mEpisode 1790 with 31 steps || Reward : [0.   0.09] || avg reward :  0.023 || Noise  0.836 || 0.464 seconds, mem : 30800\n",
      "\u001b[0m\u001b[41mEpisode 1792 with 30 steps || Reward : [0.   0.09] || avg reward :  0.023 || Noise  0.836 || 0.335 seconds, mem : 30844\n",
      "\u001b[0m"
     ]
    },
    {
     "name": "stderr",
     "output_type": "stream",
     "text": [
      "episode: 1801/3000  60% ETA:  0:04:24 |//////////////////////                | \r"
     ]
    },
    {
     "name": "stdout",
     "output_type": "stream",
     "text": [
      "Episode 1800 with 14 steps || Reward : [-0.01  0.  ] || avg reward :  0.020 || Noise  0.835 || 0.218 seconds, mem : 30967\n",
      "\u001b[0m\u001b[41mEpisode 1801 with 32 steps || Reward : [0.   0.09] || avg reward :  0.021 || Noise  0.835 || 0.284 seconds, mem : 30999\n",
      "\u001b[0m\u001b[41mEpisode 1804 with 30 steps || Reward : [0.   0.09] || avg reward :  0.022 || Noise  0.835 || 0.281 seconds, mem : 31058\n",
      "\u001b[0m"
     ]
    },
    {
     "name": "stderr",
     "output_type": "stream",
     "text": [
      "episode: 1811/3000  60% ETA:  0:04:23 |\\\\\\\\\\\\\\\\\\\\\\\\\\\\\\\\\\\\\\\\\\\\                | \r"
     ]
    },
    {
     "name": "stdout",
     "output_type": "stream",
     "text": [
      "\u001b[41mEpisode 1813 with 31 steps || Reward : [0.   0.09] || avg reward :  0.021 || Noise  0.834 || 0.247 seconds, mem : 31208\n",
      "\u001b[0m"
     ]
    },
    {
     "name": "stderr",
     "output_type": "stream",
     "text": [
      "episode: 1815/3000  60% ETA:  0:04:22 |||||||||||||||||||||||                | \r"
     ]
    },
    {
     "name": "stdout",
     "output_type": "stream",
     "text": [
      "\u001b[41mEpisode 1814 with 29 steps || Reward : [0.   0.09] || avg reward :  0.022 || Noise  0.834 || 0.464 seconds, mem : 31237\n",
      "\u001b[0m"
     ]
    },
    {
     "name": "stderr",
     "output_type": "stream",
     "text": [
      "episode: 1819/3000  60% ETA:  0:04:21 |///////////////////////               | \r"
     ]
    },
    {
     "name": "stdout",
     "output_type": "stream",
     "text": [
      "\u001b[41mEpisode 1818 with 30 steps || Reward : [0.   0.09] || avg reward :  0.022 || Noise  0.834 || 0.715 seconds, mem : 31323\n",
      "\u001b[0m\u001b[41mEpisode 1819 with 30 steps || Reward : [0.   0.09] || avg reward :  0.022 || Noise  0.834 || 0.249 seconds, mem : 31353\n",
      "\u001b[0m"
     ]
    },
    {
     "name": "stderr",
     "output_type": "stream",
     "text": [
      "episode: 1821/3000  60% ETA:  0:04:21 |-----------------------               | \r"
     ]
    },
    {
     "name": "stdout",
     "output_type": "stream",
     "text": [
      "Episode 1820 with 14 steps || Reward : [ 0.   -0.01] || avg reward :  0.021 || Noise  0.834 || 0.831 seconds, mem : 31367\n",
      "\u001b[0m"
     ]
    },
    {
     "name": "stderr",
     "output_type": "stream",
     "text": [
      "episode: 1826/3000  60% ETA:  0:04:20 |\\\\\\\\\\\\\\\\\\\\\\\\\\\\\\\\\\\\\\\\\\\\\\               | \r"
     ]
    },
    {
     "name": "stdout",
     "output_type": "stream",
     "text": [
      "\u001b[41mEpisode 1827 with 30 steps || Reward : [-0.01  0.1 ] || avg reward :  0.021 || Noise  0.833 || 0.184 seconds, mem : 31488\n",
      "\u001b[0m"
     ]
    },
    {
     "name": "stderr",
     "output_type": "stream",
     "text": [
      "episode: 1839/3000  61% ETA:  0:04:19 |-----------------------               | \r"
     ]
    },
    {
     "name": "stdout",
     "output_type": "stream",
     "text": [
      "\u001b[41mEpisode 1840 with 28 steps || Reward : [-0.01  0.1 ] || avg reward :  0.019 || Noise  0.832 || 0.477 seconds, mem : 31686\n",
      "\u001b[0m\u001b[41mEpisode 1841 with 27 steps || Reward : [-0.01  0.1 ] || avg reward :  0.019 || Noise  0.832 || 0.170 seconds, mem : 31713\n",
      "\u001b[0m"
     ]
    },
    {
     "name": "stderr",
     "output_type": "stream",
     "text": [
      "episode: 1843/3000  61% ETA:  0:04:18 |\\\\\\\\\\\\\\\\\\\\\\\\\\\\\\\\\\\\\\\\\\\\\\               | \r"
     ]
    },
    {
     "name": "stdout",
     "output_type": "stream",
     "text": [
      "\u001b[41mEpisode 1843 with 31 steps || Reward : [0.   0.09] || avg reward :  0.019 || Noise  0.832 || 0.343 seconds, mem : 31758\n",
      "\u001b[0m"
     ]
    },
    {
     "name": "stderr",
     "output_type": "stream",
     "text": [
      "episode: 1852/3000  61% ETA:  0:04:16 |///////////////////////               | \r"
     ]
    },
    {
     "name": "stdout",
     "output_type": "stream",
     "text": [
      "\u001b[41mEpisode 1851 with 31 steps || Reward : [0.   0.09] || avg reward :  0.018 || Noise  0.831 || 0.288 seconds, mem : 31892\n",
      "\u001b[0m"
     ]
    },
    {
     "name": "stderr",
     "output_type": "stream",
     "text": [
      "episode: 1859/3000  61% ETA:  0:04:15 |\\\\\\\\\\\\\\\\\\\\\\\\\\\\\\\\\\\\\\\\\\\\\\               | \r"
     ]
    },
    {
     "name": "stdout",
     "output_type": "stream",
     "text": [
      "\u001b[41mEpisode 1859 with 31 steps || Reward : [0.   0.09] || avg reward :  0.017 || Noise  0.830 || 0.286 seconds, mem : 32023\n",
      "\u001b[0mEpisode 1860 with 14 steps || Reward : [-0.01  0.  ] || avg reward :  0.016 || Noise  0.830 || 0.294 seconds, mem : 32037\n",
      "\u001b[0m"
     ]
    },
    {
     "name": "stderr",
     "output_type": "stream",
     "text": [
      "episode: 1865/3000  62% ETA:  0:04:14 ||||||||||||||||||||||||               | \r"
     ]
    },
    {
     "name": "stdout",
     "output_type": "stream",
     "text": [
      "\u001b[41mEpisode 1864 with 30 steps || Reward : [0.   0.09] || avg reward :  0.017 || Noise  0.830 || 0.435 seconds, mem : 32110\n",
      "\u001b[0m\u001b[41mEpisode 1865 with 33 steps || Reward : [0.   0.09] || avg reward :  0.017 || Noise  0.830 || 0.233 seconds, mem : 32143\n",
      "\u001b[0m\u001b[41mEpisode 1867 with 28 steps || Reward : [-0.01  0.1 ] || avg reward :  0.018 || Noise  0.830 || 0.221 seconds, mem : 32185\n",
      "\u001b[0m"
     ]
    },
    {
     "name": "stderr",
     "output_type": "stream",
     "text": [
      "episode: 1875/3000  62% ETA:  0:04:12 |-----------------------               | \r"
     ]
    },
    {
     "name": "stdout",
     "output_type": "stream",
     "text": [
      "Episode 1880 with 14 steps || Reward : [-0.01  0.  ] || avg reward :  0.017 || Noise  0.829 || 0.190 seconds, mem : 32370\n",
      "\u001b[0m"
     ]
    },
    {
     "name": "stderr",
     "output_type": "stream",
     "text": [
      "episode: 1883/3000  62% ETA:  0:04:09 |\\\\\\\\\\\\\\\\\\\\\\\\\\\\\\\\\\\\\\\\\\\\\\               | \r"
     ]
    },
    {
     "name": "stdout",
     "output_type": "stream",
     "text": [
      "\u001b[41mEpisode 1886 with 32 steps || Reward : [0.   0.09] || avg reward :  0.018 || Noise  0.828 || 0.232 seconds, mem : 32473\n",
      "\u001b[0m\u001b[41mEpisode 1887 with 30 steps || Reward : [0.   0.09] || avg reward :  0.018 || Noise  0.828 || 0.212 seconds, mem : 32503\n",
      "\u001b[0m"
     ]
    },
    {
     "name": "stderr",
     "output_type": "stream",
     "text": [
      "episode: 1898/3000  63% ETA:  0:04:05 |////////////////////////              | \r"
     ]
    },
    {
     "name": "stdout",
     "output_type": "stream",
     "text": [
      "\u001b[41mEpisode 1900 with 27 steps || Reward : [-0.01  0.1 ] || avg reward :  0.017 || Noise  0.827 || 0.179 seconds, mem : 32700\n",
      "\u001b[0m\u001b[41mEpisode 1902 with 31 steps || Reward : [0.   0.09] || avg reward :  0.017 || Noise  0.827 || 0.167 seconds, mem : 32745\n",
      "\u001b[0m"
     ]
    },
    {
     "name": "stderr",
     "output_type": "stream",
     "text": [
      "episode: 1922/3000  64% ETA:  0:03:58 |\\\\\\\\\\\\\\\\\\\\\\\\\\\\\\\\\\\\\\\\\\\\\\\\              | \r"
     ]
    },
    {
     "name": "stdout",
     "output_type": "stream",
     "text": [
      "Episode 1920 with 14 steps || Reward : [-0.01  0.  ] || avg reward :  0.012 || Noise  0.825 || 0.099 seconds, mem : 33000\n",
      "\u001b[0m\u001b[44mEpisode 1921 with 33 steps || Reward : [0.1  0.09] || avg reward :  0.013 || Noise  0.825 || 0.106 seconds, mem : 33033\n",
      "\u001b[0m\u001b[41mEpisode 1922 with 31 steps || Reward : [0.   0.09] || avg reward :  0.014 || Noise  0.825 || 0.148 seconds, mem : 33064\n",
      "\u001b[0m\u001b[41mEpisode 1926 with 29 steps || Reward : [0.   0.09] || avg reward :  0.015 || Noise  0.825 || 0.164 seconds, mem : 33136\n",
      "\u001b[0m"
     ]
    },
    {
     "name": "stderr",
     "output_type": "stream",
     "text": [
      "episode: 1933/3000  64% ETA:  0:03:55 |||||||||||||||||||||||||              | \r"
     ]
    },
    {
     "name": "stdout",
     "output_type": "stream",
     "text": [
      "\u001b[41mEpisode 1934 with 31 steps || Reward : [0.   0.09] || avg reward :  0.015 || Noise  0.824 || 0.153 seconds, mem : 33280\n",
      "\u001b[0m\u001b[41mEpisode 1935 with 30 steps || Reward : [-0.01  0.1 ] || avg reward :  0.016 || Noise  0.824 || 0.100 seconds, mem : 33310\n",
      "\u001b[0m\u001b[41mEpisode 1940 with 32 steps || Reward : [ 0.1  -0.01] || avg reward :  0.016 || Noise  0.824 || 0.162 seconds, mem : 33398\n",
      "\u001b[0m"
     ]
    },
    {
     "name": "stderr",
     "output_type": "stream",
     "text": [
      "episode: 1944/3000  64% ETA:  0:03:52 |////////////////////////              | \r"
     ]
    },
    {
     "name": "stdout",
     "output_type": "stream",
     "text": [
      "\u001b[41mEpisode 1943 with 30 steps || Reward : [0.   0.09] || avg reward :  0.015 || Noise  0.823 || 0.102 seconds, mem : 33457\n",
      "\u001b[0m\u001b[41mEpisode 1946 with 31 steps || Reward : [0.   0.09] || avg reward :  0.016 || Noise  0.823 || 0.160 seconds, mem : 33516\n",
      "\u001b[0m\u001b[41mEpisode 1947 with 28 steps || Reward : [-0.01  0.1 ] || avg reward :  0.017 || Noise  0.823 || 0.081 seconds, mem : 33544\n",
      "\u001b[0m"
     ]
    },
    {
     "name": "stderr",
     "output_type": "stream",
     "text": [
      "episode: 1953/3000  65% ETA:  0:03:49 |------------------------              | \r"
     ]
    },
    {
     "name": "stdout",
     "output_type": "stream",
     "text": [
      "\u001b[41mEpisode 1951 with 43 steps || Reward : [0.   0.09] || avg reward :  0.017 || Noise  0.823 || 0.185 seconds, mem : 33630\n",
      "\u001b[0m\u001b[41mEpisode 1956 with 31 steps || Reward : [0.   0.09] || avg reward :  0.018 || Noise  0.822 || 0.197 seconds, mem : 33717\n",
      "\u001b[0m"
     ]
    },
    {
     "name": "stderr",
     "output_type": "stream",
     "text": [
      "episode: 1963/3000  65% ETA:  0:03:46 |\\\\\\\\\\\\\\\\\\\\\\\\\\\\\\\\\\\\\\\\\\\\\\\\              | \r"
     ]
    },
    {
     "name": "stdout",
     "output_type": "stream",
     "text": [
      "Episode 1960 with 14 steps || Reward : [ 0.   -0.01] || avg reward :  0.017 || Noise  0.822 || 0.103 seconds, mem : 33773\n",
      "\u001b[0m\u001b[44mEpisode 1965 with 33 steps || Reward : [0.1  0.09] || avg reward :  0.016 || Noise  0.822 || 0.097 seconds, mem : 33863\n",
      "\u001b[0m"
     ]
    },
    {
     "name": "stderr",
     "output_type": "stream",
     "text": [
      "episode: 1968/3000  65% ETA:  0:03:45 |||||||||||||||||||||||||              | \r"
     ]
    },
    {
     "name": "stdout",
     "output_type": "stream",
     "text": [
      "\u001b[41mEpisode 1968 with 31 steps || Reward : [0.   0.09] || avg reward :  0.016 || Noise  0.821 || 0.229 seconds, mem : 33923\n",
      "\u001b[0m"
     ]
    },
    {
     "name": "stderr",
     "output_type": "stream",
     "text": [
      "episode: 1975/3000  65% ETA:  0:03:43 |/////////////////////////             | \r"
     ]
    },
    {
     "name": "stdout",
     "output_type": "stream",
     "text": [
      "\u001b[41mEpisode 1974 with 29 steps || Reward : [0.   0.09] || avg reward :  0.017 || Noise  0.821 || 0.259 seconds, mem : 34023\n",
      "\u001b[0m"
     ]
    },
    {
     "name": "stderr",
     "output_type": "stream",
     "text": [
      "episode: 1980/3000  66% ETA:  0:03:42 |-------------------------             | \r"
     ]
    },
    {
     "name": "stdout",
     "output_type": "stream",
     "text": [
      "Episode 1980 with 14 steps || Reward : [ 0.   -0.01] || avg reward :  0.017 || Noise  0.820 || 0.127 seconds, mem : 34108\n",
      "\u001b[0m"
     ]
    },
    {
     "name": "stderr",
     "output_type": "stream",
     "text": [
      "episode: 1989/3000  66% ETA:  0:03:40 |\\\\\\\\\\\\\\\\\\\\\\\\\\\\\\\\\\\\\\\\\\\\\\\\\\             | \r"
     ]
    },
    {
     "name": "stdout",
     "output_type": "stream",
     "text": [
      "\u001b[41mEpisode 1992 with 30 steps || Reward : [0.   0.09] || avg reward :  0.016 || Noise  0.819 || 0.173 seconds, mem : 34294\n",
      "\u001b[0m\u001b[41mEpisode 1994 with 28 steps || Reward : [-0.01  0.1 ] || avg reward :  0.017 || Noise  0.819 || 0.164 seconds, mem : 34336\n",
      "\u001b[0m"
     ]
    },
    {
     "name": "stderr",
     "output_type": "stream",
     "text": [
      "episode: 1997/3000  66% ETA:  0:03:38 ||||||||||||||||||||||||||             | \r"
     ]
    },
    {
     "name": "stdout",
     "output_type": "stream",
     "text": [
      "\u001b[41mEpisode 1997 with 32 steps || Reward : [0.   0.09] || avg reward :  0.018 || Noise  0.819 || 0.107 seconds, mem : 34397\n",
      "\u001b[0mEpisode 2000 with 15 steps || Reward : [ 0.   -0.01] || avg reward :  0.017 || Noise  0.819 || 0.139 seconds, mem : 34440\n",
      "\u001b[0m"
     ]
    },
    {
     "name": "stderr",
     "output_type": "stream",
     "text": [
      "episode: 2007/3000  66% ETA:  0:03:35 |/////////////////////////             | \r"
     ]
    },
    {
     "name": "stdout",
     "output_type": "stream",
     "text": [
      "\u001b[41mEpisode 2005 with 30 steps || Reward : [-0.01  0.1 ] || avg reward :  0.017 || Noise  0.818 || 0.140 seconds, mem : 34526\n",
      "\u001b[0m\u001b[41mEpisode 2009 with 31 steps || Reward : [0.   0.09] || avg reward :  0.018 || Noise  0.818 || 0.093 seconds, mem : 34599\n",
      "\u001b[0m"
     ]
    },
    {
     "name": "stderr",
     "output_type": "stream",
     "text": [
      "episode: 2020/3000  67% ETA:  0:03:31 |-------------------------             | \r"
     ]
    },
    {
     "name": "stdout",
     "output_type": "stream",
     "text": [
      "Episode 2020 with 14 steps || Reward : [ 0.   -0.01] || avg reward :  0.018 || Noise  0.817 || 0.105 seconds, mem : 34755\n",
      "\u001b[0m\u001b[41mEpisode 2024 with 41 steps || Reward : [0.   0.09] || avg reward :  0.017 || Noise  0.817 || 0.187 seconds, mem : 34838\n",
      "\u001b[0m\u001b[41mEpisode 2028 with 30 steps || Reward : [0.   0.09] || avg reward :  0.017 || Noise  0.816 || 0.143 seconds, mem : 34910\n",
      "\u001b[0m\u001b[41mEpisode 2029 with 33 steps || Reward : [-0.01  0.1 ] || avg reward :  0.018 || Noise  0.816 || 0.106 seconds, mem : 34943\n",
      "\u001b[0m"
     ]
    },
    {
     "name": "stderr",
     "output_type": "stream",
     "text": [
      "episode: 2031/3000  67% ETA:  0:03:28 |\\\\\\\\\\\\\\\\\\\\\\\\\\\\\\\\\\\\\\\\\\\\\\\\\\             | \r"
     ]
    },
    {
     "name": "stdout",
     "output_type": "stream",
     "text": [
      "\u001b[41mEpisode 2030 with 31 steps || Reward : [0.   0.09] || avg reward :  0.019 || Noise  0.816 || 0.148 seconds, mem : 34974\n",
      "\u001b[0m\u001b[41mEpisode 2036 with 31 steps || Reward : [0.   0.09] || avg reward :  0.018 || Noise  0.816 || 0.153 seconds, mem : 35076\n",
      "\u001b[0m\u001b[41mEpisode 2037 with 33 steps || Reward : [0.   0.09] || avg reward :  0.019 || Noise  0.816 || 0.103 seconds, mem : 35109\n",
      "\u001b[0mEpisode 2040 with 14 steps || Reward : [-0.01  0.  ] || avg reward :  0.018 || Noise  0.815 || 0.106 seconds, mem : 35151\n",
      "\u001b[0m\u001b[41mEpisode 2041 with 32 steps || Reward : [0.   0.09] || avg reward :  0.019 || Noise  0.815 || 0.096 seconds, mem : 35183\n",
      "\u001b[0m"
     ]
    },
    {
     "name": "stderr",
     "output_type": "stream",
     "text": [
      "episode: 2043/3000  68% ETA:  0:03:25 ||||||||||||||||||||||||||             | \r"
     ]
    },
    {
     "name": "stdout",
     "output_type": "stream",
     "text": [
      "\u001b[41mEpisode 2044 with 30 steps || Reward : [-0.01  0.1 ] || avg reward :  0.019 || Noise  0.815 || 0.168 seconds, mem : 35241\n",
      "\u001b[0m\u001b[41mEpisode 2048 with 33 steps || Reward : [-0.01  0.1 ] || avg reward :  0.018 || Noise  0.815 || 0.326 seconds, mem : 35317\n",
      "\u001b[0m"
     ]
    },
    {
     "name": "stderr",
     "output_type": "stream",
     "text": [
      "episode: 2053/3000  68% ETA:  0:03:22 |//////////////////////////            | \r"
     ]
    },
    {
     "name": "stdout",
     "output_type": "stream",
     "text": [
      "\u001b[41mEpisode 2052 with 27 steps || Reward : [-0.01  0.1 ] || avg reward :  0.018 || Noise  0.814 || 0.448 seconds, mem : 35386\n",
      "\u001b[0m"
     ]
    },
    {
     "name": "stderr",
     "output_type": "stream",
     "text": [
      "episode: 2062/3000  68% ETA:  0:03:21 |\\\\\\\\\\\\\\\\\\\\\\\\\\\\\\\\\\\\\\\\\\\\\\\\\\\\            | \r"
     ]
    },
    {
     "name": "stdout",
     "output_type": "stream",
     "text": [
      "Episode 2060 with 14 steps || Reward : [-0.01  0.  ] || avg reward :  0.017 || Noise  0.814 || 0.331 seconds, mem : 35500\n",
      "\u001b[0m"
     ]
    },
    {
     "name": "stderr",
     "output_type": "stream",
     "text": [
      "episode: 2066/3000  68% ETA:  0:03:20 |||||||||||||||||||||||||||            | \r"
     ]
    },
    {
     "name": "stdout",
     "output_type": "stream",
     "text": [
      "\u001b[41mEpisode 2065 with 30 steps || Reward : [0.   0.09] || avg reward :  0.017 || Noise  0.813 || 1.112 seconds, mem : 35587\n",
      "\u001b[0m\u001b[41mEpisode 2067 with 31 steps || Reward : [0.   0.09] || avg reward :  0.018 || Noise  0.813 || 0.320 seconds, mem : 35632\n",
      "\u001b[0m"
     ]
    },
    {
     "name": "stderr",
     "output_type": "stream",
     "text": [
      "episode: 2069/3000  68% ETA:  0:03:20 |//////////////////////////            | \r"
     ]
    },
    {
     "name": "stdout",
     "output_type": "stream",
     "text": [
      "\u001b[41mEpisode 2068 with 31 steps || Reward : [0.   0.09] || avg reward :  0.018 || Noise  0.813 || 0.779 seconds, mem : 35663\n",
      "\u001b[0m\u001b[44mEpisode 2069 with 34 steps || Reward : [0.1  0.09] || avg reward :  0.019 || Noise  0.813 || 0.381 seconds, mem : 35697\n",
      "\u001b[0m\u001b[41mEpisode 2070 with 30 steps || Reward : [0.   0.09] || avg reward :  0.020 || Noise  0.813 || 0.395 seconds, mem : 35727\n",
      "\u001b[0m"
     ]
    },
    {
     "name": "stderr",
     "output_type": "stream",
     "text": [
      "episode: 2072/3000  69% ETA:  0:03:20 |--------------------------            | \r"
     ]
    },
    {
     "name": "stdout",
     "output_type": "stream",
     "text": [
      "\u001b[41mEpisode 2071 with 31 steps || Reward : [-0.01  0.1 ] || avg reward :  0.021 || Noise  0.813 || 0.256 seconds, mem : 35758\n",
      "\u001b[0m\u001b[41mEpisode 2072 with 28 steps || Reward : [-0.01  0.1 ] || avg reward :  0.022 || Noise  0.813 || 0.810 seconds, mem : 35786\n",
      "\u001b[0m"
     ]
    },
    {
     "name": "stderr",
     "output_type": "stream",
     "text": [
      "episode: 2074/3000  69% ETA:  0:03:20 |\\\\\\\\\\\\\\\\\\\\\\\\\\\\\\\\\\\\\\\\\\\\\\\\\\\\            | \r"
     ]
    },
    {
     "name": "stdout",
     "output_type": "stream",
     "text": [
      "\u001b[41mEpisode 2073 with 28 steps || Reward : [-0.01  0.1 ] || avg reward :  0.023 || Noise  0.813 || 0.263 seconds, mem : 35814\n",
      "\u001b[0m\u001b[41mEpisode 2075 with 30 steps || Reward : [0.   0.09] || avg reward :  0.023 || Noise  0.813 || 0.367 seconds, mem : 35859\n",
      "\u001b[0m"
     ]
    },
    {
     "name": "stderr",
     "output_type": "stream",
     "text": [
      "episode: 2077/3000  69% ETA:  0:03:19 |||||||||||||||||||||||||||            | \r"
     ]
    },
    {
     "name": "stdout",
     "output_type": "stream",
     "text": [
      "\u001b[41mEpisode 2076 with 32 steps || Reward : [-0.01  0.1 ] || avg reward :  0.024 || Noise  0.812 || 0.764 seconds, mem : 35891\n",
      "\u001b[0m"
     ]
    },
    {
     "name": "stderr",
     "output_type": "stream",
     "text": [
      "episode: 2082/3000  69% ETA:  0:03:19 |--------------------------            | \r"
     ]
    },
    {
     "name": "stdout",
     "output_type": "stream",
     "text": [
      "\u001b[41mEpisode 2080 with 32 steps || Reward : [0.   0.09] || avg reward :  0.025 || Noise  0.812 || 0.802 seconds, mem : 35965\n",
      "\u001b[0m\u001b[41mEpisode 2082 with 27 steps || Reward : [-0.01  0.1 ] || avg reward :  0.026 || Noise  0.812 || 0.423 seconds, mem : 36006\n",
      "\u001b[0m"
     ]
    },
    {
     "name": "stderr",
     "output_type": "stream",
     "text": [
      "episode: 2087/3000  69% ETA:  0:03:18 |\\\\\\\\\\\\\\\\\\\\\\\\\\\\\\\\\\\\\\\\\\\\\\\\\\\\            | \r"
     ]
    },
    {
     "name": "stdout",
     "output_type": "stream",
     "text": [
      "\u001b[41mEpisode 2086 with 30 steps || Reward : [0.   0.09] || avg reward :  0.026 || Noise  0.812 || 0.397 seconds, mem : 36079\n",
      "\u001b[0m"
     ]
    },
    {
     "name": "stderr",
     "output_type": "stream",
     "text": [
      "episode: 2099/3000  69% ETA:  0:03:16 |--------------------------            | \r"
     ]
    },
    {
     "name": "stdout",
     "output_type": "stream",
     "text": [
      "\u001b[41mEpisode 2099 with 31 steps || Reward : [-0.01  0.1 ] || avg reward :  0.025 || Noise  0.811 || 0.365 seconds, mem : 36280\n",
      "\u001b[0m\u001b[41mEpisode 2100 with 29 steps || Reward : [0.   0.09] || avg reward :  0.026 || Noise  0.810 || 0.446 seconds, mem : 36309\n",
      "\u001b[0m"
     ]
    },
    {
     "name": "stderr",
     "output_type": "stream",
     "text": [
      "episode: 2102/3000  70% ETA:  0:03:15 |\\\\\\\\\\\\\\\\\\\\\\\\\\\\\\\\\\\\\\\\\\\\\\\\\\\\            | \r"
     ]
    },
    {
     "name": "stdout",
     "output_type": "stream",
     "text": [
      "\u001b[41mEpisode 2101 with 32 steps || Reward : [0.   0.09] || avg reward :  0.026 || Noise  0.810 || 0.272 seconds, mem : 36341\n",
      "\u001b[0m"
     ]
    },
    {
     "name": "stderr",
     "output_type": "stream",
     "text": [
      "episode: 2112/3000  70% ETA:  0:03:13 |//////////////////////////            | \r"
     ]
    },
    {
     "name": "stdout",
     "output_type": "stream",
     "text": [
      "\u001b[41mEpisode 2112 with 31 steps || Reward : [0.   0.09] || avg reward :  0.025 || Noise  0.810 || 0.414 seconds, mem : 36528\n",
      "\u001b[0m"
     ]
    },
    {
     "name": "stderr",
     "output_type": "stream",
     "text": [
      "episode: 2116/3000  70% ETA:  0:03:12 |--------------------------            | \r"
     ]
    },
    {
     "name": "stdout",
     "output_type": "stream",
     "text": [
      "\u001b[41mEpisode 2115 with 30 steps || Reward : [0.   0.09] || avg reward :  0.026 || Noise  0.809 || 0.325 seconds, mem : 36586\n",
      "\u001b[0m"
     ]
    },
    {
     "name": "stderr",
     "output_type": "stream",
     "text": [
      "episode: 2121/3000  70% ETA:  0:03:11 |\\\\\\\\\\\\\\\\\\\\\\\\\\\\\\\\\\\\\\\\\\\\\\\\\\\\            | \r"
     ]
    },
    {
     "name": "stdout",
     "output_type": "stream",
     "text": [
      "Episode 2120 with 14 steps || Reward : [ 0.   -0.01] || avg reward :  0.026 || Noise  0.809 || 0.315 seconds, mem : 36657\n",
      "\u001b[0m"
     ]
    },
    {
     "name": "stderr",
     "output_type": "stream",
     "text": [
      "episode: 2125/3000  70% ETA:  0:03:11 |||||||||||||||||||||||||||            | \r"
     ]
    },
    {
     "name": "stdout",
     "output_type": "stream",
     "text": [
      "\u001b[41mEpisode 2125 with 30 steps || Reward : [0.   0.09] || avg reward :  0.026 || Noise  0.808 || 0.645 seconds, mem : 36744\n",
      "\u001b[0m"
     ]
    },
    {
     "name": "stderr",
     "output_type": "stream",
     "text": [
      "episode: 2127/3000  70% ETA:  0:03:11 |//////////////////////////            | \r"
     ]
    },
    {
     "name": "stdout",
     "output_type": "stream",
     "text": [
      "\u001b[41mEpisode 2126 with 36 steps || Reward : [ 0.1  -0.01] || avg reward :  0.027 || Noise  0.808 || 0.993 seconds, mem : 36780\n",
      "\u001b[0m\u001b[41mEpisode 2129 with 29 steps || Reward : [0.   0.09] || avg reward :  0.026 || Noise  0.808 || 0.267 seconds, mem : 36838\n",
      "\u001b[0m"
     ]
    },
    {
     "name": "stderr",
     "output_type": "stream",
     "text": [
      "episode: 2131/3000  71% ETA:  0:03:10 |--------------------------            | \r"
     ]
    },
    {
     "name": "stdout",
     "output_type": "stream",
     "text": [
      "\u001b[41mEpisode 2130 with 29 steps || Reward : [-0.01  0.1 ] || avg reward :  0.026 || Noise  0.808 || 0.615 seconds, mem : 36867\n",
      "\u001b[0m"
     ]
    },
    {
     "name": "stderr",
     "output_type": "stream",
     "text": [
      "episode: 2134/3000  71% ETA:  0:03:10 |\\\\\\\\\\\\\\\\\\\\\\\\\\\\\\\\\\\\\\\\\\\\\\\\\\\\\\           | \r"
     ]
    },
    {
     "name": "stdout",
     "output_type": "stream",
     "text": [
      "\u001b[41mEpisode 2133 with 30 steps || Reward : [-0.01  0.1 ] || avg reward :  0.027 || Noise  0.808 || 0.540 seconds, mem : 36925\n",
      "\u001b[0m\u001b[41mEpisode 2134 with 28 steps || Reward : [-0.01  0.1 ] || avg reward :  0.028 || Noise  0.808 || 0.531 seconds, mem : 36953\n",
      "\u001b[0m"
     ]
    },
    {
     "name": "stderr",
     "output_type": "stream",
     "text": [
      "episode: 2139/3000  71% ETA:  0:03:10 |///////////////////////////           | \r"
     ]
    },
    {
     "name": "stdout",
     "output_type": "stream",
     "text": [
      "Episode 2140 with 14 steps || Reward : [-0.01  0.  ] || avg reward :  0.027 || Noise  0.807 || 0.246 seconds, mem : 37038\n",
      "\u001b[0m"
     ]
    },
    {
     "name": "stderr",
     "output_type": "stream",
     "text": [
      "episode: 2143/3000  71% ETA:  0:03:09 |---------------------------           | \r"
     ]
    },
    {
     "name": "stdout",
     "output_type": "stream",
     "text": [
      "\u001b[41mEpisode 2142 with 30 steps || Reward : [0.   0.09] || avg reward :  0.027 || Noise  0.807 || 0.746 seconds, mem : 37082\n",
      "\u001b[0m"
     ]
    },
    {
     "name": "stderr",
     "output_type": "stream",
     "text": [
      "episode: 2148/3000  71% ETA:  0:03:08 |\\\\\\\\\\\\\\\\\\\\\\\\\\\\\\\\\\\\\\\\\\\\\\\\\\\\\\           | \r"
     ]
    },
    {
     "name": "stdout",
     "output_type": "stream",
     "text": [
      "\u001b[41mEpisode 2147 with 28 steps || Reward : [-0.01  0.1 ] || avg reward :  0.027 || Noise  0.807 || 0.183 seconds, mem : 37166\n",
      "\u001b[0m\u001b[41mEpisode 2148 with 32 steps || Reward : [ 0.1  -0.01] || avg reward :  0.027 || Noise  0.807 || 0.567 seconds, mem : 37198\n",
      "\u001b[0m"
     ]
    },
    {
     "name": "stderr",
     "output_type": "stream",
     "text": [
      "episode: 2151/3000  71% ETA:  0:03:08 ||||||||||||||||||||||||||||           | \r"
     ]
    },
    {
     "name": "stdout",
     "output_type": "stream",
     "text": [
      "\u001b[41mEpisode 2150 with 31 steps || Reward : [0.   0.09] || avg reward :  0.028 || Noise  0.806 || 0.321 seconds, mem : 37243\n",
      "\u001b[0m\u001b[41mEpisode 2151 with 31 steps || Reward : [0.   0.09] || avg reward :  0.028 || Noise  0.806 || 0.270 seconds, mem : 37274\n",
      "\u001b[0m"
     ]
    },
    {
     "name": "stderr",
     "output_type": "stream",
     "text": [
      "episode: 2155/3000  71% ETA:  0:03:07 |///////////////////////////           | \r"
     ]
    },
    {
     "name": "stdout",
     "output_type": "stream",
     "text": [
      "\u001b[41mEpisode 2154 with 31 steps || Reward : [0.   0.09] || avg reward :  0.028 || Noise  0.806 || 0.721 seconds, mem : 37333\n",
      "\u001b[0m\u001b[41mEpisode 2155 with 30 steps || Reward : [0.   0.09] || avg reward :  0.029 || Noise  0.806 || 0.200 seconds, mem : 37363\n",
      "\u001b[0m"
     ]
    },
    {
     "name": "stderr",
     "output_type": "stream",
     "text": [
      "episode: 2159/3000  71% ETA:  0:03:06 |---------------------------           | \r"
     ]
    },
    {
     "name": "stdout",
     "output_type": "stream",
     "text": [
      "\u001b[41mEpisode 2160 with 31 steps || Reward : [0.   0.09] || avg reward :  0.030 || Noise  0.806 || 0.452 seconds, mem : 37451\n",
      "\u001b[0m"
     ]
    },
    {
     "name": "stderr",
     "output_type": "stream",
     "text": [
      "episode: 2166/3000  72% ETA:  0:03:05 ||||||||||||||||||||||||||||           | \r"
     ]
    },
    {
     "name": "stdout",
     "output_type": "stream",
     "text": [
      "\u001b[41mEpisode 2168 with 29 steps || Reward : [-0.01  0.1 ] || avg reward :  0.028 || Noise  0.805 || 0.477 seconds, mem : 37579\n",
      "\u001b[0m"
     ]
    },
    {
     "name": "stderr",
     "output_type": "stream",
     "text": [
      "episode: 2171/3000  72% ETA:  0:03:04 |///////////////////////////           | \r"
     ]
    },
    {
     "name": "stdout",
     "output_type": "stream",
     "text": [
      "\u001b[41mEpisode 2171 with 32 steps || Reward : [0.   0.09] || avg reward :  0.026 || Noise  0.805 || 0.337 seconds, mem : 37639\n",
      "\u001b[0m"
     ]
    },
    {
     "name": "stderr",
     "output_type": "stream",
     "text": [
      "episode: 2181/3000  72% ETA:  0:03:02 |\\\\\\\\\\\\\\\\\\\\\\\\\\\\\\\\\\\\\\\\\\\\\\\\\\\\\\           | \r"
     ]
    },
    {
     "name": "stdout",
     "output_type": "stream",
     "text": [
      "\u001b[41mEpisode 2180 with 32 steps || Reward : [0.   0.09] || avg reward :  0.023 || Noise  0.804 || 0.675 seconds, mem : 37784\n",
      "\u001b[0m"
     ]
    },
    {
     "name": "stderr",
     "output_type": "stream",
     "text": [
      "episode: 2193/3000  73% ETA:  0:02:59 |///////////////////////////           | \r"
     ]
    },
    {
     "name": "stdout",
     "output_type": "stream",
     "text": [
      "\u001b[44mEpisode 2193 with 34 steps || Reward : [0.1  0.09] || avg reward :  0.022 || Noise  0.803 || 0.208 seconds, mem : 37988\n",
      "\u001b[0m"
     ]
    },
    {
     "name": "stderr",
     "output_type": "stream",
     "text": [
      "episode: 2198/3000  73% ETA:  0:02:58 |---------------------------           | \r"
     ]
    },
    {
     "name": "stdout",
     "output_type": "stream",
     "text": [
      "\u001b[41mEpisode 2197 with 31 steps || Reward : [0.   0.09] || avg reward :  0.023 || Noise  0.803 || 0.217 seconds, mem : 38061\n",
      "\u001b[0mEpisode 2200 with 14 steps || Reward : [-0.01  0.  ] || avg reward :  0.021 || Noise  0.802 || 0.211 seconds, mem : 38103\n",
      "\u001b[0m"
     ]
    },
    {
     "name": "stderr",
     "output_type": "stream",
     "text": [
      "episode: 2203/3000  73% ETA:  0:02:57 |\\\\\\\\\\\\\\\\\\\\\\\\\\\\\\\\\\\\\\\\\\\\\\\\\\\\\\           | \r"
     ]
    },
    {
     "name": "stdout",
     "output_type": "stream",
     "text": [
      "\u001b[41mEpisode 2203 with 30 steps || Reward : [0.   0.09] || avg reward :  0.021 || Noise  0.802 || 0.335 seconds, mem : 38162\n",
      "\u001b[0m\u001b[41mEpisode 2205 with 30 steps || Reward : [-0.01  0.1 ] || avg reward :  0.022 || Noise  0.802 || 0.265 seconds, mem : 38213\n",
      "\u001b[0m"
     ]
    },
    {
     "name": "stderr",
     "output_type": "stream",
     "text": [
      "episode: 2207/3000  73% ETA:  0:02:56 ||||||||||||||||||||||||||||           | \r"
     ]
    },
    {
     "name": "stdout",
     "output_type": "stream",
     "text": [
      "\u001b[41mEpisode 2208 with 32 steps || Reward : [0.   0.09] || avg reward :  0.023 || Noise  0.802 || 0.461 seconds, mem : 38274\n",
      "\u001b[0m"
     ]
    },
    {
     "name": "stderr",
     "output_type": "stream",
     "text": [
      "episode: 2216/3000  73% ETA:  0:02:54 |----------------------------          | \r"
     ]
    },
    {
     "name": "stdout",
     "output_type": "stream",
     "text": [
      "\u001b[41mEpisode 2217 with 34 steps || Reward : [0.   0.09] || avg reward :  0.022 || Noise  0.801 || 0.385 seconds, mem : 38421\n",
      "\u001b[0m"
     ]
    },
    {
     "name": "stderr",
     "output_type": "stream",
     "text": [
      "episode: 2219/3000  73% ETA:  0:02:54 |\\\\\\\\\\\\\\\\\\\\\\\\\\\\\\\\\\\\\\\\\\\\\\\\\\\\\\\\          | \r"
     ]
    },
    {
     "name": "stdout",
     "output_type": "stream",
     "text": [
      "\u001b[41mEpisode 2220 with 31 steps || Reward : [0.   0.09] || avg reward :  0.023 || Noise  0.801 || 0.329 seconds, mem : 38480\n",
      "\u001b[0m"
     ]
    },
    {
     "name": "stderr",
     "output_type": "stream",
     "text": [
      "episode: 2224/3000  74% ETA:  0:02:53 |||||||||||||||||||||||||||||          | \r"
     ]
    },
    {
     "name": "stdout",
     "output_type": "stream",
     "text": [
      "\u001b[41mEpisode 2225 with 32 steps || Reward : [0.   0.09] || avg reward :  0.023 || Noise  0.800 || 0.336 seconds, mem : 38569\n",
      "\u001b[0m"
     ]
    },
    {
     "name": "stderr",
     "output_type": "stream",
     "text": [
      "episode: 2229/3000  74% ETA:  0:02:52 |----------------------------          | \r"
     ]
    },
    {
     "name": "stdout",
     "output_type": "stream",
     "text": [
      "\u001b[41mEpisode 2230 with 30 steps || Reward : [-0.01  0.1 ] || avg reward :  0.021 || Noise  0.800 || 0.548 seconds, mem : 38655\n",
      "\u001b[0m"
     ]
    },
    {
     "name": "stderr",
     "output_type": "stream",
     "text": [
      "episode: 2241/3000  74% ETA:  0:02:50 |////////////////////////////          | \r"
     ]
    },
    {
     "name": "stdout",
     "output_type": "stream",
     "text": [
      "\u001b[41mEpisode 2240 with 31 steps || Reward : [0.   0.09] || avg reward :  0.020 || Noise  0.799 || 0.656 seconds, mem : 38813\n",
      "\u001b[0m\u001b[44mEpisode 2242 with 34 steps || Reward : [0.1  0.09] || avg reward :  0.020 || Noise  0.799 || 0.419 seconds, mem : 38861\n",
      "\u001b[0m"
     ]
    },
    {
     "name": "stderr",
     "output_type": "stream",
     "text": [
      "episode: 2245/3000  74% ETA:  0:02:49 |----------------------------          | \r"
     ]
    },
    {
     "name": "stdout",
     "output_type": "stream",
     "text": [
      "\u001b[41mEpisode 2247 with 31 steps || Reward : [0.   0.09] || avg reward :  0.020 || Noise  0.799 || 0.312 seconds, mem : 38949\n",
      "\u001b[0m"
     ]
    },
    {
     "name": "stderr",
     "output_type": "stream",
     "text": [
      "episode: 2255/3000  75% ETA:  0:02:47 |||||||||||||||||||||||||||||          | \r"
     ]
    },
    {
     "name": "stdout",
     "output_type": "stream",
     "text": [
      "\u001b[44mEpisode 2255 with 35 steps || Reward : [0.1  0.09] || avg reward :  0.016 || Noise  0.798 || 0.424 seconds, mem : 39083\n",
      "\u001b[0m"
     ]
    },
    {
     "name": "stderr",
     "output_type": "stream",
     "text": [
      "episode: 2259/3000  75% ETA:  0:02:46 |////////////////////////////          | \r"
     ]
    },
    {
     "name": "stdout",
     "output_type": "stream",
     "text": [
      "Episode 2260 with 14 steps || Reward : [ 0.   -0.01] || avg reward :  0.015 || Noise  0.798 || 0.264 seconds, mem : 39154\n",
      "\u001b[0m"
     ]
    },
    {
     "name": "stderr",
     "output_type": "stream",
     "text": [
      "episode: 2265/3000  75% ETA:  0:02:45 |----------------------------          | \r"
     ]
    },
    {
     "name": "stdout",
     "output_type": "stream",
     "text": [
      "\u001b[44mEpisode 2264 with 35 steps || Reward : [0.1  0.09] || avg reward :  0.016 || Noise  0.797 || 0.379 seconds, mem : 39232\n",
      "\u001b[0m\u001b[41mEpisode 2266 with 32 steps || Reward : [0.   0.09] || avg reward :  0.017 || Noise  0.797 || 0.413 seconds, mem : 39278\n",
      "\u001b[0m"
     ]
    },
    {
     "name": "stderr",
     "output_type": "stream",
     "text": [
      "episode: 2278/3000  75% ETA:  0:02:42 |||||||||||||||||||||||||||||          | \r"
     ]
    },
    {
     "name": "stdout",
     "output_type": "stream",
     "text": [
      "\u001b[41mEpisode 2277 with 27 steps || Reward : [-0.01  0.1 ] || avg reward :  0.016 || Noise  0.796 || 0.203 seconds, mem : 39447\n",
      "\u001b[0mEpisode 2280 with 15 steps || Reward : [-0.01  0.  ] || avg reward :  0.015 || Noise  0.796 || 0.298 seconds, mem : 39503\n",
      "\u001b[0m\u001b[41mEpisode 2281 with 16 steps || Reward : [0.   0.09] || avg reward :  0.016 || Noise  0.796 || 0.118 seconds, mem : 39519\n",
      "\u001b[0m"
     ]
    },
    {
     "name": "stderr",
     "output_type": "stream",
     "text": [
      "episode: 2289/3000  76% ETA:  0:02:39 |----------------------------          | \r"
     ]
    },
    {
     "name": "stdout",
     "output_type": "stream",
     "text": [
      "\u001b[41mEpisode 2288 with 30 steps || Reward : [0.   0.09] || avg reward :  0.017 || Noise  0.795 || 0.295 seconds, mem : 39635\n",
      "\u001b[0m"
     ]
    },
    {
     "name": "stderr",
     "output_type": "stream",
     "text": [
      "episode: 2296/3000  76% ETA:  0:02:37 |\\\\\\\\\\\\\\\\\\\\\\\\\\\\\\\\\\\\\\\\\\\\\\\\\\\\\\\\\\         | \r"
     ]
    },
    {
     "name": "stdout",
     "output_type": "stream",
     "text": [
      "\u001b[41mEpisode 2298 with 32 steps || Reward : [0.   0.09] || avg reward :  0.016 || Noise  0.795 || 0.373 seconds, mem : 39806\n",
      "\u001b[0m\u001b[41mEpisode 2299 with 30 steps || Reward : [0.   0.09] || avg reward :  0.017 || Noise  0.795 || 0.238 seconds, mem : 39836\n",
      "\u001b[0m"
     ]
    },
    {
     "name": "stderr",
     "output_type": "stream",
     "text": [
      "episode: 2301/3000  76% ETA:  0:02:36 ||||||||||||||||||||||||||||||         | \r"
     ]
    },
    {
     "name": "stdout",
     "output_type": "stream",
     "text": [
      "Episode 2300 with 15 steps || Reward : [ 0.   -0.01] || avg reward :  0.017 || Noise  0.794 || 0.479 seconds, mem : 39851\n",
      "\u001b[0m\u001b[41mEpisode 2301 with 30 steps || Reward : [0.   0.09] || avg reward :  0.018 || Noise  0.794 || 0.401 seconds, mem : 39881\n",
      "\u001b[0m"
     ]
    },
    {
     "name": "stderr",
     "output_type": "stream",
     "text": [
      "episode: 2303/3000  76% ETA:  0:02:36 |/////////////////////////////         | \r"
     ]
    },
    {
     "name": "stdout",
     "output_type": "stream",
     "text": [
      "\u001b[41mEpisode 2303 with 31 steps || Reward : [0.   0.09] || avg reward :  0.018 || Noise  0.794 || 0.370 seconds, mem : 39929\n",
      "\u001b[0m"
     ]
    },
    {
     "name": "stderr",
     "output_type": "stream",
     "text": [
      "episode: 2305/3000  76% ETA:  0:02:36 |-----------------------------         | \r"
     ]
    },
    {
     "name": "stdout",
     "output_type": "stream",
     "text": [
      "\u001b[41mEpisode 2304 with 37 steps || Reward : [0.   0.09] || avg reward :  0.019 || Noise  0.794 || 0.746 seconds, mem : 39966\n",
      "\u001b[0m\u001b[41mEpisode 2306 with 32 steps || Reward : [0.   0.09] || avg reward :  0.019 || Noise  0.794 || 0.357 seconds, mem : 40012\n",
      "\u001b[0m"
     ]
    },
    {
     "name": "stderr",
     "output_type": "stream",
     "text": [
      "episode: 2317/3000  77% ETA:  0:02:33 ||||||||||||||||||||||||||||||         | \r"
     ]
    },
    {
     "name": "stdout",
     "output_type": "stream",
     "text": [
      "\u001b[41mEpisode 2316 with 31 steps || Reward : [0.   0.09] || avg reward :  0.019 || Noise  0.793 || 0.311 seconds, mem : 40176\n",
      "\u001b[0mEpisode 2320 with 14 steps || Reward : [ 0.   -0.01] || avg reward :  0.017 || Noise  0.793 || 0.229 seconds, mem : 40233\n",
      "\u001b[0m"
     ]
    },
    {
     "name": "stderr",
     "output_type": "stream",
     "text": [
      "episode: 2323/3000  77% ETA:  0:02:32 |/////////////////////////////         | \r"
     ]
    },
    {
     "name": "stdout",
     "output_type": "stream",
     "text": [
      "\u001b[41mEpisode 2326 with 30 steps || Reward : [0.   0.09] || avg reward :  0.017 || Noise  0.792 || 0.296 seconds, mem : 40334\n",
      "\u001b[0m"
     ]
    },
    {
     "name": "stderr",
     "output_type": "stream",
     "text": [
      "episode: 2335/3000  77% ETA:  0:02:29 |\\\\\\\\\\\\\\\\\\\\\\\\\\\\\\\\\\\\\\\\\\\\\\\\\\\\\\\\\\         | \r"
     ]
    },
    {
     "name": "stdout",
     "output_type": "stream",
     "text": [
      "\u001b[41mEpisode 2335 with 30 steps || Reward : [0.   0.09] || avg reward :  0.017 || Noise  0.792 || 0.333 seconds, mem : 40478\n",
      "\u001b[0m\u001b[41mEpisode 2336 with 30 steps || Reward : [-0.01  0.1 ] || avg reward :  0.018 || Noise  0.792 || 0.365 seconds, mem : 40508\n",
      "\u001b[0m\u001b[41mEpisode 2337 with 32 steps || Reward : [0.   0.09] || avg reward :  0.019 || Noise  0.792 || 0.198 seconds, mem : 40540\n",
      "\u001b[0m"
     ]
    },
    {
     "name": "stderr",
     "output_type": "stream",
     "text": [
      "episode: 2339/3000  77% ETA:  0:02:28 ||||||||||||||||||||||||||||||         | \r"
     ]
    },
    {
     "name": "stdout",
     "output_type": "stream",
     "text": [
      "Episode 2340 with 14 steps || Reward : [-0.01  0.  ] || avg reward :  0.018 || Noise  0.791 || 0.244 seconds, mem : 40582\n",
      "\u001b[0m"
     ]
    },
    {
     "name": "stderr",
     "output_type": "stream",
     "text": [
      "episode: 2359/3000  78% ETA:  0:02:24 ||||||||||||||||||||||||||||||         | \r"
     ]
    },
    {
     "name": "stdout",
     "output_type": "stream",
     "text": [
      "Episode 2360 with 14 steps || Reward : [-0.01  0.  ] || avg reward :  0.015 || Noise  0.790 || 0.326 seconds, mem : 40866\n",
      "\u001b[0m"
     ]
    },
    {
     "name": "stderr",
     "output_type": "stream",
     "text": [
      "episode: 2363/3000  78% ETA:  0:02:23 |/////////////////////////////         | \r"
     ]
    },
    {
     "name": "stdout",
     "output_type": "stream",
     "text": [
      "\u001b[41mEpisode 2362 with 31 steps || Reward : [0.   0.09] || avg reward :  0.016 || Noise  0.790 || 0.527 seconds, mem : 40911\n",
      "\u001b[0m"
     ]
    },
    {
     "name": "stderr",
     "output_type": "stream",
     "text": [
      "episode: 2370/3000  79% ETA:  0:02:21 |\\\\\\\\\\\\\\\\\\\\\\\\\\\\\\\\\\\\\\\\\\\\\\\\\\\\\\\\\\\\        | \r"
     ]
    },
    {
     "name": "stdout",
     "output_type": "stream",
     "text": [
      "\u001b[41mEpisode 2372 with 28 steps || Reward : [-0.01  0.1 ] || avg reward :  0.015 || Noise  0.789 || 0.322 seconds, mem : 41066\n",
      "\u001b[0m\u001b[41mEpisode 2373 with 31 steps || Reward : [-0.02  0.1 ] || avg reward :  0.016 || Noise  0.789 || 0.176 seconds, mem : 41097\n",
      "\u001b[0m"
     ]
    },
    {
     "name": "stderr",
     "output_type": "stream",
     "text": [
      "episode: 2375/3000  79% ETA:  0:02:20 |||||||||||||||||||||||||||||||        | \r"
     ]
    },
    {
     "name": "stdout",
     "output_type": "stream",
     "text": [
      "\u001b[44mEpisode 2376 with 37 steps || Reward : [0.1  0.09] || avg reward :  0.017 || Noise  0.788 || 0.404 seconds, mem : 41162\n",
      "\u001b[0m\u001b[41mEpisode 2377 with 27 steps || Reward : [-0.01  0.1 ] || avg reward :  0.017 || Noise  0.788 || 0.171 seconds, mem : 41189\n",
      "\u001b[0m"
     ]
    },
    {
     "name": "stderr",
     "output_type": "stream",
     "text": [
      "episode: 2380/3000  79% ETA:  0:02:19 |//////////////////////////////        | \r"
     ]
    },
    {
     "name": "stdout",
     "output_type": "stream",
     "text": [
      "\u001b[41mEpisode 2380 with 30 steps || Reward : [0.   0.09] || avg reward :  0.018 || Noise  0.788 || 0.367 seconds, mem : 41247\n",
      "\u001b[0m"
     ]
    },
    {
     "name": "stderr",
     "output_type": "stream",
     "text": [
      "episode: 2391/3000  79% ETA:  0:02:17 |\\\\\\\\\\\\\\\\\\\\\\\\\\\\\\\\\\\\\\\\\\\\\\\\\\\\\\\\\\\\        | \r"
     ]
    },
    {
     "name": "stdout",
     "output_type": "stream",
     "text": [
      "\u001b[44mEpisode 2390 with 32 steps || Reward : [0.1  0.09] || avg reward :  0.017 || Noise  0.787 || 0.414 seconds, mem : 41413\n",
      "\u001b[0m\u001b[41mEpisode 2391 with 30 steps || Reward : [0.   0.09] || avg reward :  0.018 || Noise  0.787 || 0.174 seconds, mem : 41443\n",
      "\u001b[0m"
     ]
    },
    {
     "name": "stderr",
     "output_type": "stream",
     "text": [
      "episode: 2397/3000  79% ETA:  0:02:15 |||||||||||||||||||||||||||||||        | \r"
     ]
    },
    {
     "name": "stdout",
     "output_type": "stream",
     "text": [
      "\u001b[41mEpisode 2397 with 30 steps || Reward : [0.   0.09] || avg reward :  0.019 || Noise  0.787 || 0.184 seconds, mem : 41544\n",
      "\u001b[0m"
     ]
    },
    {
     "name": "stderr",
     "output_type": "stream",
     "text": [
      "episode: 2402/3000  80% ETA:  0:02:14 |//////////////////////////////        | \r"
     ]
    },
    {
     "name": "stdout",
     "output_type": "stream",
     "text": [
      "Episode 2400 with 15 steps || Reward : [-0.01  0.  ] || avg reward :  0.017 || Noise  0.787 || 0.332 seconds, mem : 41587\n",
      "\u001b[0m\u001b[41mEpisode 2401 with 24 steps || Reward : [-0.01  0.1 ] || avg reward :  0.017 || Noise  0.786 || 0.146 seconds, mem : 41611\n",
      "\u001b[0m"
     ]
    },
    {
     "name": "stderr",
     "output_type": "stream",
     "text": [
      "episode: 2405/3000  80% ETA:  0:02:13 |------------------------------        | \r"
     ]
    },
    {
     "name": "stdout",
     "output_type": "stream",
     "text": [
      "\u001b[44mEpisode 2404 with 34 steps || Reward : [0.1  0.09] || avg reward :  0.016 || Noise  0.786 || 0.664 seconds, mem : 41673\n",
      "\u001b[0m"
     ]
    },
    {
     "name": "stderr",
     "output_type": "stream",
     "text": [
      "episode: 2417/3000  80% ETA:  0:02:11 |||||||||||||||||||||||||||||||        | \r"
     ]
    },
    {
     "name": "stdout",
     "output_type": "stream",
     "text": [
      "\u001b[41mEpisode 2417 with 42 steps || Reward : [-0.01  0.1 ] || avg reward :  0.015 || Noise  0.785 || 0.471 seconds, mem : 41886\n",
      "\u001b[0m"
     ]
    },
    {
     "name": "stderr",
     "output_type": "stream",
     "text": [
      "episode: 2419/3000  80% ETA:  0:02:10 |//////////////////////////////        | \r"
     ]
    },
    {
     "name": "stdout",
     "output_type": "stream",
     "text": [
      "\u001b[41mEpisode 2418 with 32 steps || Reward : [0.   0.09] || avg reward :  0.016 || Noise  0.785 || 1.058 seconds, mem : 41918\n",
      "\u001b[0mEpisode 2420 with 14 steps || Reward : [-0.01  0.  ] || avg reward :  0.016 || Noise  0.785 || 0.249 seconds, mem : 41946\n",
      "\u001b[0m\u001b[41mEpisode 2421 with 30 steps || Reward : [0.   0.09] || avg reward :  0.017 || Noise  0.785 || 0.395 seconds, mem : 41976\n",
      "\u001b[0m"
     ]
    },
    {
     "name": "stderr",
     "output_type": "stream",
     "text": [
      "episode: 2423/3000  80% ETA:  0:02:10 |------------------------------        | \r"
     ]
    },
    {
     "name": "stdout",
     "output_type": "stream",
     "text": [
      "\u001b[41mEpisode 2425 with 27 steps || Reward : [-0.01  0.1 ] || avg reward :  0.018 || Noise  0.785 || 0.208 seconds, mem : 42050\n",
      "\u001b[0m"
     ]
    },
    {
     "name": "stderr",
     "output_type": "stream",
     "text": [
      "episode: 2436/3000  81% ETA:  0:02:06 |||||||||||||||||||||||||||||||        | \r"
     ]
    },
    {
     "name": "stdout",
     "output_type": "stream",
     "text": [
      "\u001b[41mEpisode 2436 with 22 steps || Reward : [0.   0.09] || avg reward :  0.016 || Noise  0.784 || 0.258 seconds, mem : 42214\n",
      "\u001b[0m"
     ]
    },
    {
     "name": "stderr",
     "output_type": "stream",
     "text": [
      "episode: 2441/3000  81% ETA:  0:02:05 |//////////////////////////////        | \r"
     ]
    },
    {
     "name": "stdout",
     "output_type": "stream",
     "text": [
      "\u001b[44mEpisode 2440 with 31 steps || Reward : [0.1  0.09] || avg reward :  0.016 || Noise  0.783 || 0.329 seconds, mem : 42288\n",
      "\u001b[0m\u001b[41mEpisode 2445 with 31 steps || Reward : [0.   0.09] || avg reward :  0.017 || Noise  0.783 || 0.189 seconds, mem : 42376\n",
      "\u001b[0m"
     ]
    },
    {
     "name": "stderr",
     "output_type": "stream",
     "text": [
      "episode: 2447/3000  81% ETA:  0:02:04 |------------------------------        | \r"
     ]
    },
    {
     "name": "stdout",
     "output_type": "stream",
     "text": [
      "\u001b[41mEpisode 2449 with 31 steps || Reward : [0.   0.09] || avg reward :  0.018 || Noise  0.783 || 0.202 seconds, mem : 42453\n",
      "\u001b[0m"
     ]
    },
    {
     "name": "stderr",
     "output_type": "stream",
     "text": [
      "episode: 2453/3000  81% ETA:  0:02:03 |\\\\\\\\\\\\\\\\\\\\\\\\\\\\\\\\\\\\\\\\\\\\\\\\\\\\\\\\\\\\\\       | \r"
     ]
    },
    {
     "name": "stdout",
     "output_type": "stream",
     "text": [
      "\u001b[41mEpisode 2454 with 30 steps || Reward : [0.   0.09] || avg reward :  0.019 || Noise  0.782 || 0.287 seconds, mem : 42539\n",
      "\u001b[0m"
     ]
    },
    {
     "name": "stderr",
     "output_type": "stream",
     "text": [
      "episode: 2459/3000  81% ETA:  0:02:01 ||||||||||||||||||||||||||||||||       | \r"
     ]
    },
    {
     "name": "stdout",
     "output_type": "stream",
     "text": [
      "\u001b[41mEpisode 2458 with 30 steps || Reward : [-0.01  0.1 ] || avg reward :  0.020 || Noise  0.782 || 0.378 seconds, mem : 42612\n",
      "\u001b[0mEpisode 2460 with 14 steps || Reward : [ 0.   -0.01] || avg reward :  0.020 || Noise  0.782 || 0.219 seconds, mem : 42640\n",
      "\u001b[0m\u001b[41mEpisode 2462 with 34 steps || Reward : [0.   0.09] || avg reward :  0.020 || Noise  0.782 || 0.485 seconds, mem : 42688\n",
      "\u001b[0m"
     ]
    },
    {
     "name": "stderr",
     "output_type": "stream",
     "text": [
      "episode: 2464/3000  82% ETA:  0:02:00 |///////////////////////////////       | \r"
     ]
    },
    {
     "name": "stdout",
     "output_type": "stream",
     "text": [
      "\u001b[41mEpisode 2463 with 31 steps || Reward : [0.   0.09] || avg reward :  0.021 || Noise  0.782 || 0.208 seconds, mem : 42719\n",
      "\u001b[0m\u001b[41mEpisode 2467 with 33 steps || Reward : [-0.01  0.1 ] || avg reward :  0.022 || Noise  0.781 || 0.293 seconds, mem : 42794\n",
      "\u001b[0m"
     ]
    },
    {
     "name": "stderr",
     "output_type": "stream",
     "text": [
      "episode: 2479/3000  82% ETA:  0:01:57 ||||||||||||||||||||||||||||||||       | \r"
     ]
    },
    {
     "name": "stdout",
     "output_type": "stream",
     "text": [
      "\u001b[41mEpisode 2479 with 30 steps || Reward : [0.   0.09] || avg reward :  0.019 || Noise  0.780 || 0.199 seconds, mem : 42986\n",
      "\u001b[0m\u001b[41mEpisode 2480 with 32 steps || Reward : [-0.01  0.1 ] || avg reward :  0.019 || Noise  0.780 || 0.445 seconds, mem : 43018\n",
      "\u001b[0m"
     ]
    },
    {
     "name": "stderr",
     "output_type": "stream",
     "text": [
      "episode: 2484/3000  82% ETA:  0:01:55 |///////////////////////////////       | \r"
     ]
    },
    {
     "name": "stdout",
     "output_type": "stream",
     "text": [
      "\u001b[41mEpisode 2484 with 31 steps || Reward : [0.   0.09] || avg reward :  0.020 || Noise  0.780 || 0.333 seconds, mem : 43092\n",
      "\u001b[0m"
     ]
    },
    {
     "name": "stderr",
     "output_type": "stream",
     "text": [
      "episode: 2495/3000  83% ETA:  0:01:53 |\\\\\\\\\\\\\\\\\\\\\\\\\\\\\\\\\\\\\\\\\\\\\\\\\\\\\\\\\\\\\\       | \r"
     ]
    },
    {
     "name": "stdout",
     "output_type": "stream",
     "text": [
      "\u001b[41mEpisode 2495 with 30 steps || Reward : [0.   0.09] || avg reward :  0.019 || Noise  0.779 || 0.438 seconds, mem : 43263\n",
      "\u001b[0m"
     ]
    },
    {
     "name": "stderr",
     "output_type": "stream",
     "text": [
      "episode: 2499/3000  83% ETA:  0:01:52 ||||||||||||||||||||||||||||||||       | \r"
     ]
    },
    {
     "name": "stdout",
     "output_type": "stream",
     "text": [
      "Episode 2500 with 14 steps || Reward : [ 0.   -0.01] || avg reward :  0.018 || Noise  0.779 || 0.271 seconds, mem : 43334\n",
      "\u001b[0m\u001b[41mEpisode 2502 with 30 steps || Reward : [0.   0.09] || avg reward :  0.018 || Noise  0.779 || 0.325 seconds, mem : 43378\n",
      "\u001b[0m"
     ]
    },
    {
     "name": "stderr",
     "output_type": "stream",
     "text": [
      "episode: 2505/3000  83% ETA:  0:01:51 |///////////////////////////////       | \r"
     ]
    },
    {
     "name": "stdout",
     "output_type": "stream",
     "text": [
      "\u001b[41mEpisode 2509 with 31 steps || Reward : [0.   0.09] || avg reward :  0.018 || Noise  0.778 || 0.203 seconds, mem : 43494\n",
      "\u001b[0m"
     ]
    },
    {
     "name": "stderr",
     "output_type": "stream",
     "text": [
      "episode: 2511/3000  83% ETA:  0:01:49 |-------------------------------       | \r"
     ]
    },
    {
     "name": "stdout",
     "output_type": "stream",
     "text": [
      "\u001b[41mEpisode 2512 with 32 steps || Reward : [0.   0.09] || avg reward :  0.019 || Noise  0.778 || 0.343 seconds, mem : 43554\n",
      "\u001b[0m\u001b[41mEpisode 2513 with 31 steps || Reward : [0.   0.09] || avg reward :  0.020 || Noise  0.778 || 0.196 seconds, mem : 43585\n",
      "\u001b[0m"
     ]
    },
    {
     "name": "stderr",
     "output_type": "stream",
     "text": [
      "episode: 2520/3000  84% ETA:  0:01:47 ||||||||||||||||||||||||||||||||       | \r"
     ]
    },
    {
     "name": "stdout",
     "output_type": "stream",
     "text": [
      "\u001b[41mEpisode 2518 with 32 steps || Reward : [-0.01  0.1 ] || avg reward :  0.019 || Noise  0.777 || 0.596 seconds, mem : 43673\n",
      "\u001b[0mEpisode 2520 with 15 steps || Reward : [-0.01  0.  ] || avg reward :  0.019 || Noise  0.777 || 0.231 seconds, mem : 43702\n",
      "\u001b[0m"
     ]
    },
    {
     "name": "stderr",
     "output_type": "stream",
     "text": [
      "episode: 2524/3000  84% ETA:  0:01:46 |///////////////////////////////       | \r"
     ]
    },
    {
     "name": "stdout",
     "output_type": "stream",
     "text": [
      "\u001b[41mEpisode 2523 with 29 steps || Reward : [0.   0.09] || avg reward :  0.019 || Noise  0.777 || 0.604 seconds, mem : 43759\n",
      "\u001b[0m\u001b[41mEpisode 2524 with 22 steps || Reward : [ 0.1  -0.01] || avg reward :  0.020 || Noise  0.777 || 0.290 seconds, mem : 43781\n",
      "\u001b[0m\u001b[41mEpisode 2525 with 31 steps || Reward : [0.   0.09] || avg reward :  0.020 || Noise  0.777 || 0.240 seconds, mem : 43812\n",
      "\u001b[0m\u001b[41mEpisode 2526 with 30 steps || Reward : [0.   0.09] || avg reward :  0.020 || Noise  0.777 || 0.359 seconds, mem : 43842\n",
      "\u001b[0m"
     ]
    },
    {
     "name": "stderr",
     "output_type": "stream",
     "text": [
      "episode: 2529/3000  84% ETA:  0:01:45 |--------------------------------      | \r"
     ]
    },
    {
     "name": "stdout",
     "output_type": "stream",
     "text": [
      "\u001b[41mEpisode 2528 with 31 steps || Reward : [0.   0.09] || avg reward :  0.021 || Noise  0.777 || 0.309 seconds, mem : 43887\n",
      "\u001b[0m\u001b[44mEpisode 2529 with 33 steps || Reward : [0.1  0.09] || avg reward :  0.022 || Noise  0.776 || 0.316 seconds, mem : 43920\n",
      "\u001b[0m"
     ]
    },
    {
     "name": "stderr",
     "output_type": "stream",
     "text": [
      "episode: 2534/3000  84% ETA:  0:01:44 |\\\\\\\\\\\\\\\\\\\\\\\\\\\\\\\\\\\\\\\\\\\\\\\\\\\\\\\\\\\\\\\\      | \r"
     ]
    },
    {
     "name": "stdout",
     "output_type": "stream",
     "text": [
      "\u001b[41mEpisode 2535 with 33 steps || Reward : [0.   0.09] || avg reward :  0.023 || Noise  0.776 || 0.229 seconds, mem : 44024\n",
      "\u001b[0m"
     ]
    },
    {
     "name": "stderr",
     "output_type": "stream",
     "text": [
      "episode: 2539/3000  84% ETA:  0:01:43 |||||||||||||||||||||||||||||||||      | \r"
     ]
    },
    {
     "name": "stdout",
     "output_type": "stream",
     "text": [
      "\u001b[41mEpisode 2540 with 31 steps || Reward : [0.   0.09] || avg reward :  0.022 || Noise  0.776 || 0.449 seconds, mem : 44111\n",
      "\u001b[0m"
     ]
    },
    {
     "name": "stderr",
     "output_type": "stream",
     "text": [
      "episode: 2545/3000  84% ETA:  0:01:42 |////////////////////////////////      | \r"
     ]
    },
    {
     "name": "stdout",
     "output_type": "stream",
     "text": [
      "\u001b[41mEpisode 2546 with 32 steps || Reward : [0.   0.09] || avg reward :  0.022 || Noise  0.775 || 0.409 seconds, mem : 44214\n",
      "\u001b[0m\u001b[44mEpisode 2547 with 35 steps || Reward : [0.1  0.09] || avg reward :  0.023 || Noise  0.775 || 0.240 seconds, mem : 44249\n",
      "\u001b[0m"
     ]
    },
    {
     "name": "stderr",
     "output_type": "stream",
     "text": [
      "episode: 2549/3000  84% ETA:  0:01:41 |--------------------------------      | \r"
     ]
    },
    {
     "name": "stdout",
     "output_type": "stream",
     "text": [
      "\u001b[44mEpisode 2551 with 33 steps || Reward : [0.1  0.09] || avg reward :  0.023 || Noise  0.775 || 0.267 seconds, mem : 44325\n",
      "\u001b[0m"
     ]
    },
    {
     "name": "stderr",
     "output_type": "stream",
     "text": [
      "episode: 2553/3000  85% ETA:  0:01:40 |\\\\\\\\\\\\\\\\\\\\\\\\\\\\\\\\\\\\\\\\\\\\\\\\\\\\\\\\\\\\\\\\      | \r"
     ]
    },
    {
     "name": "stdout",
     "output_type": "stream",
     "text": [
      "\u001b[41mEpisode 2554 with 31 steps || Reward : [0.   0.09] || avg reward :  0.023 || Noise  0.775 || 0.345 seconds, mem : 44384\n",
      "\u001b[0m"
     ]
    },
    {
     "name": "stderr",
     "output_type": "stream",
     "text": [
      "episode: 2559/3000  85% ETA:  0:01:39 |||||||||||||||||||||||||||||||||      | \r"
     ]
    },
    {
     "name": "stdout",
     "output_type": "stream",
     "text": [
      "Episode 2560 with 14 steps || Reward : [-0.01  0.  ] || avg reward :  0.022 || Noise  0.774 || 0.326 seconds, mem : 44469\n",
      "\u001b[0m\u001b[41mEpisode 2561 with 31 steps || Reward : [0.   0.09] || avg reward :  0.023 || Noise  0.774 || 0.252 seconds, mem : 44500\n",
      "\u001b[0m"
     ]
    },
    {
     "name": "stderr",
     "output_type": "stream",
     "text": [
      "episode: 2564/3000  85% ETA:  0:01:38 |////////////////////////////////      | \r"
     ]
    },
    {
     "name": "stdout",
     "output_type": "stream",
     "text": [
      "\u001b[41mEpisode 2563 with 31 steps || Reward : [0.   0.09] || avg reward :  0.022 || Noise  0.774 || 0.200 seconds, mem : 44546\n",
      "\u001b[0m\u001b[41mEpisode 2564 with 31 steps || Reward : [0.   0.09] || avg reward :  0.023 || Noise  0.774 || 0.411 seconds, mem : 44577\n",
      "\u001b[0m"
     ]
    },
    {
     "name": "stderr",
     "output_type": "stream",
     "text": [
      "episode: 2568/3000  85% ETA:  0:01:37 |--------------------------------      | \r"
     ]
    },
    {
     "name": "stdout",
     "output_type": "stream",
     "text": [
      "\u001b[41mEpisode 2566 with 29 steps || Reward : [-0.01  0.1 ] || avg reward :  0.024 || Noise  0.774 || 0.463 seconds, mem : 44620\n",
      "\u001b[0m"
     ]
    },
    {
     "name": "stderr",
     "output_type": "stream",
     "text": [
      "episode: 2580/3000  86% ETA:  0:01:34 |||||||||||||||||||||||||||||||||      | \r"
     ]
    },
    {
     "name": "stdout",
     "output_type": "stream",
     "text": [
      "Episode 2580 with 14 steps || Reward : [-0.01  0.  ] || avg reward :  0.021 || Noise  0.773 || 0.250 seconds, mem : 44819\n",
      "\u001b[0m\u001b[41mEpisode 2582 with 31 steps || Reward : [-0.01  0.1 ] || avg reward :  0.022 || Noise  0.772 || 0.305 seconds, mem : 44864\n",
      "\u001b[0m"
     ]
    },
    {
     "name": "stderr",
     "output_type": "stream",
     "text": [
      "episode: 2585/3000  86% ETA:  0:01:33 |////////////////////////////////      | \r"
     ]
    },
    {
     "name": "stdout",
     "output_type": "stream",
     "text": [
      "\u001b[44mEpisode 2584 with 34 steps || Reward : [0.1  0.09] || avg reward :  0.022 || Noise  0.772 || 0.465 seconds, mem : 44912\n",
      "\u001b[0m"
     ]
    },
    {
     "name": "stderr",
     "output_type": "stream",
     "text": [
      "episode: 2597/3000  86% ETA:  0:01:30 |\\\\\\\\\\\\\\\\\\\\\\\\\\\\\\\\\\\\\\\\\\\\\\\\\\\\\\\\\\\\\\\\      | \r"
     ]
    },
    {
     "name": "stdout",
     "output_type": "stream",
     "text": [
      "\u001b[41mEpisode 2596 with 31 steps || Reward : [0.   0.09] || avg reward :  0.022 || Noise  0.771 || 0.410 seconds, mem : 45104\n",
      "\u001b[0mEpisode 2600 with 14 steps || Reward : [-0.01  0.  ] || avg reward :  0.022 || Noise  0.771 || 0.298 seconds, mem : 45160\n",
      "\u001b[0m"
     ]
    },
    {
     "name": "stderr",
     "output_type": "stream",
     "text": [
      "episode: 2609/3000  86% ETA:  0:01:27 |/////////////////////////////////     | \r"
     ]
    },
    {
     "name": "stdout",
     "output_type": "stream",
     "text": [
      "\u001b[41mEpisode 2612 with 32 steps || Reward : [0.   0.09] || avg reward :  0.021 || Noise  0.770 || 0.388 seconds, mem : 45348\n",
      "\u001b[0m\u001b[41mEpisode 2613 with 31 steps || Reward : [0.   0.09] || avg reward :  0.021 || Noise  0.770 || 0.192 seconds, mem : 45379\n",
      "\u001b[0m"
     ]
    },
    {
     "name": "stderr",
     "output_type": "stream",
     "text": [
      "episode: 2615/3000  87% ETA:  0:01:26 |---------------------------------     | \r"
     ]
    },
    {
     "name": "stdout",
     "output_type": "stream",
     "text": [
      "\u001b[41mEpisode 2617 with 31 steps || Reward : [-0.01  0.1 ] || avg reward :  0.022 || Noise  0.770 || 0.220 seconds, mem : 45452\n",
      "\u001b[0m"
     ]
    },
    {
     "name": "stderr",
     "output_type": "stream",
     "text": [
      "episode: 2621/3000  87% ETA:  0:01:24 |\\\\\\\\\\\\\\\\\\\\\\\\\\\\\\\\\\\\\\\\\\\\\\\\\\\\\\\\\\\\\\\\\\     | \r"
     ]
    },
    {
     "name": "stdout",
     "output_type": "stream",
     "text": [
      "Episode 2620 with 14 steps || Reward : [-0.01  0.  ] || avg reward :  0.021 || Noise  0.769 || 0.211 seconds, mem : 45495\n",
      "\u001b[0m"
     ]
    },
    {
     "name": "stderr",
     "output_type": "stream",
     "text": [
      "episode: 2640/3000  88% ETA:  0:01:20 |---------------------------------     | \r"
     ]
    },
    {
     "name": "stdout",
     "output_type": "stream",
     "text": [
      "\u001b[41mEpisode 2640 with 28 steps || Reward : [-0.01  0.1 ] || avg reward :  0.014 || Noise  0.768 || 0.312 seconds, mem : 45792\n",
      "\u001b[0m"
     ]
    },
    {
     "name": "stderr",
     "output_type": "stream",
     "text": [
      "episode: 2645/3000  88% ETA:  0:01:19 |\\\\\\\\\\\\\\\\\\\\\\\\\\\\\\\\\\\\\\\\\\\\\\\\\\\\\\\\\\\\\\\\\\     | \r"
     ]
    },
    {
     "name": "stdout",
     "output_type": "stream",
     "text": [
      "\u001b[41mEpisode 2647 with 32 steps || Reward : [0.   0.09] || avg reward :  0.013 || Noise  0.767 || 0.184 seconds, mem : 45909\n",
      "\u001b[0m\u001b[41mEpisode 2648 with 29 steps || Reward : [0.   0.09] || avg reward :  0.014 || Noise  0.767 || 0.310 seconds, mem : 45938\n",
      "\u001b[0m"
     ]
    },
    {
     "name": "stderr",
     "output_type": "stream",
     "text": [
      "episode: 2651/3000  88% ETA:  0:01:18 ||||||||||||||||||||||||||||||||||     | \r"
     ]
    },
    {
     "name": "stdout",
     "output_type": "stream",
     "text": [
      "\u001b[41mEpisode 2652 with 31 steps || Reward : [0.   0.09] || avg reward :  0.014 || Noise  0.767 || 0.352 seconds, mem : 46012\n",
      "\u001b[0m"
     ]
    },
    {
     "name": "stderr",
     "output_type": "stream",
     "text": [
      "episode: 2656/3000  88% ETA:  0:01:16 |/////////////////////////////////     | \r"
     ]
    },
    {
     "name": "stdout",
     "output_type": "stream",
     "text": [
      "\u001b[41mEpisode 2656 with 31 steps || Reward : [-0.01  0.1 ] || avg reward :  0.014 || Noise  0.767 || 0.298 seconds, mem : 46085\n",
      "\u001b[0m"
     ]
    },
    {
     "name": "stderr",
     "output_type": "stream",
     "text": [
      "episode: 2661/3000  88% ETA:  0:01:15 |---------------------------------     | \r"
     ]
    },
    {
     "name": "stdout",
     "output_type": "stream",
     "text": [
      "Episode 2660 with 14 steps || Reward : [-0.01  0.  ] || avg reward :  0.014 || Noise  0.766 || 0.246 seconds, mem : 46142\n",
      "\u001b[0m\u001b[44mEpisode 2661 with 33 steps || Reward : [0.1  0.09] || avg reward :  0.014 || Noise  0.766 || 0.215 seconds, mem : 46175\n",
      "\u001b[0m"
     ]
    },
    {
     "name": "stderr",
     "output_type": "stream",
     "text": [
      "episode: 2671/3000  89% ETA:  0:01:13 ||||||||||||||||||||||||||||||||||     | \r"
     ]
    },
    {
     "name": "stdout",
     "output_type": "stream",
     "text": [
      "\u001b[41mEpisode 2671 with 32 steps || Reward : [0.   0.09] || avg reward :  0.012 || Noise  0.766 || 0.216 seconds, mem : 46350\n",
      "\u001b[0m"
     ]
    },
    {
     "name": "stderr",
     "output_type": "stream",
     "text": [
      "episode: 2676/3000  89% ETA:  0:01:12 |/////////////////////////////////     | \r"
     ]
    },
    {
     "name": "stdout",
     "output_type": "stream",
     "text": [
      "\u001b[41mEpisode 2675 with 40 steps || Reward : [-0.01  0.1 ] || avg reward :  0.013 || Noise  0.765 || 0.287 seconds, mem : 46432\n",
      "\u001b[0m\u001b[41mEpisode 2676 with 31 steps || Reward : [0.   0.09] || avg reward :  0.014 || Noise  0.765 || 0.442 seconds, mem : 46463\n",
      "\u001b[0m"
     ]
    },
    {
     "name": "stderr",
     "output_type": "stream",
     "text": [
      "episode: 2681/3000  89% ETA:  0:01:11 |---------------------------------     | \r"
     ]
    },
    {
     "name": "stdout",
     "output_type": "stream",
     "text": [
      "Episode 2680 with 14 steps || Reward : [-0.01  0.  ] || avg reward :  0.014 || Noise  0.765 || 0.205 seconds, mem : 46520\n",
      "\u001b[0m"
     ]
    },
    {
     "name": "stderr",
     "output_type": "stream",
     "text": [
      "episode: 2696/3000  89% ETA:  0:01:08 |//////////////////////////////////    | \r"
     ]
    },
    {
     "name": "stdout",
     "output_type": "stream",
     "text": [
      "\u001b[41mEpisode 2695 with 30 steps || Reward : [0.   0.09] || avg reward :  0.013 || Noise  0.764 || 0.354 seconds, mem : 46751\n",
      "\u001b[0mEpisode 2700 with 14 steps || Reward : [-0.01  0.  ] || avg reward :  0.012 || Noise  0.763 || 0.283 seconds, mem : 46822\n",
      "\u001b[0m"
     ]
    },
    {
     "name": "stderr",
     "output_type": "stream",
     "text": [
      "episode: 2704/3000  90% ETA:  0:01:06 |\\\\\\\\\\\\\\\\\\\\\\\\\\\\\\\\\\\\\\\\\\\\\\\\\\\\\\\\\\\\\\\\\\\\    | \r"
     ]
    },
    {
     "name": "stdout",
     "output_type": "stream",
     "text": [
      "\u001b[44mEpisode 2706 with 33 steps || Reward : [0.1  0.09] || avg reward :  0.013 || Noise  0.763 || 0.357 seconds, mem : 46929\n",
      "\u001b[0m"
     ]
    },
    {
     "name": "stderr",
     "output_type": "stream",
     "text": [
      "episode: 2708/3000  90% ETA:  0:01:05 |||||||||||||||||||||||||||||||||||    | \r"
     ]
    },
    {
     "name": "stdout",
     "output_type": "stream",
     "text": [
      "\u001b[41mEpisode 2707 with 28 steps || Reward : [-0.01  0.1 ] || avg reward :  0.014 || Noise  0.763 || 0.235 seconds, mem : 46957\n",
      "\u001b[0m\u001b[41mEpisode 2711 with 30 steps || Reward : [0.   0.09] || avg reward :  0.015 || Noise  0.762 || 0.228 seconds, mem : 47030\n",
      "\u001b[0m"
     ]
    },
    {
     "name": "stderr",
     "output_type": "stream",
     "text": [
      "episode: 2713/3000  90% ETA:  0:01:04 |//////////////////////////////////    | \r"
     ]
    },
    {
     "name": "stdout",
     "output_type": "stream",
     "text": [
      "\u001b[41mEpisode 2712 with 31 steps || Reward : [0.   0.09] || avg reward :  0.015 || Noise  0.762 || 0.370 seconds, mem : 47061\n",
      "\u001b[0m"
     ]
    },
    {
     "name": "stderr",
     "output_type": "stream",
     "text": [
      "episode: 2717/3000  90% ETA:  0:01:03 |----------------------------------    | \r"
     ]
    },
    {
     "name": "stdout",
     "output_type": "stream",
     "text": [
      "\u001b[41mEpisode 2717 with 32 steps || Reward : [0.   0.09] || avg reward :  0.014 || Noise  0.762 || 0.273 seconds, mem : 47154\n",
      "\u001b[0m\u001b[41mEpisode 2718 with 30 steps || Reward : [0.   0.09] || avg reward :  0.015 || Noise  0.762 || 0.701 seconds, mem : 47184\n",
      "\u001b[0m"
     ]
    },
    {
     "name": "stderr",
     "output_type": "stream",
     "text": [
      "episode: 2720/3000  90% ETA:  0:01:02 |\\\\\\\\\\\\\\\\\\\\\\\\\\\\\\\\\\\\\\\\\\\\\\\\\\\\\\\\\\\\\\\\\\\\    | \r"
     ]
    },
    {
     "name": "stdout",
     "output_type": "stream",
     "text": [
      "\u001b[41mEpisode 2719 with 32 steps || Reward : [0.   0.09] || avg reward :  0.016 || Noise  0.762 || 0.996 seconds, mem : 47216\n",
      "\u001b[0mEpisode 2720 with 14 steps || Reward : [-0.01  0.  ] || avg reward :  0.016 || Noise  0.762 || 0.463 seconds, mem : 47230\n",
      "\u001b[0m"
     ]
    },
    {
     "name": "stderr",
     "output_type": "stream",
     "text": [
      "episode: 2733/3000  91% ETA:  0:01:00 |\\\\\\\\\\\\\\\\\\\\\\\\\\\\\\\\\\\\\\\\\\\\\\\\\\\\\\\\\\\\\\\\\\\\    | \r"
     ]
    },
    {
     "name": "stdout",
     "output_type": "stream",
     "text": [
      "\u001b[41mEpisode 2734 with 29 steps || Reward : [-0.01  0.1 ] || avg reward :  0.017 || Noise  0.761 || 0.380 seconds, mem : 47477\n",
      "\u001b[0m\u001b[41mEpisode 2735 with 32 steps || Reward : [0.   0.09] || avg reward :  0.018 || Noise  0.761 || 0.320 seconds, mem : 47509\n",
      "\u001b[0m"
     ]
    },
    {
     "name": "stderr",
     "output_type": "stream",
     "text": [
      "episode: 2741/3000  91% ETA:  0:00:58 |//////////////////////////////////    | \r"
     ]
    },
    {
     "name": "stdout",
     "output_type": "stream",
     "text": [
      "\u001b[41mEpisode 2740 with 32 steps || Reward : [0.   0.09] || avg reward :  0.018 || Noise  0.760 || 1.361 seconds, mem : 47598\n",
      "\u001b[0m"
     ]
    },
    {
     "name": "stderr",
     "output_type": "stream",
     "text": [
      "episode: 2746/3000  91% ETA:  0:00:57 |----------------------------------    | \r"
     ]
    },
    {
     "name": "stdout",
     "output_type": "stream",
     "text": [
      "\u001b[41mEpisode 2747 with 31 steps || Reward : [-0.01  0.1 ] || avg reward :  0.018 || Noise  0.760 || 0.203 seconds, mem : 47714\n",
      "\u001b[0m"
     ]
    },
    {
     "name": "stderr",
     "output_type": "stream",
     "text": [
      "episode: 2750/3000  91% ETA:  0:00:56 |\\\\\\\\\\\\\\\\\\\\\\\\\\\\\\\\\\\\\\\\\\\\\\\\\\\\\\\\\\\\\\\\\\\\    | \r"
     ]
    },
    {
     "name": "stdout",
     "output_type": "stream",
     "text": [
      "\u001b[41mEpisode 2750 with 31 steps || Reward : [0.   0.09] || avg reward :  0.018 || Noise  0.759 || 0.957 seconds, mem : 47773\n",
      "\u001b[0m"
     ]
    },
    {
     "name": "stderr",
     "output_type": "stream",
     "text": [
      "episode: 2752/3000  91% ETA:  0:00:56 |||||||||||||||||||||||||||||||||||    | \r"
     ]
    },
    {
     "name": "stdout",
     "output_type": "stream",
     "text": [
      "\u001b[41mEpisode 2752 with 33 steps || Reward : [0.   0.09] || avg reward :  0.018 || Noise  0.759 || 0.634 seconds, mem : 47820\n",
      "\u001b[0m"
     ]
    },
    {
     "name": "stderr",
     "output_type": "stream",
     "text": [
      "episode: 2761/3000  92% ETA:  0:00:54 |----------------------------------    | \r"
     ]
    },
    {
     "name": "stdout",
     "output_type": "stream",
     "text": [
      "Episode 2760 with 15 steps || Reward : [ 0.   -0.01] || avg reward :  0.017 || Noise  0.759 || 0.248 seconds, mem : 47934\n",
      "\u001b[0m"
     ]
    },
    {
     "name": "stderr",
     "output_type": "stream",
     "text": [
      "episode: 2764/3000  92% ETA:  0:00:53 |\\\\\\\\\\\\\\\\\\\\\\\\\\\\\\\\\\\\\\\\\\\\\\\\\\\\\\\\\\\\\\\\\\\\\\   | \r"
     ]
    },
    {
     "name": "stdout",
     "output_type": "stream",
     "text": [
      "\u001b[41mEpisode 2763 with 30 steps || Reward : [0.   0.09] || avg reward :  0.017 || Noise  0.758 || 0.517 seconds, mem : 47992\n",
      "\u001b[0m"
     ]
    },
    {
     "name": "stderr",
     "output_type": "stream",
     "text": [
      "episode: 2781/3000  92% ETA:  0:00:49 |-----------------------------------   | \r"
     ]
    },
    {
     "name": "stdout",
     "output_type": "stream",
     "text": [
      "Episode 2780 with 14 steps || Reward : [ 0.   -0.01] || avg reward :  0.014 || Noise  0.757 || 0.259 seconds, mem : 48233\n",
      "\u001b[0m"
     ]
    },
    {
     "name": "stderr",
     "output_type": "stream",
     "text": [
      "episode: 2795/3000  93% ETA:  0:00:46 |///////////////////////////////////   | \r"
     ]
    },
    {
     "name": "stdout",
     "output_type": "stream",
     "text": [
      "\u001b[41mEpisode 2795 with 32 steps || Reward : [0.   0.09] || avg reward :  0.014 || Noise  0.756 || 0.732 seconds, mem : 48479\n",
      "\u001b[0m"
     ]
    },
    {
     "name": "stderr",
     "output_type": "stream",
     "text": [
      "episode: 2797/3000  93% ETA:  0:00:46 |-----------------------------------   | \r"
     ]
    },
    {
     "name": "stdout",
     "output_type": "stream",
     "text": [
      "\u001b[41mEpisode 2799 with 31 steps || Reward : [0.   0.09] || avg reward :  0.015 || Noise  0.756 || 0.223 seconds, mem : 48552\n",
      "\u001b[0m"
     ]
    },
    {
     "name": "stderr",
     "output_type": "stream",
     "text": [
      "episode: 2801/3000  93% ETA:  0:00:45 |\\\\\\\\\\\\\\\\\\\\\\\\\\\\\\\\\\\\\\\\\\\\\\\\\\\\\\\\\\\\\\\\\\\\\\   | \r"
     ]
    },
    {
     "name": "stdout",
     "output_type": "stream",
     "text": [
      "\u001b[41mEpisode 2800 with 30 steps || Reward : [0.   0.09] || avg reward :  0.016 || Noise  0.756 || 0.400 seconds, mem : 48582\n",
      "\u001b[0m"
     ]
    },
    {
     "name": "stderr",
     "output_type": "stream",
     "text": [
      "episode: 2805/3000  93% ETA:  0:00:44 ||||||||||||||||||||||||||||||||||||   | \r"
     ]
    },
    {
     "name": "stdout",
     "output_type": "stream",
     "text": [
      "\u001b[41mEpisode 2805 with 31 steps || Reward : [0.   0.09] || avg reward :  0.017 || Noise  0.755 || 0.186 seconds, mem : 48670\n",
      "\u001b[0m"
     ]
    },
    {
     "name": "stderr",
     "output_type": "stream",
     "text": [
      "episode: 2811/3000  93% ETA:  0:00:42 |///////////////////////////////////   | \r"
     ]
    },
    {
     "name": "stdout",
     "output_type": "stream",
     "text": [
      "\u001b[41mEpisode 2810 with 32 steps || Reward : [0.   0.09] || avg reward :  0.016 || Noise  0.755 || 0.470 seconds, mem : 48758\n",
      "\u001b[0m"
     ]
    },
    {
     "name": "stderr",
     "output_type": "stream",
     "text": [
      "episode: 2817/3000  93% ETA:  0:00:41 |-----------------------------------   | \r"
     ]
    },
    {
     "name": "stdout",
     "output_type": "stream",
     "text": [
      "\u001b[44mEpisode 2818 with 33 steps || Reward : [0.1  0.09] || avg reward :  0.013 || Noise  0.754 || 0.730 seconds, mem : 48891\n",
      "\u001b[0m"
     ]
    },
    {
     "name": "stderr",
     "output_type": "stream",
     "text": [
      "episode: 2821/3000  94% ETA:  0:00:40 |\\\\\\\\\\\\\\\\\\\\\\\\\\\\\\\\\\\\\\\\\\\\\\\\\\\\\\\\\\\\\\\\\\\\\\   | \r"
     ]
    },
    {
     "name": "stdout",
     "output_type": "stream",
     "text": [
      "Episode 2820 with 14 steps || Reward : [-0.01  0.  ] || avg reward :  0.012 || Noise  0.754 || 0.216 seconds, mem : 48919\n",
      "\u001b[0m"
     ]
    },
    {
     "name": "stderr",
     "output_type": "stream",
     "text": [
      "episode: 2827/3000  94% ETA:  0:00:39 ||||||||||||||||||||||||||||||||||||   | \r"
     ]
    },
    {
     "name": "stdout",
     "output_type": "stream",
     "text": [
      "\u001b[41mEpisode 2827 with 34 steps || Reward : [0.   0.09] || avg reward :  0.013 || Noise  0.754 || 0.315 seconds, mem : 49038\n",
      "\u001b[0m"
     ]
    },
    {
     "name": "stderr",
     "output_type": "stream",
     "text": [
      "episode: 2831/3000  94% ETA:  0:00:38 |///////////////////////////////////   | \r"
     ]
    },
    {
     "name": "stdout",
     "output_type": "stream",
     "text": [
      "\u001b[41mEpisode 2833 with 32 steps || Reward : [0.   0.09] || avg reward :  0.014 || Noise  0.753 || 0.252 seconds, mem : 49141\n",
      "\u001b[0m"
     ]
    },
    {
     "name": "stderr",
     "output_type": "stream",
     "text": [
      "episode: 2835/3000  94% ETA:  0:00:37 |-----------------------------------   | \r"
     ]
    },
    {
     "name": "stdout",
     "output_type": "stream",
     "text": [
      "\u001b[41mEpisode 2836 with 31 steps || Reward : [0.   0.09] || avg reward :  0.013 || Noise  0.753 || 0.395 seconds, mem : 49201\n",
      "\u001b[0m"
     ]
    },
    {
     "name": "stderr",
     "output_type": "stream",
     "text": [
      "episode: 2838/3000  94% ETA:  0:00:36 |\\\\\\\\\\\\\\\\\\\\\\\\\\\\\\\\\\\\\\\\\\\\\\\\\\\\\\\\\\\\\\\\\\\\\\   | \r"
     ]
    },
    {
     "name": "stdout",
     "output_type": "stream",
     "text": [
      "\u001b[44mEpisode 2837 with 35 steps || Reward : [0.1  0.09] || avg reward :  0.014 || Noise  0.753 || 0.511 seconds, mem : 49236\n",
      "\u001b[0m"
     ]
    },
    {
     "name": "stderr",
     "output_type": "stream",
     "text": [
      "episode: 2840/3000  94% ETA:  0:00:36 ||||||||||||||||||||||||||||||||||||   | \r"
     ]
    },
    {
     "name": "stdout",
     "output_type": "stream",
     "text": [
      "\u001b[41mEpisode 2839 with 34 steps || Reward : [0.   0.09] || avg reward :  0.015 || Noise  0.753 || 0.615 seconds, mem : 49284\n",
      "\u001b[0mEpisode 2840 with 14 steps || Reward : [-0.01  0.  ] || avg reward :  0.014 || Noise  0.753 || 0.375 seconds, mem : 49298\n",
      "\u001b[0m"
     ]
    },
    {
     "name": "stderr",
     "output_type": "stream",
     "text": [
      "episode: 2845/3000  94% ETA:  0:00:35 |////////////////////////////////////  | \r"
     ]
    },
    {
     "name": "stdout",
     "output_type": "stream",
     "text": [
      "\u001b[41mEpisode 2846 with 31 steps || Reward : [0.   0.09] || avg reward :  0.015 || Noise  0.752 || 0.441 seconds, mem : 49400\n",
      "\u001b[0m"
     ]
    },
    {
     "name": "stderr",
     "output_type": "stream",
     "text": [
      "episode: 2857/3000  95% ETA:  0:00:32 |||||||||||||||||||||||||||||||||||||  | \r"
     ]
    },
    {
     "name": "stdout",
     "output_type": "stream",
     "text": [
      "\u001b[41mEpisode 2857 with 31 steps || Reward : [0.   0.09] || avg reward :  0.013 || Noise  0.751 || 0.191 seconds, mem : 49573\n",
      "\u001b[0m"
     ]
    },
    {
     "name": "stderr",
     "output_type": "stream",
     "text": [
      "episode: 2861/3000  95% ETA:  0:00:31 |////////////////////////////////////  | \r"
     ]
    },
    {
     "name": "stdout",
     "output_type": "stream",
     "text": [
      "Episode 2860 with 14 steps || Reward : [ 0.   -0.01] || avg reward :  0.013 || Noise  0.751 || 0.485 seconds, mem : 49616\n",
      "\u001b[0m\u001b[41mEpisode 2863 with 31 steps || Reward : [0.   0.09] || avg reward :  0.013 || Noise  0.751 || 0.207 seconds, mem : 49675\n",
      "\u001b[0m"
     ]
    },
    {
     "name": "stderr",
     "output_type": "stream",
     "text": [
      "episode: 2873/3000  95% ETA:  0:00:28 |\\\\\\\\\\\\\\\\\\\\\\\\\\\\\\\\\\\\\\\\\\\\\\\\\\\\\\\\\\\\\\\\\\\\\\\\  | \r"
     ]
    },
    {
     "name": "stdout",
     "output_type": "stream",
     "text": [
      "\u001b[41mEpisode 2873 with 31 steps || Reward : [0.   0.09] || avg reward :  0.014 || Noise  0.750 || 0.348 seconds, mem : 49834\n",
      "\u001b[0m"
     ]
    },
    {
     "name": "stderr",
     "output_type": "stream",
     "text": [
      "episode: 2877/3000  95% ETA:  0:00:27 |||||||||||||||||||||||||||||||||||||  | \r"
     ]
    },
    {
     "name": "stdout",
     "output_type": "stream",
     "text": [
      "\u001b[41mEpisode 2877 with 32 steps || Reward : [0.   0.09] || avg reward :  0.015 || Noise  0.750 || 0.240 seconds, mem : 49908\n",
      "\u001b[0m"
     ]
    },
    {
     "name": "stderr",
     "output_type": "stream",
     "text": [
      "episode: 2881/3000  96% ETA:  0:00:27 |////////////////////////////////////  | \r"
     ]
    },
    {
     "name": "stdout",
     "output_type": "stream",
     "text": [
      "Episode 2880 with 15 steps || Reward : [-0.01  0.  ] || avg reward :  0.015 || Noise  0.750 || 0.723 seconds, mem : 49951\n",
      "\u001b[0m\u001b[41mEpisode 2882 with 30 steps || Reward : [0.   0.09] || avg reward :  0.016 || Noise  0.750 || 0.314 seconds, mem : 49995\n",
      "\u001b[0m\u001b[41mEpisode 2883 with 31 steps || Reward : [0.   0.09] || avg reward :  0.016 || Noise  0.749 || 0.418 seconds, mem : 50000\n",
      "\u001b[0m"
     ]
    },
    {
     "name": "stderr",
     "output_type": "stream",
     "text": [
      "episode: 2901/3000  96% ETA:  0:00:22 |------------------------------------  | \r"
     ]
    },
    {
     "name": "stdout",
     "output_type": "stream",
     "text": [
      "\u001b[41mEpisode 2900 with 31 steps || Reward : [0.   0.09] || avg reward :  0.015 || Noise  0.748 || 1.015 seconds, mem : 50000\n",
      "\u001b[0m"
     ]
    },
    {
     "name": "stderr",
     "output_type": "stream",
     "text": [
      "episode: 2906/3000  96% ETA:  0:00:21 |\\\\\\\\\\\\\\\\\\\\\\\\\\\\\\\\\\\\\\\\\\\\\\\\\\\\\\\\\\\\\\\\\\\\\\\\  | \r"
     ]
    },
    {
     "name": "stdout",
     "output_type": "stream",
     "text": [
      "\u001b[44mEpisode 2904 with 33 steps || Reward : [0.1  0.09] || avg reward :  0.016 || Noise  0.748 || 0.382 seconds, mem : 50000\n",
      "\u001b[0m"
     ]
    },
    {
     "name": "stderr",
     "output_type": "stream",
     "text": [
      "episode: 2919/3000  97% ETA:  0:00:18 |------------------------------------  | \r"
     ]
    },
    {
     "name": "stdout",
     "output_type": "stream",
     "text": [
      "Episode 2920 with 16 steps || Reward : [ 0.   -0.01] || avg reward :  0.013 || Noise  0.747 || 0.631 seconds, mem : 50000\n",
      "\u001b[0m"
     ]
    },
    {
     "name": "stderr",
     "output_type": "stream",
     "text": [
      "episode: 2928/3000  97% ETA:  0:00:16 |||||||||||||||||||||||||||||||||||||| | \r"
     ]
    },
    {
     "name": "stdout",
     "output_type": "stream",
     "text": [
      "\u001b[41mEpisode 2926 with 31 steps || Reward : [0.   0.09] || avg reward :  0.014 || Noise  0.746 || 0.345 seconds, mem : 50000\n",
      "\u001b[0m\u001b[41mEpisode 2928 with 30 steps || Reward : [0.   0.09] || avg reward :  0.014 || Noise  0.746 || 0.331 seconds, mem : 50000\n",
      "\u001b[0m\u001b[41mEpisode 2929 with 31 steps || Reward : [0.   0.09] || avg reward :  0.015 || Noise  0.746 || 0.252 seconds, mem : 50000\n",
      "\u001b[0m"
     ]
    },
    {
     "name": "stderr",
     "output_type": "stream",
     "text": [
      "episode: 2932/3000  97% ETA:  0:00:15 |///////////////////////////////////// | \r"
     ]
    },
    {
     "name": "stdout",
     "output_type": "stream",
     "text": [
      "\u001b[41mEpisode 2931 with 31 steps || Reward : [0.   0.09] || avg reward :  0.016 || Noise  0.746 || 0.197 seconds, mem : 50000\n",
      "\u001b[0m"
     ]
    },
    {
     "name": "stderr",
     "output_type": "stream",
     "text": [
      "episode: 2937/3000  97% ETA:  0:00:14 |------------------------------------- | \r"
     ]
    },
    {
     "name": "stdout",
     "output_type": "stream",
     "text": [
      "Episode 2940 with 14 steps || Reward : [ 0.   -0.01] || avg reward :  0.012 || Noise  0.745 || 0.238 seconds, mem : 50000\n",
      "\u001b[0m"
     ]
    },
    {
     "name": "stderr",
     "output_type": "stream",
     "text": [
      "episode: 2955/3000  98% ETA:  0:00:10 |///////////////////////////////////// | \r"
     ]
    },
    {
     "name": "stdout",
     "output_type": "stream",
     "text": [
      "\u001b[41mEpisode 2955 with 29 steps || Reward : [0.   0.09] || avg reward :  0.012 || Noise  0.744 || 0.234 seconds, mem : 50000\n",
      "\u001b[0m"
     ]
    },
    {
     "name": "stderr",
     "output_type": "stream",
     "text": [
      "episode: 2959/3000  98% ETA:  0:00:09 |------------------------------------- | \r"
     ]
    },
    {
     "name": "stdout",
     "output_type": "stream",
     "text": [
      "Episode 2960 with 15 steps || Reward : [-0.01  0.  ] || avg reward :  0.011 || Noise  0.744 || 0.224 seconds, mem : 50000\n",
      "\u001b[0m"
     ]
    },
    {
     "name": "stderr",
     "output_type": "stream",
     "text": [
      "episode: 2965/3000  98% ETA:  0:00:07 |\\\\\\\\\\\\\\\\\\\\\\\\\\\\\\\\\\\\\\\\\\\\\\\\\\\\\\\\\\\\\\\\\\\\\\\\\\ | \r"
     ]
    },
    {
     "name": "stdout",
     "output_type": "stream",
     "text": [
      "\u001b[41mEpisode 2966 with 31 steps || Reward : [0.   0.09] || avg reward :  0.011 || Noise  0.743 || 0.613 seconds, mem : 50000\n",
      "\u001b[0m"
     ]
    },
    {
     "name": "stderr",
     "output_type": "stream",
     "text": [
      "episode: 2969/3000  98% ETA:  0:00:07 |||||||||||||||||||||||||||||||||||||| | \r"
     ]
    },
    {
     "name": "stdout",
     "output_type": "stream",
     "text": [
      "\u001b[41mEpisode 2970 with 34 steps || Reward : [-0.01  0.1 ] || avg reward :  0.012 || Noise  0.743 || 0.381 seconds, mem : 50000\n",
      "\u001b[0m"
     ]
    },
    {
     "name": "stderr",
     "output_type": "stream",
     "text": [
      "episode: 2980/3000  99% ETA:  0:00:04 |------------------------------------- | \r"
     ]
    },
    {
     "name": "stdout",
     "output_type": "stream",
     "text": [
      "\u001b[41mEpisode 2978 with 32 steps || Reward : [-0.01  0.1 ] || avg reward :  0.011 || Noise  0.742 || 0.349 seconds, mem : 50000\n",
      "\u001b[0mEpisode 2980 with 14 steps || Reward : [ 0.   -0.01] || avg reward :  0.011 || Noise  0.742 || 0.239 seconds, mem : 50000\n",
      "\u001b[0m"
     ]
    },
    {
     "name": "stderr",
     "output_type": "stream",
     "text": [
      "episode: 2993/3000  99% ETA:  0:00:01 |///////////////////////////////////// | \r"
     ]
    },
    {
     "name": "stdout",
     "output_type": "stream",
     "text": [
      "\u001b[44mEpisode 2995 with 44 steps || Reward : [0.1  0.09] || avg reward :  0.010 || Noise  0.741 || 0.329 seconds, mem : 50000\n",
      "\u001b[0m"
     ]
    },
    {
     "name": "stderr",
     "output_type": "stream",
     "text": [
      "episode: 2997/3000  99% ETA:  0:00:00 |------------------------------------- | \r"
     ]
    },
    {
     "name": "stdout",
     "output_type": "stream",
     "text": [
      "Config Parameters    : \n",
      "gamma                : 0.99\n",
      "tau                  : 0.01\n",
      "action_size          : 2\n",
      "state_size           : 24\n",
      "hidden_size          : 256\n",
      "buffer_size          : 50000\n",
      "batch_size           : 256\n",
      "seed                 : 8\n",
      "max_episodes         : 3000\n",
      "dropout              : 0.01\n",
      "learn_every          : 2\n",
      "critic_learning_rate : 0.001\n",
      "actor_learning_rate  : 0.001\n",
      "noise_decay          : 0.9999\n",
      "sigma                : 0.6\n",
      "num_agents           : 2\n",
      "env_file_name        : Tennis_Windows_x86_64/Tennis.exe\n",
      "train_mode           : True\n",
      "brain_name           : TennisBrain\n"
     ]
    },
    {
     "data": {
      "image/png": "[encoded data removed]",
      "text/plain": [
       "<Figure size 432x288 with 1 Axes>"
      ]
     },
     "metadata": {
      "needs_background": "light"
     },
     "output_type": "display_data"
    },
    {
     "data": {
      "image/png": "[encoded data removed]",
      "text/plain": [
       "<Figure size 432x288 with 1 Axes>"
      ]
     },
     "metadata": {
      "needs_background": "light"
     },
     "output_type": "display_data"
    },
    {
     "data": {
      "image/png": "[encoded data removed]",
      "text/plain": [
       "<Figure size 432x288 with 1 Axes>"
      ]
     },
     "metadata": {
      "needs_background": "light"
     },
     "output_type": "display_data"
    },
    {
     "name": "stdout",
     "output_type": "stream",
     "text": [
      "-------------------------------------\n",
      "New Run :\n",
      "-------------------------------------\n",
      "Config Parameters    : \n",
      "gamma                : 0.99\n",
      "tau                  : 0.01\n",
      "action_size          : 2\n",
      "state_size           : 24\n",
      "hidden_size          : 256\n",
      "buffer_size          : 50000\n",
      "batch_size           : 256\n",
      "seed                 : 16\n",
      "max_episodes         : 3000\n",
      "dropout              : 0.01\n",
      "learn_every          : 2\n",
      "critic_learning_rate : 0.001\n",
      "actor_learning_rate  : 0.001\n",
      "noise_decay          : 0.9999\n",
      "sigma                : 0.6\n",
      "num_agents           : 2\n",
      "env_file_name        : Tennis_Windows_x86_64/Tennis.exe\n",
      "train_mode           : True\n",
      "brain_name           : TennisBrain\n"
     ]
    },
    {
     "name": "stderr",
     "output_type": "stream",
     "text": [
      "episode: 0/3000   0% ETA:  --:--:-- |                                        | \r"
     ]
    },
    {
     "name": "stdout",
     "output_type": "stream",
     "text": [
      "Running on device :  cpu\n",
      "Episode 0 with 15 steps || Reward : [ 0.   -0.01] || avg reward :  0.000 || Noise  1.000 || 0.167 seconds, mem : 15\n",
      "\u001b[0m"
     ]
    },
    {
     "name": "stderr",
     "output_type": "stream",
     "text": [
      "c:\\programdata\\anaconda3\\envs\\drlnd\\lib\\site-packages\\numpy\\core\\fromnumeric.py:3335: RuntimeWarning: Mean of empty slice.\n",
      "  out=out, **kwargs)\n",
      "c:\\programdata\\anaconda3\\envs\\drlnd\\lib\\site-packages\\numpy\\core\\_methods.py:161: RuntimeWarning: invalid value encountered in double_scalars\n",
      "  ret = ret.dtype.type(ret / rcount)\n",
      "episode: 19/3000   0% ETA:  0:08:14 |                                        | \r"
     ]
    },
    {
     "name": "stdout",
     "output_type": "stream",
     "text": [
      "Episode 20 with 15 steps || Reward : [ 0.   -0.01] || avg reward :  0.000 || Noise  0.998 || 0.222 seconds, mem : 299\n",
      "\u001b[0m"
     ]
    },
    {
     "name": "stderr",
     "output_type": "stream",
     "text": [
      "episode: 38/3000   1% ETA:  0:08:09 |                                        | \r"
     ]
    },
    {
     "name": "stdout",
     "output_type": "stream",
     "text": [
      "Episode 40 with 15 steps || Reward : [ 0.   -0.01] || avg reward :  0.000 || Noise  0.996 || 0.268 seconds, mem : 583\n",
      "\u001b[0m"
     ]
    },
    {
     "name": "stderr",
     "output_type": "stream",
     "text": [
      "episode: 56/3000   1% ETA:  0:08:14 |                                        | \r"
     ]
    },
    {
     "name": "stdout",
     "output_type": "stream",
     "text": [
      "\u001b[41mEpisode 57 with 31 steps || Reward : [ 0.1  -0.01] || avg reward :  0.002 || Noise  0.994 || 0.197 seconds, mem : 841\n",
      "\u001b[0m"
     ]
    },
    {
     "name": "stderr",
     "output_type": "stream",
     "text": [
      "episode: 61/3000   2% ETA:  0:08:24 |                                        | \r"
     ]
    },
    {
     "name": "stdout",
     "output_type": "stream",
     "text": [
      "Episode 60 with 14 steps || Reward : [ 0.   -0.01] || avg reward :  0.002 || Noise  0.994 || 0.197 seconds, mem : 883\n",
      "\u001b[0m"
     ]
    },
    {
     "name": "stderr",
     "output_type": "stream",
     "text": [
      "episode: 80/3000   2% ETA:  0:08:27 |/                                       | \r"
     ]
    },
    {
     "name": "stdout",
     "output_type": "stream",
     "text": [
      "Episode 80 with 14 steps || Reward : [ 0.   -0.01] || avg reward :  0.001 || Noise  0.992 || 0.233 seconds, mem : 1167\n",
      "\u001b[0m\u001b[41mEpisode 82 with 27 steps || Reward : [ 0.1  -0.01] || avg reward :  0.002 || Noise  0.992 || 0.300 seconds, mem : 1209\n",
      "\u001b[0m"
     ]
    },
    {
     "name": "stderr",
     "output_type": "stream",
     "text": [
      "episode: 91/3000   3% ETA:  0:08:38 |\\                                       | \r"
     ]
    },
    {
     "name": "stdout",
     "output_type": "stream",
     "text": [
      "\u001b[41mEpisode 91 with 31 steps || Reward : [ 0.1  -0.01] || avg reward :  0.003 || Noise  0.991 || 0.301 seconds, mem : 1356\n",
      "\u001b[0m\u001b[41mEpisode 93 with 31 steps || Reward : [ 0.1  -0.01] || avg reward :  0.004 || Noise  0.991 || 0.233 seconds, mem : 1401\n",
      "\u001b[0m"
     ]
    },
    {
     "name": "stderr",
     "output_type": "stream",
     "text": [
      "episode: 101/3000   3% ETA:  0:08:47 |/                                      | \r"
     ]
    },
    {
     "name": "stdout",
     "output_type": "stream",
     "text": [
      "Episode 100 with 14 steps || Reward : [ 0.   -0.01] || avg reward :  0.004 || Noise  0.990 || 0.194 seconds, mem : 1500\n",
      "\u001b[0m"
     ]
    },
    {
     "name": "stderr",
     "output_type": "stream",
     "text": [
      "episode: 107/3000   3% ETA:  0:08:44 |-                                      | \r"
     ]
    },
    {
     "name": "stdout",
     "output_type": "stream",
     "text": [
      "\u001b[41mEpisode 107 with 31 steps || Reward : [ 0.1  -0.01] || avg reward :  0.005 || Noise  0.989 || 0.264 seconds, mem : 1615\n",
      "\u001b[0m"
     ]
    },
    {
     "name": "stderr",
     "output_type": "stream",
     "text": [
      "episode: 113/3000   3% ETA:  0:08:49 |\\                                      | \r"
     ]
    },
    {
     "name": "stdout",
     "output_type": "stream",
     "text": [
      "\u001b[41mEpisode 113 with 31 steps || Reward : [0.   0.09] || avg reward :  0.006 || Noise  0.989 || 0.318 seconds, mem : 1732\n",
      "\u001b[0m\u001b[41mEpisode 115 with 31 steps || Reward : [ 0.1  -0.01] || avg reward :  0.007 || Noise  0.988 || 0.217 seconds, mem : 1777\n",
      "\u001b[0m"
     ]
    },
    {
     "name": "stderr",
     "output_type": "stream",
     "text": [
      "episode: 117/3000   3% ETA:  0:08:56 ||                                      | \r"
     ]
    },
    {
     "name": "stdout",
     "output_type": "stream",
     "text": [
      "\u001b[41mEpisode 117 with 31 steps || Reward : [ 0.1  -0.01] || avg reward :  0.008 || Noise  0.988 || 0.300 seconds, mem : 1822\n",
      "\u001b[0m"
     ]
    },
    {
     "name": "stderr",
     "output_type": "stream",
     "text": [
      "episode: 122/3000   4% ETA:  0:08:57 |/                                      | \r"
     ]
    },
    {
     "name": "stdout",
     "output_type": "stream",
     "text": [
      "\u001b[41mEpisode 120 with 31 steps || Reward : [ 0.1  -0.01] || avg reward :  0.009 || Noise  0.988 || 0.332 seconds, mem : 1881\n",
      "\u001b[0m"
     ]
    },
    {
     "name": "stderr",
     "output_type": "stream",
     "text": [
      "episode: 127/3000   4% ETA:  0:08:59 |-                                      | \r"
     ]
    },
    {
     "name": "stdout",
     "output_type": "stream",
     "text": [
      "\u001b[41mEpisode 130 with 29 steps || Reward : [ 0.1  -0.01] || avg reward :  0.010 || Noise  0.987 || 0.282 seconds, mem : 2038\n",
      "\u001b[0m"
     ]
    },
    {
     "name": "stderr",
     "output_type": "stream",
     "text": [
      "episode: 133/3000   4% ETA:  0:08:56 |\\                                      | \r"
     ]
    },
    {
     "name": "stdout",
     "output_type": "stream",
     "text": [
      "\u001b[41mEpisode 136 with 29 steps || Reward : [ 0.1  -0.01] || avg reward :  0.011 || Noise  0.986 || 0.397 seconds, mem : 2138\n",
      "\u001b[0m"
     ]
    },
    {
     "name": "stderr",
     "output_type": "stream",
     "text": [
      "episode: 139/3000   4% ETA:  0:08:56 ||                                      | \r"
     ]
    },
    {
     "name": "stdout",
     "output_type": "stream",
     "text": [
      "\u001b[41mEpisode 140 with 26 steps || Reward : [ 0.1  -0.01] || avg reward :  0.012 || Noise  0.986 || 0.311 seconds, mem : 2208\n",
      "\u001b[0m"
     ]
    },
    {
     "name": "stderr",
     "output_type": "stream",
     "text": [
      "episode: 143/3000   4% ETA:  0:09:00 |/                                      | \r"
     ]
    },
    {
     "name": "stdout",
     "output_type": "stream",
     "text": [
      "\u001b[41mEpisode 142 with 30 steps || Reward : [ 0.1  -0.01] || avg reward :  0.013 || Noise  0.986 || 0.463 seconds, mem : 2253\n",
      "\u001b[0m\u001b[41mEpisode 144 with 30 steps || Reward : [ 0.1  -0.01] || avg reward :  0.014 || Noise  0.986 || 0.323 seconds, mem : 2297\n",
      "\u001b[0m"
     ]
    },
    {
     "name": "stderr",
     "output_type": "stream",
     "text": [
      "episode: 147/3000   4% ETA:  0:09:07 |-                                      | \r"
     ]
    },
    {
     "name": "stdout",
     "output_type": "stream",
     "text": [
      "\u001b[41mEpisode 146 with 42 steps || Reward : [ 0.1  -0.01] || avg reward :  0.015 || Noise  0.985 || 0.597 seconds, mem : 2353\n",
      "\u001b[0m\u001b[41mEpisode 151 with 32 steps || Reward : [ 0.1  -0.01] || avg reward :  0.016 || Noise  0.985 || 0.217 seconds, mem : 2442\n",
      "\u001b[0m"
     ]
    },
    {
     "name": "stderr",
     "output_type": "stream",
     "text": [
      "episode: 153/3000   5% ETA:  0:09:06 |\\                                      | \r"
     ]
    },
    {
     "name": "stdout",
     "output_type": "stream",
     "text": [
      "\u001b[41mEpisode 152 with 33 steps || Reward : [ 0.1  -0.01] || avg reward :  0.017 || Noise  0.985 || 0.335 seconds, mem : 2475\n",
      "\u001b[0m"
     ]
    },
    {
     "name": "stderr",
     "output_type": "stream",
     "text": [
      "episode: 160/3000   5% ETA:  0:09:00 |||                                     | \r"
     ]
    },
    {
     "name": "stdout",
     "output_type": "stream",
     "text": [
      "Episode 160 with 14 steps || Reward : [ 0.   -0.01] || avg reward :  0.016 || Noise  0.984 || 0.265 seconds, mem : 2588\n",
      "\u001b[0m"
     ]
    },
    {
     "name": "stderr",
     "output_type": "stream",
     "text": [
      "episode: 165/3000   5% ETA:  0:09:00 |//                                     | \r"
     ]
    },
    {
     "name": "stdout",
     "output_type": "stream",
     "text": [
      "\u001b[41mEpisode 164 with 30 steps || Reward : [ 0.1  -0.01] || avg reward :  0.017 || Noise  0.984 || 0.314 seconds, mem : 2661\n",
      "\u001b[0m\u001b[41mEpisode 166 with 26 steps || Reward : [ 0.1  -0.01] || avg reward :  0.018 || Noise  0.983 || 0.548 seconds, mem : 2701\n",
      "\u001b[0m"
     ]
    },
    {
     "name": "stderr",
     "output_type": "stream",
     "text": [
      "episode: 170/3000   5% ETA:  0:09:03 |--                                     | \r"
     ]
    },
    {
     "name": "stdout",
     "output_type": "stream",
     "text": [
      "\u001b[41mEpisode 169 with 29 steps || Reward : [ 0.1  -0.01] || avg reward :  0.019 || Noise  0.983 || 0.206 seconds, mem : 2758\n",
      "\u001b[0m\u001b[41mEpisode 170 with 31 steps || Reward : [ 0.1  -0.01] || avg reward :  0.020 || Noise  0.983 || 0.415 seconds, mem : 2789\n",
      "\u001b[0m"
     ]
    },
    {
     "name": "stderr",
     "output_type": "stream",
     "text": [
      "episode: 175/3000   5% ETA:  0:09:06 |\\\\                                     | \r"
     ]
    },
    {
     "name": "stdout",
     "output_type": "stream",
     "text": [
      "\u001b[41mEpisode 178 with 32 steps || Reward : [ 0.1  -0.01] || avg reward :  0.021 || Noise  0.982 || 0.429 seconds, mem : 2920\n",
      "\u001b[0m"
     ]
    },
    {
     "name": "stderr",
     "output_type": "stream",
     "text": [
      "episode: 180/3000   6% ETA:  0:09:07 |||                                     | \r"
     ]
    },
    {
     "name": "stdout",
     "output_type": "stream",
     "text": [
      "\u001b[41mEpisode 179 with 30 steps || Reward : [ 0.1  -0.01] || avg reward :  0.022 || Noise  0.982 || 0.222 seconds, mem : 2950\n",
      "\u001b[0m\u001b[41mEpisode 180 with 32 steps || Reward : [ 0.1  -0.01] || avg reward :  0.023 || Noise  0.982 || 0.363 seconds, mem : 2982\n",
      "\u001b[0m\u001b[41mEpisode 181 with 30 steps || Reward : [ 0.1  -0.01] || avg reward :  0.024 || Noise  0.982 || 0.200 seconds, mem : 3012\n",
      "\u001b[0m"
     ]
    },
    {
     "name": "stderr",
     "output_type": "stream",
     "text": [
      "episode: 185/3000   6% ETA:  0:09:10 |//                                     | \r"
     ]
    },
    {
     "name": "stdout",
     "output_type": "stream",
     "text": [
      "\u001b[41mEpisode 185 with 31 steps || Reward : [ 0.1  -0.01] || avg reward :  0.024 || Noise  0.982 || 0.222 seconds, mem : 3086\n",
      "\u001b[0m"
     ]
    },
    {
     "name": "stderr",
     "output_type": "stream",
     "text": [
      "episode: 190/3000   6% ETA:  0:09:09 |--                                     | \r"
     ]
    },
    {
     "name": "stdout",
     "output_type": "stream",
     "text": [
      "\u001b[41mEpisode 190 with 25 steps || Reward : [ 0.1  -0.01] || avg reward :  0.025 || Noise  0.981 || 0.280 seconds, mem : 3168\n",
      "\u001b[0m"
     ]
    },
    {
     "name": "stderr",
     "output_type": "stream",
     "text": [
      "episode: 196/3000   6% ETA:  0:09:06 |\\\\                                     | \r"
     ]
    },
    {
     "name": "stdout",
     "output_type": "stream",
     "text": [
      "\u001b[41mEpisode 197 with 29 steps || Reward : [ 0.1  -0.01] || avg reward :  0.024 || Noise  0.980 || 0.230 seconds, mem : 3283\n",
      "\u001b[0m"
     ]
    },
    {
     "name": "stderr",
     "output_type": "stream",
     "text": [
      "episode: 201/3000   6% ETA:  0:09:06 |||                                     | \r"
     ]
    },
    {
     "name": "stdout",
     "output_type": "stream",
     "text": [
      "Episode 200 with 15 steps || Reward : [-0.01  0.  ] || avg reward :  0.024 || Noise  0.980 || 0.264 seconds, mem : 3326\n",
      "\u001b[0m\u001b[41mEpisode 201 with 30 steps || Reward : [0.   0.09] || avg reward :  0.025 || Noise  0.980 || 0.190 seconds, mem : 3356\n",
      "\u001b[0m"
     ]
    },
    {
     "name": "stderr",
     "output_type": "stream",
     "text": [
      "episode: 206/3000   6% ETA:  0:09:06 |//                                     | \r"
     ]
    },
    {
     "name": "stdout",
     "output_type": "stream",
     "text": [
      "\u001b[41mEpisode 208 with 31 steps || Reward : [ 0.1  -0.01] || avg reward :  0.025 || Noise  0.979 || 0.456 seconds, mem : 3472\n",
      "\u001b[0m"
     ]
    },
    {
     "name": "stderr",
     "output_type": "stream",
     "text": [
      "episode: 211/3000   7% ETA:  0:09:08 |--                                     | \r"
     ]
    },
    {
     "name": "stdout",
     "output_type": "stream",
     "text": [
      "\u001b[41mEpisode 211 with 32 steps || Reward : [0.   0.09] || avg reward :  0.026 || Noise  0.979 || 0.523 seconds, mem : 3532\n",
      "\u001b[0m\u001b[41mEpisode 212 with 32 steps || Reward : [0.   0.09] || avg reward :  0.027 || Noise  0.979 || 0.447 seconds, mem : 3564\n",
      "\u001b[0m"
     ]
    },
    {
     "name": "stderr",
     "output_type": "stream",
     "text": [
      "episode: 214/3000   7% ETA:  0:09:17 |\\\\                                     | \r"
     ]
    },
    {
     "name": "stdout",
     "output_type": "stream",
     "text": [
      "\u001b[41mEpisode 213 with 31 steps || Reward : [ 0.1  -0.01] || avg reward :  0.027 || Noise  0.979 || 0.344 seconds, mem : 3595\n",
      "\u001b[0m"
     ]
    },
    {
     "name": "stderr",
     "output_type": "stream",
     "text": [
      "episode: 218/3000   7% ETA:  0:09:19 |||                                     | \r"
     ]
    },
    {
     "name": "stdout",
     "output_type": "stream",
     "text": [
      "\u001b[41mEpisode 220 with 30 steps || Reward : [ 0.1  -0.01] || avg reward :  0.025 || Noise  0.978 || 0.304 seconds, mem : 3716\n",
      "\u001b[0m"
     ]
    },
    {
     "name": "stderr",
     "output_type": "stream",
     "text": [
      "episode: 223/3000   7% ETA:  0:09:19 |//                                     | \r"
     ]
    },
    {
     "name": "stdout",
     "output_type": "stream",
     "text": [
      "\u001b[41mEpisode 225 with 31 steps || Reward : [ 0.1  -0.01] || avg reward :  0.026 || Noise  0.978 || 0.250 seconds, mem : 3804\n",
      "\u001b[0m"
     ]
    },
    {
     "name": "stderr",
     "output_type": "stream",
     "text": [
      "episode: 227/3000   7% ETA:  0:09:21 |--                                     | \r"
     ]
    },
    {
     "name": "stdout",
     "output_type": "stream",
     "text": [
      "\u001b[41mEpisode 226 with 30 steps || Reward : [0.   0.09] || avg reward :  0.027 || Noise  0.978 || 0.451 seconds, mem : 3834\n",
      "\u001b[0m"
     ]
    },
    {
     "name": "stderr",
     "output_type": "stream",
     "text": [
      "episode: 233/3000   7% ETA:  0:09:19 |\\\\\\                                    | \r"
     ]
    },
    {
     "name": "stdout",
     "output_type": "stream",
     "text": [
      "\u001b[41mEpisode 237 with 30 steps || Reward : [0.   0.09] || avg reward :  0.026 || Noise  0.976 || 0.223 seconds, mem : 4006\n",
      "\u001b[0m"
     ]
    },
    {
     "name": "stderr",
     "output_type": "stream",
     "text": [
      "episode: 239/3000   7% ETA:  0:09:17 ||||                                    | \r"
     ]
    },
    {
     "name": "stdout",
     "output_type": "stream",
     "text": [
      "Episode 240 with 14 steps || Reward : [ 0.   -0.01] || avg reward :  0.025 || Noise  0.976 || 0.228 seconds, mem : 4048\n",
      "\u001b[0m\u001b[41mEpisode 241 with 33 steps || Reward : [0.   0.09] || avg reward :  0.025 || Noise  0.976 || 0.293 seconds, mem : 4081\n",
      "\u001b[0m"
     ]
    },
    {
     "name": "stderr",
     "output_type": "stream",
     "text": [
      "episode: 243/3000   8% ETA:  0:09:19 |///                                    | \r"
     ]
    },
    {
     "name": "stdout",
     "output_type": "stream",
     "text": [
      "\u001b[41mEpisode 242 with 32 steps || Reward : [0.   0.09] || avg reward :  0.025 || Noise  0.976 || 0.412 seconds, mem : 4113\n",
      "\u001b[0m\u001b[41mEpisode 244 with 31 steps || Reward : [ 0.1  -0.01] || avg reward :  0.025 || Noise  0.976 || 0.716 seconds, mem : 4158\n",
      "\u001b[0m"
     ]
    },
    {
     "name": "stderr",
     "output_type": "stream",
     "text": [
      "episode: 246/3000   8% ETA:  0:09:24 |---                                    | \r"
     ]
    },
    {
     "name": "stdout",
     "output_type": "stream",
     "text": [
      "\u001b[41mEpisode 245 with 31 steps || Reward : [ 0.1  -0.01] || avg reward :  0.026 || Noise  0.976 || 0.234 seconds, mem : 4189\n",
      "\u001b[0m"
     ]
    },
    {
     "name": "stderr",
     "output_type": "stream",
     "text": [
      "episode: 253/3000   8% ETA:  0:09:33 ||||                                    | \r"
     ]
    },
    {
     "name": "stdout",
     "output_type": "stream",
     "text": [
      "\u001b[41mEpisode 252 with 32 steps || Reward : [0.   0.09] || avg reward :  0.024 || Noise  0.975 || 0.619 seconds, mem : 4324\n",
      "\u001b[0m"
     ]
    },
    {
     "name": "stderr",
     "output_type": "stream",
     "text": [
      "episode: 255/3000   8% ETA:  0:09:40 |///                                    | \r"
     ]
    },
    {
     "name": "stdout",
     "output_type": "stream",
     "text": [
      "\u001b[41mEpisode 254 with 32 steps || Reward : [0.   0.09] || avg reward :  0.025 || Noise  0.975 || 0.947 seconds, mem : 4370\n",
      "\u001b[0m"
     ]
    },
    {
     "name": "stderr",
     "output_type": "stream",
     "text": [
      "episode: 259/3000   8% ETA:  0:09:41 |---                                    | \r"
     ]
    },
    {
     "name": "stdout",
     "output_type": "stream",
     "text": [
      "Episode 260 with 15 steps || Reward : [-0.01  0.  ] || avg reward :  0.025 || Noise  0.974 || 0.215 seconds, mem : 4456\n",
      "\u001b[0m\u001b[41mEpisode 261 with 29 steps || Reward : [ 0.1  -0.01] || avg reward :  0.026 || Noise  0.974 || 0.246 seconds, mem : 4485\n",
      "\u001b[0m"
     ]
    },
    {
     "name": "stderr",
     "output_type": "stream",
     "text": [
      "episode: 263/3000   8% ETA:  0:09:45 |\\\\\\                                    | \r"
     ]
    },
    {
     "name": "stdout",
     "output_type": "stream",
     "text": [
      "\u001b[41mEpisode 262 with 31 steps || Reward : [ 0.1  -0.01] || avg reward :  0.027 || Noise  0.974 || 0.715 seconds, mem : 4516\n",
      "\u001b[0m\u001b[41mEpisode 267 with 33 steps || Reward : [ 0.1  -0.01] || avg reward :  0.026 || Noise  0.974 || 0.216 seconds, mem : 4606\n",
      "\u001b[0m"
     ]
    },
    {
     "name": "stderr",
     "output_type": "stream",
     "text": [
      "episode: 269/3000   8% ETA:  0:09:43 ||||                                    | \r"
     ]
    },
    {
     "name": "stdout",
     "output_type": "stream",
     "text": [
      "\u001b[41mEpisode 270 with 29 steps || Reward : [ 0.1  -0.01] || avg reward :  0.025 || Noise  0.973 || 0.379 seconds, mem : 4664\n",
      "\u001b[0m\u001b[41mEpisode 271 with 32 steps || Reward : [0.   0.09] || avg reward :  0.026 || Noise  0.973 || 0.198 seconds, mem : 4696\n",
      "\u001b[0m"
     ]
    },
    {
     "name": "stderr",
     "output_type": "stream",
     "text": [
      "episode: 274/3000   9% ETA:  0:09:43 |///                                    | \r"
     ]
    },
    {
     "name": "stdout",
     "output_type": "stream",
     "text": [
      "\u001b[41mEpisode 273 with 32 steps || Reward : [0.   0.09] || avg reward :  0.027 || Noise  0.973 || 0.233 seconds, mem : 4742\n",
      "\u001b[0m\u001b[41mEpisode 276 with 31 steps || Reward : [ 0.1  -0.01] || avg reward :  0.028 || Noise  0.973 || 0.325 seconds, mem : 4802\n",
      "\u001b[0m"
     ]
    },
    {
     "name": "stderr",
     "output_type": "stream",
     "text": [
      "episode: 279/3000   9% ETA:  0:09:42 |---                                    | \r"
     ]
    },
    {
     "name": "stdout",
     "output_type": "stream",
     "text": [
      "Episode 280 with 14 steps || Reward : [ 0.   -0.01] || avg reward :  0.025 || Noise  0.972 || 0.199 seconds, mem : 4878\n",
      "\u001b[0m"
     ]
    },
    {
     "name": "stderr",
     "output_type": "stream",
     "text": [
      "episode: 285/3000   9% ETA:  0:09:41 |\\\\\\                                    | \r"
     ]
    },
    {
     "name": "stdout",
     "output_type": "stream",
     "text": [
      "\u001b[41mEpisode 284 with 31 steps || Reward : [0.   0.09] || avg reward :  0.025 || Noise  0.972 || 0.486 seconds, mem : 4952\n",
      "\u001b[0m"
     ]
    },
    {
     "name": "stderr",
     "output_type": "stream",
     "text": [
      "episode: 291/3000   9% ETA:  0:09:37 ||||                                    | \r"
     ]
    },
    {
     "name": "stdout",
     "output_type": "stream",
     "text": [
      "\u001b[41mEpisode 291 with 31 steps || Reward : [0.   0.09] || avg reward :  0.024 || Noise  0.971 || 0.182 seconds, mem : 5068\n",
      "\u001b[0m"
     ]
    },
    {
     "name": "stderr",
     "output_type": "stream",
     "text": [
      "episode: 301/3000  10% ETA:  0:09:51 |\\\\\\                                    | \r"
     ]
    },
    {
     "name": "stdout",
     "output_type": "stream",
     "text": [
      "Episode 300 with 15 steps || Reward : [ 0.   -0.01] || avg reward :  0.023 || Noise  0.970 || 1.479 seconds, mem : 5196\n",
      "\u001b[0m"
     ]
    },
    {
     "name": "stderr",
     "output_type": "stream",
     "text": [
      "episode: 306/3000  10% ETA:  0:09:50 ||||                                    | \r"
     ]
    },
    {
     "name": "stdout",
     "output_type": "stream",
     "text": [
      "\u001b[41mEpisode 305 with 33 steps || Reward : [-0.01  0.1 ] || avg reward :  0.023 || Noise  0.970 || 0.209 seconds, mem : 5285\n",
      "\u001b[0m"
     ]
    },
    {
     "name": "stderr",
     "output_type": "stream",
     "text": [
      "episode: 311/3000  10% ETA:  0:09:49 |////                                   | \r"
     ]
    },
    {
     "name": "stdout",
     "output_type": "stream",
     "text": [
      "\u001b[41mEpisode 313 with 32 steps || Reward : [0.   0.09] || avg reward :  0.020 || Noise  0.969 || 0.255 seconds, mem : 5435\n",
      "\u001b[0m"
     ]
    },
    {
     "name": "stderr",
     "output_type": "stream",
     "text": [
      "episode: 317/3000  10% ETA:  0:09:49 |----                                   | \r"
     ]
    },
    {
     "name": "stdout",
     "output_type": "stream",
     "text": [
      "\u001b[41mEpisode 316 with 32 steps || Reward : [0.   0.09] || avg reward :  0.021 || Noise  0.969 || 0.379 seconds, mem : 5504\n",
      "\u001b[0m"
     ]
    },
    {
     "name": "stderr",
     "output_type": "stream",
     "text": [
      "episode: 321/3000  10% ETA:  0:09:50 |\\\\\\\\                                   | \r"
     ]
    },
    {
     "name": "stdout",
     "output_type": "stream",
     "text": [
      "Episode 320 with 33 steps || Reward : [ 0.   -0.01] || avg reward :  0.020 || Noise  0.968 || 0.415 seconds, mem : 5580\n",
      "\u001b[0m"
     ]
    },
    {
     "name": "stderr",
     "output_type": "stream",
     "text": [
      "episode: 328/3000  10% ETA:  0:09:54 |////                                   | \r"
     ]
    },
    {
     "name": "stdout",
     "output_type": "stream",
     "text": [
      "\u001b[41mEpisode 329 with 32 steps || Reward : [0.   0.09] || avg reward :  0.019 || Noise  0.968 || 0.210 seconds, mem : 5725\n",
      "\u001b[0m"
     ]
    },
    {
     "name": "stderr",
     "output_type": "stream",
     "text": [
      "episode: 332/3000  11% ETA:  0:09:54 |----                                   | \r"
     ]
    },
    {
     "name": "stdout",
     "output_type": "stream",
     "text": [
      "\u001b[41mEpisode 332 with 29 steps || Reward : [ 0.1  -0.01] || avg reward :  0.020 || Noise  0.967 || 0.280 seconds, mem : 5782\n",
      "\u001b[0m"
     ]
    },
    {
     "name": "stderr",
     "output_type": "stream",
     "text": [
      "episode: 338/3000  11% ETA:  0:09:51 |\\\\\\\\                                   | \r"
     ]
    },
    {
     "name": "stdout",
     "output_type": "stream",
     "text": [
      "\u001b[41mEpisode 338 with 31 steps || Reward : [ 0.1  -0.01] || avg reward :  0.020 || Noise  0.967 || 0.170 seconds, mem : 5884\n",
      "\u001b[0m\u001b[41mEpisode 340 with 32 steps || Reward : [ 0.1  -0.01] || avg reward :  0.021 || Noise  0.966 || 0.176 seconds, mem : 5930\n",
      "\u001b[0m"
     ]
    },
    {
     "name": "stderr",
     "output_type": "stream",
     "text": [
      "episode: 349/3000  11% ETA:  0:09:38 |||||                                   | \r"
     ]
    },
    {
     "name": "stdout",
     "output_type": "stream",
     "text": [
      "\u001b[41mEpisode 348 with 31 steps || Reward : [0.   0.09] || avg reward :  0.018 || Noise  0.966 || 0.167 seconds, mem : 6060\n",
      "\u001b[0m\u001b[41mEpisode 349 with 32 steps || Reward : [0.   0.09] || avg reward :  0.019 || Noise  0.966 || 0.109 seconds, mem : 6092\n",
      "\u001b[0m\u001b[41mEpisode 350 with 30 steps || Reward : [ 0.1  -0.01] || avg reward :  0.020 || Noise  0.966 || 0.193 seconds, mem : 6122\n",
      "\u001b[0m\u001b[41mEpisode 351 with 31 steps || Reward : [ 0.1  -0.01] || avg reward :  0.021 || Noise  0.965 || 0.298 seconds, mem : 6153\n",
      "\u001b[0m"
     ]
    },
    {
     "name": "stderr",
     "output_type": "stream",
     "text": [
      "episode: 353/3000  11% ETA:  0:09:39 |////                                   | \r"
     ]
    },
    {
     "name": "stdout",
     "output_type": "stream",
     "text": [
      "\u001b[41mEpisode 352 with 31 steps || Reward : [ 0.1  -0.01] || avg reward :  0.021 || Noise  0.965 || 0.485 seconds, mem : 6184\n",
      "\u001b[0m"
     ]
    },
    {
     "name": "stderr",
     "output_type": "stream",
     "text": [
      "episode: 359/3000  11% ETA:  0:09:37 |----                                   | \r"
     ]
    },
    {
     "name": "stdout",
     "output_type": "stream",
     "text": [
      "Episode 360 with 14 steps || Reward : [ 0.   -0.01] || avg reward :  0.020 || Noise  0.965 || 0.267 seconds, mem : 6298\n",
      "\u001b[0m\u001b[41mEpisode 361 with 32 steps || Reward : [ 0.1  -0.01] || avg reward :  0.020 || Noise  0.964 || 0.245 seconds, mem : 6330\n",
      "\u001b[0m"
     ]
    },
    {
     "name": "stderr",
     "output_type": "stream",
     "text": [
      "episode: 364/3000  12% ETA:  0:09:35 |\\\\\\\\                                   | \r"
     ]
    },
    {
     "name": "stdout",
     "output_type": "stream",
     "text": [
      "\u001b[41mEpisode 363 with 32 steps || Reward : [0.   0.09] || avg reward :  0.020 || Noise  0.964 || 0.183 seconds, mem : 6376\n",
      "\u001b[0m\u001b[41mEpisode 366 with 31 steps || Reward : [ 0.1  -0.01] || avg reward :  0.021 || Noise  0.964 || 0.304 seconds, mem : 6435\n",
      "\u001b[0m\u001b[44mEpisode 367 with 32 steps || Reward : [0.1  0.09] || avg reward :  0.021 || Noise  0.964 || 0.177 seconds, mem : 6467\n",
      "\u001b[0m"
     ]
    },
    {
     "name": "stderr",
     "output_type": "stream",
     "text": [
      "episode: 369/3000  12% ETA:  0:09:34 |||||                                   | \r"
     ]
    },
    {
     "name": "stdout",
     "output_type": "stream",
     "text": [
      "\u001b[41mEpisode 369 with 31 steps || Reward : [ 0.1  -0.01] || avg reward :  0.022 || Noise  0.964 || 0.229 seconds, mem : 6512\n",
      "\u001b[0m"
     ]
    },
    {
     "name": "stderr",
     "output_type": "stream",
     "text": [
      "episode: 381/3000  12% ETA:  0:09:30 |----                                   | \r"
     ]
    },
    {
     "name": "stdout",
     "output_type": "stream",
     "text": [
      "\u001b[41mEpisode 380 with 30 steps || Reward : [ 0.1  -0.01] || avg reward :  0.019 || Noise  0.963 || 0.417 seconds, mem : 6684\n",
      "\u001b[0m\u001b[41mEpisode 385 with 31 steps || Reward : [ 0.1  -0.01] || avg reward :  0.019 || Noise  0.962 || 0.222 seconds, mem : 6780\n",
      "\u001b[0m"
     ]
    },
    {
     "name": "stderr",
     "output_type": "stream",
     "text": [
      "episode: 387/3000  12% ETA:  0:09:27 |\\\\\\\\\\                                  | \r"
     ]
    },
    {
     "name": "stdout",
     "output_type": "stream",
     "text": [
      "\u001b[41mEpisode 390 with 31 steps || Reward : [0.   0.09] || avg reward :  0.020 || Noise  0.962 || 0.399 seconds, mem : 6868\n",
      "\u001b[0m"
     ]
    },
    {
     "name": "stderr",
     "output_type": "stream",
     "text": [
      "episode: 393/3000  13% ETA:  0:09:24 ||||||                                  | \r"
     ]
    },
    {
     "name": "stdout",
     "output_type": "stream",
     "text": [
      "\u001b[41mEpisode 394 with 30 steps || Reward : [ 0.1  -0.01] || avg reward :  0.020 || Noise  0.961 || 0.362 seconds, mem : 6941\n",
      "\u001b[0m"
     ]
    },
    {
     "name": "stderr",
     "output_type": "stream",
     "text": [
      "episode: 399/3000  13% ETA:  0:09:22 |/////                                  | \r"
     ]
    },
    {
     "name": "stdout",
     "output_type": "stream",
     "text": [
      "Episode 400 with 15 steps || Reward : [ 0.   -0.01] || avg reward :  0.020 || Noise  0.961 || 0.485 seconds, mem : 7027\n",
      "\u001b[0m"
     ]
    },
    {
     "name": "stderr",
     "output_type": "stream",
     "text": [
      "episode: 405/3000  13% ETA:  0:09:20 |-----                                  | \r"
     ]
    },
    {
     "name": "stdout",
     "output_type": "stream",
     "text": [
      "\u001b[41mEpisode 406 with 31 steps || Reward : [ 0.1  -0.01] || avg reward :  0.020 || Noise  0.960 || 0.357 seconds, mem : 7128\n",
      "\u001b[0m"
     ]
    },
    {
     "name": "stderr",
     "output_type": "stream",
     "text": [
      "episode: 417/3000  13% ETA:  0:09:15 ||||||                                  | \r"
     ]
    },
    {
     "name": "stdout",
     "output_type": "stream",
     "text": [
      "\u001b[41mEpisode 416 with 27 steps || Reward : [ 0.1  -0.01] || avg reward :  0.020 || Noise  0.959 || 0.374 seconds, mem : 7283\n",
      "\u001b[0mEpisode 420 with 14 steps || Reward : [-0.01  0.  ] || avg reward :  0.020 || Noise  0.959 || 0.201 seconds, mem : 7339\n",
      "\u001b[0m\u001b[41mEpisode 421 with 31 steps || Reward : [ 0.1  -0.01] || avg reward :  0.021 || Noise  0.959 || 0.274 seconds, mem : 7370\n",
      "\u001b[0m"
     ]
    },
    {
     "name": "stderr",
     "output_type": "stream",
     "text": [
      "episode: 423/3000  14% ETA:  0:09:14 |/////                                  | \r"
     ]
    },
    {
     "name": "stdout",
     "output_type": "stream",
     "text": [
      "\u001b[41mEpisode 423 with 33 steps || Reward : [ 0.1  -0.01] || avg reward :  0.022 || Noise  0.958 || 0.217 seconds, mem : 7417\n",
      "\u001b[0m\u001b[41mEpisode 424 with 32 steps || Reward : [ 0.1  -0.01] || avg reward :  0.023 || Noise  0.958 || 0.360 seconds, mem : 7449\n",
      "\u001b[0m"
     ]
    },
    {
     "name": "stderr",
     "output_type": "stream",
     "text": [
      "episode: 428/3000  14% ETA:  0:09:13 |-----                                  | \r"
     ]
    },
    {
     "name": "stdout",
     "output_type": "stream",
     "text": [
      "\u001b[41mEpisode 430 with 27 steps || Reward : [0.09 0.  ] || avg reward :  0.023 || Noise  0.958 || 0.380 seconds, mem : 7559\n",
      "\u001b[0m"
     ]
    },
    {
     "name": "stderr",
     "output_type": "stream",
     "text": [
      "episode: 433/3000  14% ETA:  0:09:12 |\\\\\\\\\\                                  | \r"
     ]
    },
    {
     "name": "stdout",
     "output_type": "stream",
     "text": [
      "\u001b[41mEpisode 435 with 30 steps || Reward : [ 0.1  -0.01] || avg reward :  0.023 || Noise  0.957 || 0.251 seconds, mem : 7645\n",
      "\u001b[0m"
     ]
    },
    {
     "name": "stderr",
     "output_type": "stream",
     "text": [
      "episode: 439/3000  14% ETA:  0:09:09 ||||||                                  | \r"
     ]
    },
    {
     "name": "stdout",
     "output_type": "stream",
     "text": [
      "\u001b[41mEpisode 439 with 24 steps || Reward : [ 0.1  -0.01] || avg reward :  0.023 || Noise  0.957 || 0.146 seconds, mem : 7712\n",
      "\u001b[0mEpisode 440 with 14 steps || Reward : [-0.01  0.  ] || avg reward :  0.022 || Noise  0.957 || 0.200 seconds, mem : 7726\n",
      "\u001b[0m\u001b[41mEpisode 443 with 31 steps || Reward : [ 0.1  -0.01] || avg reward :  0.023 || Noise  0.957 || 0.181 seconds, mem : 7786\n",
      "\u001b[0m"
     ]
    },
    {
     "name": "stderr",
     "output_type": "stream",
     "text": [
      "episode: 445/3000  14% ETA:  0:09:08 |/////                                  | \r"
     ]
    },
    {
     "name": "stdout",
     "output_type": "stream",
     "text": [
      "\u001b[41mEpisode 444 with 31 steps || Reward : [ 0.1  -0.01] || avg reward :  0.024 || Noise  0.956 || 0.310 seconds, mem : 7817\n",
      "\u001b[0m\u001b[41mEpisode 446 with 31 steps || Reward : [-0.01  0.1 ] || avg reward :  0.025 || Noise  0.956 || 0.493 seconds, mem : 7862\n",
      "\u001b[0m\u001b[41mEpisode 447 with 31 steps || Reward : [ 0.1  -0.01] || avg reward :  0.026 || Noise  0.956 || 0.171 seconds, mem : 7893\n",
      "\u001b[0m"
     ]
    },
    {
     "name": "stderr",
     "output_type": "stream",
     "text": [
      "episode: 449/3000  14% ETA:  0:09:08 |-----                                  | \r"
     ]
    },
    {
     "name": "stdout",
     "output_type": "stream",
     "text": [
      "\u001b[41mEpisode 449 with 31 steps || Reward : [ 0.1  -0.01] || avg reward :  0.025 || Noise  0.956 || 0.301 seconds, mem : 7938\n",
      "\u001b[0m"
     ]
    },
    {
     "name": "stderr",
     "output_type": "stream",
     "text": [
      "episode: 455/3000  15% ETA:  0:09:07 |\\\\\\\\\\                                  | \r"
     ]
    },
    {
     "name": "stdout",
     "output_type": "stream",
     "text": [
      "\u001b[41mEpisode 454 with 30 steps || Reward : [ 0.1  -0.01] || avg reward :  0.023 || Noise  0.956 || 0.405 seconds, mem : 8025\n",
      "\u001b[0m\u001b[41mEpisode 458 with 31 steps || Reward : [ 0.1  -0.01] || avg reward :  0.024 || Noise  0.955 || 0.346 seconds, mem : 8099\n",
      "\u001b[0m"
     ]
    },
    {
     "name": "stderr",
     "output_type": "stream",
     "text": [
      "episode: 460/3000  15% ETA:  0:09:06 ||||||                                  | \r"
     ]
    },
    {
     "name": "stdout",
     "output_type": "stream",
     "text": [
      "\u001b[41mEpisode 459 with 29 steps || Reward : [ 0.1  -0.01] || avg reward :  0.025 || Noise  0.955 || 0.341 seconds, mem : 8128\n",
      "\u001b[0mEpisode 460 with 15 steps || Reward : [ 0.   -0.01] || avg reward :  0.025 || Noise  0.955 || 0.290 seconds, mem : 8143\n",
      "\u001b[0m\u001b[41mEpisode 461 with 30 steps || Reward : [ 0.1  -0.02] || avg reward :  0.025 || Noise  0.955 || 0.194 seconds, mem : 8173\n",
      "\u001b[0m\u001b[41mEpisode 462 with 32 steps || Reward : [0.   0.09] || avg reward :  0.026 || Noise  0.955 || 0.380 seconds, mem : 8205\n",
      "\u001b[0m"
     ]
    },
    {
     "name": "stderr",
     "output_type": "stream",
     "text": [
      "episode: 464/3000  15% ETA:  0:09:07 |//////                                 | \r"
     ]
    },
    {
     "name": "stdout",
     "output_type": "stream",
     "text": [
      "\u001b[41mEpisode 463 with 31 steps || Reward : [ 0.1  -0.01] || avg reward :  0.026 || Noise  0.955 || 0.279 seconds, mem : 8236\n",
      "\u001b[0m\u001b[41mEpisode 465 with 29 steps || Reward : [ 0.1  -0.01] || avg reward :  0.027 || Noise  0.954 || 0.166 seconds, mem : 8280\n",
      "\u001b[0m"
     ]
    },
    {
     "name": "stderr",
     "output_type": "stream",
     "text": [
      "episode: 475/3000  15% ETA:  0:09:03 |\\\\\\\\\\\\                                 | \r"
     ]
    },
    {
     "name": "stdout",
     "output_type": "stream",
     "text": [
      "\u001b[41mEpisode 479 with 30 steps || Reward : [ 0.1  -0.01] || avg reward :  0.025 || Noise  0.953 || 0.213 seconds, mem : 8493\n",
      "\u001b[0m"
     ]
    },
    {
     "name": "stderr",
     "output_type": "stream",
     "text": [
      "episode: 481/3000  16% ETA:  0:09:00 |||||||                                 | \r"
     ]
    },
    {
     "name": "stdout",
     "output_type": "stream",
     "text": [
      "Episode 480 with 15 steps || Reward : [ 0.   -0.01] || avg reward :  0.024 || Noise  0.953 || 0.218 seconds, mem : 8508\n",
      "\u001b[0m\u001b[41mEpisode 485 with 31 steps || Reward : [ 0.1  -0.01] || avg reward :  0.024 || Noise  0.953 || 0.187 seconds, mem : 8595\n",
      "\u001b[0m"
     ]
    },
    {
     "name": "stderr",
     "output_type": "stream",
     "text": [
      "episode: 493/3000  16% ETA:  0:08:56 |------                                 | \r"
     ]
    },
    {
     "name": "stdout",
     "output_type": "stream",
     "text": [
      "\u001b[41mEpisode 492 with 32 steps || Reward : [ 0.1  -0.01] || avg reward :  0.024 || Noise  0.952 || 0.328 seconds, mem : 8720\n",
      "\u001b[0m\u001b[41mEpisode 493 with 30 steps || Reward : [ 0.1  -0.01] || avg reward :  0.025 || Noise  0.952 || 0.253 seconds, mem : 8750\n",
      "\u001b[0m\u001b[41mEpisode 494 with 28 steps || Reward : [ 0.1  -0.01] || avg reward :  0.025 || Noise  0.952 || 0.314 seconds, mem : 8778\n",
      "\u001b[0m"
     ]
    },
    {
     "name": "stderr",
     "output_type": "stream",
     "text": [
      "episode: 498/3000  16% ETA:  0:08:55 |\\\\\\\\\\\\                                 | \r"
     ]
    },
    {
     "name": "stdout",
     "output_type": "stream",
     "text": [
      "\u001b[41mEpisode 496 with 31 steps || Reward : [ 0.1  -0.01] || avg reward :  0.026 || Noise  0.952 || 0.313 seconds, mem : 8823\n",
      "\u001b[0mEpisode 500 with 14 steps || Reward : [ 0.   -0.01] || avg reward :  0.026 || Noise  0.951 || 0.212 seconds, mem : 8880\n",
      "\u001b[0m\u001b[41mEpisode 501 with 31 steps || Reward : [0.   0.09] || avg reward :  0.027 || Noise  0.951 || 0.211 seconds, mem : 8911\n",
      "\u001b[0m"
     ]
    },
    {
     "name": "stderr",
     "output_type": "stream",
     "text": [
      "episode: 503/3000  16% ETA:  0:08:54 |||||||                                 | \r"
     ]
    },
    {
     "name": "stdout",
     "output_type": "stream",
     "text": [
      "\u001b[41mEpisode 502 with 30 steps || Reward : [ 0.1  -0.01] || avg reward :  0.028 || Noise  0.951 || 0.378 seconds, mem : 8941\n",
      "\u001b[0m\u001b[41mEpisode 507 with 30 steps || Reward : [ 0.1  -0.01] || avg reward :  0.028 || Noise  0.950 || 0.181 seconds, mem : 9027\n",
      "\u001b[0m"
     ]
    },
    {
     "name": "stderr",
     "output_type": "stream",
     "text": [
      "episode: 509/3000  16% ETA:  0:08:52 |//////                                 | \r"
     ]
    },
    {
     "name": "stdout",
     "output_type": "stream",
     "text": [
      "\u001b[41mEpisode 509 with 29 steps || Reward : [ 0.1  -0.01] || avg reward :  0.029 || Noise  0.950 || 0.197 seconds, mem : 9070\n",
      "\u001b[0m"
     ]
    },
    {
     "name": "stderr",
     "output_type": "stream",
     "text": [
      "episode: 513/3000  17% ETA:  0:08:52 |------                                 | \r"
     ]
    },
    {
     "name": "stdout",
     "output_type": "stream",
     "text": [
      "\u001b[41mEpisode 513 with 30 steps || Reward : [ 0.1  -0.01] || avg reward :  0.030 || Noise  0.950 || 0.222 seconds, mem : 9143\n",
      "\u001b[0m"
     ]
    },
    {
     "name": "stderr",
     "output_type": "stream",
     "text": [
      "episode: 521/3000  17% ETA:  0:08:54 |||||||                                 | \r"
     ]
    },
    {
     "name": "stdout",
     "output_type": "stream",
     "text": [
      "Episode 520 with 15 steps || Reward : [-0.01  0.  ] || avg reward :  0.029 || Noise  0.949 || 0.199 seconds, mem : 9243\n",
      "\u001b[0m\u001b[41mEpisode 523 with 30 steps || Reward : [ 0.1  -0.01] || avg reward :  0.028 || Noise  0.949 || 0.220 seconds, mem : 9301\n",
      "\u001b[0m\u001b[41mEpisode 524 with 33 steps || Reward : [-0.01  0.1 ] || avg reward :  0.028 || Noise  0.949 || 0.331 seconds, mem : 9334\n",
      "\u001b[0m"
     ]
    },
    {
     "name": "stderr",
     "output_type": "stream",
     "text": [
      "episode: 527/3000  17% ETA:  0:08:52 |//////                                 | \r"
     ]
    },
    {
     "name": "stdout",
     "output_type": "stream",
     "text": [
      "\u001b[41mEpisode 527 with 30 steps || Reward : [ 0.1  -0.01] || avg reward :  0.029 || Noise  0.949 || 0.231 seconds, mem : 9400\n",
      "\u001b[0m\u001b[44mEpisode 531 with 37 steps || Reward : [0.1  0.09] || avg reward :  0.029 || Noise  0.948 || 0.191 seconds, mem : 9480\n",
      "\u001b[0m"
     ]
    },
    {
     "name": "stderr",
     "output_type": "stream",
     "text": [
      "episode: 533/3000  17% ETA:  0:08:50 |------                                 | \r"
     ]
    },
    {
     "name": "stdout",
     "output_type": "stream",
     "text": [
      "\u001b[41mEpisode 533 with 30 steps || Reward : [0.   0.09] || avg reward :  0.030 || Noise  0.948 || 0.234 seconds, mem : 9524\n",
      "\u001b[0m"
     ]
    },
    {
     "name": "stderr",
     "output_type": "stream",
     "text": [
      "episode: 537/3000  17% ETA:  0:08:51 |\\\\\\\\\\\\                                 | \r"
     ]
    },
    {
     "name": "stdout",
     "output_type": "stream",
     "text": [
      "\u001b[41mEpisode 537 with 32 steps || Reward : [0.   0.09] || avg reward :  0.030 || Noise  0.948 || 0.298 seconds, mem : 9612\n",
      "\u001b[0m"
     ]
    },
    {
     "name": "stderr",
     "output_type": "stream",
     "text": [
      "episode: 539/3000  17% ETA:  0:08:53 ||||||||                                | \r"
     ]
    },
    {
     "name": "stdout",
     "output_type": "stream",
     "text": [
      "\u001b[41mEpisode 538 with 30 steps || Reward : [ 0.1  -0.01] || avg reward :  0.031 || Noise  0.948 || 0.699 seconds, mem : 9642\n",
      "\u001b[0mEpisode 540 with 14 steps || Reward : [ 0.   -0.01] || avg reward :  0.030 || Noise  0.947 || 0.352 seconds, mem : 9670\n",
      "\u001b[0m\u001b[41mEpisode 542 with 30 steps || Reward : [ 0.1  -0.01] || avg reward :  0.031 || Noise  0.947 || 0.410 seconds, mem : 9714\n",
      "\u001b[0m"
     ]
    },
    {
     "name": "stderr",
     "output_type": "stream",
     "text": [
      "episode: 544/3000  18% ETA:  0:08:53 |///////                                | \r"
     ]
    },
    {
     "name": "stdout",
     "output_type": "stream",
     "text": [
      "\u001b[41mEpisode 543 with 29 steps || Reward : [ 0.1  -0.01] || avg reward :  0.031 || Noise  0.947 || 0.205 seconds, mem : 9743\n",
      "\u001b[0m\u001b[41mEpisode 544 with 30 steps || Reward : [ 0.1  -0.01] || avg reward :  0.031 || Noise  0.947 || 0.304 seconds, mem : 9773\n",
      "\u001b[0m"
     ]
    },
    {
     "name": "stderr",
     "output_type": "stream",
     "text": [
      "episode: 549/3000  18% ETA:  0:08:51 |-------                                | \r"
     ]
    }
   ],
   "source": [
    "from maddpg import maddpg\n",
    "import cProfile\n",
    "DoProfile = False\n",
    "\n",
    "config = {\n",
    "    'gamma'               : 0.99,\n",
    "    'tau'                 : 0.01,\n",
    "    'action_size'         : action_size,\n",
    "    'state_size'          : state_size,\n",
    "    'hidden_size'         : 256,\n",
    "    'buffer_size'         : 50000,\n",
    "    'batch_size'          : 256,\n",
    "    'seed'                : 6,\n",
    "    'max_episodes'        : 3000,\n",
    "    'dropout'             : 0.01,      # currently not active\n",
    "    'learn_every'         : 2,\n",
    "    'critic_learning_rate': 1e-3,\n",
    "    'actor_learning_rate' : 1e-3,\n",
    "    'noise_decay'         : 0.9999,\n",
    "    'sigma'               : 0.6,\n",
    "    'num_agents'          : num_agents,\n",
    "    'env_file_name'       : env_file_name,\n",
    "    'train_mode'          : True,\n",
    "    'brain_name'          : brain_name}\n",
    "\n",
    "def print_config(config):\n",
    "    print('Config Parameters    : ')\n",
    "    for c,k in config.items():\n",
    "        print('{:20s} : {}'.format(c,k))\n",
    "\n",
    "config_list = []\n",
    "result_list = []\n",
    "var_range = []\n",
    "# batch = [512,1024]\n",
    "# nd = [0.999, 0.998]\n",
    "# for l in learn:\n",
    "    # for b in batch:\n",
    "        # var_range.append([l,b])\n",
    "        # for h in hidden:\n",
    "            # for n in nd:\n",
    "var_range = [0.9999, 0.99995, 0.999975] # , 0.6, 0.7, 0.8] #, 0.45, 0.5]\n",
    "# var_range = [0.9998, 0.9999, 0.99995] # , 0.0003, 0.0005, 0.001]# [0.2, 0.25, 0.3]\n",
    "selected_seeds = [8,16] # [7,9,13,15]\n",
    "# num_runs = 10\n",
    "for param in range(len(var_range)):\n",
    "    alt_config = config.copy()\n",
    "    alt_config['noise_decay'] = var_range[param]\n",
    "    # alt_config['noise_scale_trigger'] = var_range[param]\n",
    "    # alt_config['actor_learning_rate'] = var_range[param]\n",
    "    # alt_config['learn_every_low'] = var_range[param][0]\n",
    "    num_runs = len(selected_seeds)\n",
    "    for main in range(num_runs):#len(tau_range)):\n",
    "        print('-------------------------------------')\n",
    "        print('New Run :')\n",
    "        print('-------------------------------------')\n",
    "        # alt_config['seed'] += 1\n",
    "        alt_config['seed'] = selected_seeds[main]\n",
    "        print_config(alt_config)\n",
    "        config_list.append(alt_config.copy())\n",
    "        agent = maddpg(env, alt_config)\n",
    "        if DoProfile:cProfile.run(\"results = agent.train()\",'PerfStats')\n",
    "        else:results = agent.train()\n",
    "        result_list.append(results)\n",
    "        # all_rewards,avg_rewards,critic_losses,actor_losses = agent.train()\n",
    "        print_config(alt_config)\n",
    "        plot_results(results)\n",
    "print('-------------------------------------')\n",
    "print('-------------------------------------')\n",
    "print('Summary :')\n",
    "print('-------------------------------------')\n",
    "print('-------------------------------------')\n",
    "for param in range(len(var_range)):\n",
    "    for main in range(num_runs):\n",
    "        print_config(config_list[param*num_runs+main])\n",
    "        plot_results(result_list[param*num_runs+main])\n",
    "    \n",
    "env.close()"
   ]
  },
  {
   "cell_type": "markdown",
   "metadata": {},
   "source": [
    "# 4. It's Your Turn!\n",
    "\n",
    "Now it's your turn to train your own agent to solve the environment!  When training the environment, set `train_mode=True`, so that the line for resetting the environment looks like the following:\n",
    "```python\n",
    "env_info = env.reset(train_mode=True)[brain_name]\n",
    "```"
   ]
  },
  {
   "cell_type": "code",
   "execution_count": null,
   "metadata": {},
   "outputs": [],
   "source": []
  }
 ],
 "metadata": {
  "kernelspec": {
   "display_name": "Python 3",
   "language": "python",
   "name": "python3"
  },
  "language_info": {
   "codemirror_mode": {
    "name": "ipython",
    "version": 3
   },
   "file_extension": ".py",
   "mimetype": "text/x-python",
   "name": "python",
   "nbconvert_exporter": "python",
   "pygments_lexer": "ipython3",
   "version": "3.6.10"
  }
 },
 "nbformat": 4,
 "nbformat_minor": 2
}
